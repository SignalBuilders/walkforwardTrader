{
 "cells": [
  {
   "cell_type": "code",
   "execution_count": 1,
   "metadata": {
    "collapsed": true
   },
   "outputs": [],
   "source": [
    "import dataAck\n",
    "import portfolio\n",
    "import time\n",
    "import hashlib\n",
    "import sys\n",
    "import pandas as pd\n",
    "import warnings\n",
    "warnings.filterwarnings(\"ignore\")"
   ]
  },
  {
   "cell_type": "code",
   "execution_count": 2,
   "metadata": {
    "collapsed": false
   },
   "outputs": [
    {
     "data": {
      "text/plain": [
       "[{'description': 'XLY 08-11-17',\n",
       "  'key': '8d2f03a0255fb23c126417c182491b9c7d5d8181e30e4f51b67022ae'}]"
      ]
     },
     "execution_count": 2,
     "metadata": {},
     "output_type": "execute_result"
    }
   ],
   "source": [
    "##GET PREDICTIONS OF ALL MODELS IN A PORTFOLIO\n",
    "\n",
    "allPortfolios = portfolio.getPortfolios()\n",
    "allPortfolios"
   ]
  },
  {
   "cell_type": "code",
   "execution_count": 3,
   "metadata": {
    "collapsed": false
   },
   "outputs": [
    {
     "name": "stdout",
     "output_type": "stream",
     "text": [
      "{'key': '8d2f03a0255fb23c126417c182491b9c7d5d8181e30e4f51b67022ae', 'description': 'XLY 08-11-17'}\n",
      "((10, ('EWT', 33, None, None), 5, 'XLY'), 10, 250)\n",
      "((10, ('EWT', 33, None, None), 3, 'XLY'), 10, 50)\n"
     ]
    }
   ],
   "source": [
    "allModels = []\n",
    "modelsInPortfolio = {}\n",
    "for portfolioInfo in allPortfolios:\n",
    "    print(portfolioInfo)\n",
    "    models = portfolio.getModelsByKey(portfolio.getPortfolioModels(portfolioInfo[\"key\"]))\n",
    "    modelsInPortfolio[portfolioInfo[\"key\"]] = models\n",
    "    allModels += models\n",
    "    for model in models:\n",
    "        print(model.describe())\n",
    "    "
   ]
  },
  {
   "cell_type": "code",
   "execution_count": 4,
   "metadata": {
    "collapsed": false
   },
   "outputs": [
    {
     "name": "stdout",
     "output_type": "stream",
     "text": [
      "((10, ('EWT', 33, None, None), 5, 'XLY'), 10, 250)\n",
      "((10, ('EWT', 33, None, None), 3, 'XLY'), 10, 50)\n",
      "EWT\n",
      "XLY\n"
     ]
    }
   ],
   "source": [
    "tickersRequired = []\n",
    "tickersTraded = []\n",
    "for mod in allModels:\n",
    "    print(mod.describe())\n",
    "    if mod.inputSeries.targetTicker not in tickersRequired:\n",
    "        tickersRequired.append(mod.inputSeries.targetTicker)\n",
    "    if mod.inputSeries.series.ticker not in tickersRequired:\n",
    "        tickersRequired.append(mod.inputSeries.series.ticker)\n",
    "    if mod.inputSeries.targetTicker not in tickersTraded:\n",
    "        tickersTraded.append(mod.inputSeries.targetTicker)\n",
    "    \n",
    "pulledData, validTickers = dataAck.downloadTickerData(tickersRequired)\n",
    "\n",
    "joinedData = dataAck.joinDatasets([pulledData[ticker] for ticker in pulledData])"
   ]
  },
  {
   "cell_type": "code",
   "execution_count": 2,
   "metadata": {
    "collapsed": true
   },
   "outputs": [],
   "source": [
    "from google.cloud import datastore, storage, logging\n",
    "import time\n",
    "import params"
   ]
  },
  {
   "cell_type": "code",
   "execution_count": 6,
   "metadata": {
    "collapsed": false
   },
   "outputs": [
    {
     "name": "stdout",
     "output_type": "stream",
     "text": [
      "((10, ('EWT', 33, None, None), 5, 'XLY'), 10, 250)\n",
      "((10, ('EWT', 33, None, None), 3, 'XLY'), 10, 50)\n"
     ]
    }
   ],
   "source": [
    "##GENERATE AGGREGATE RETURNS FOR ALL MODELS\n",
    "aggregateReturns = portfolio.generateAggregateReturns(allModels, joinedData)"
   ]
  },
  {
   "cell_type": "code",
   "execution_count": 7,
   "metadata": {
    "collapsed": true
   },
   "outputs": [],
   "source": [
    "def storePortfolioAllocation(portfolioKey, lastDataDayUsed, algorithmWeights, tickerAllocation):\n",
    "    toUpload = {}\n",
    "    toUpload[\"portfolio\"] = portfolioKey\n",
    "    toUpload[\"lastDataDayUsed\"] = lastDataDayUsed\n",
    "    \n",
    "    for item in algorithmWeights:\n",
    "        print(item, algorithmWeights[item])\n",
    "        toUpload[\"algo_\" + item] = algorithmWeights[item]\n",
    "    \n",
    "    for item in tickerAllocation:\n",
    "        toUpload[\"ticker_\" + item] = tickerAllocation[item]\n",
    "    \n",
    "    ##UPLOAD ORGANISM OBJECT\n",
    "    while True:\n",
    "        try:\n",
    "            datastoreClient = datastore.Client('money-maker-1236')\n",
    "            #HASH DIGEST\n",
    "            predictionHash = hashlib.sha224((str(portfolioKey) + \" \" + str(toUpload[\"lastDataDayUsed\"])).encode('utf-8')).hexdigest()\n",
    "            key = datastoreClient.key(params.portfolioAllocation, predictionHash) #NEED TO HASH TO ENSURE NON-OVERLAPPING PREDICTIONS\n",
    "            organismToStore = datastore.Entity(key=key)\n",
    "            organismToStore.update(toUpload)\n",
    "            datastoreClient.put(organismToStore)\n",
    "            break\n",
    "        except:\n",
    "            print(\"UPLOAD ERROR:\", str(sys.exc_info()))\n",
    "            time.sleep(10)"
   ]
  },
  {
   "cell_type": "code",
   "execution_count": null,
   "metadata": {
    "collapsed": true
   },
   "outputs": [],
   "source": [
    "def produceHRPPredictions(aggregateReturns, windowSize, maxWindowSize = False):\n",
    "    hrpReturns = pd.DataFrame([])\n",
    "    historicalWeights = pd.DataFrame([])\n",
    "    i = windowSize\n",
    "    while i < len(aggregateReturns):\n",
    "        corr = None\n",
    "        cov = None\n",
    "        if maxWindowSize == False:\n",
    "            corr = (aggregateReturns[:i]).corr()\n",
    "            cov = (aggregateReturns[:i]).cov()\n",
    "        else:\n",
    "            corr = (aggregateReturns[i-windowSize:i]).corr()\n",
    "            cov = (aggregateReturns[i-windowSize:i]).cov()\n",
    "        weights = hrp.getHRP(cov, corr)\n",
    "    #     display(weights)\n",
    "    #     display(aggregateReturns[i+windowSize:i+windowSize+1])\n",
    "        todayReturn = aggregateReturns[i:i+1] * weights\n",
    "    #     display(todayReturn)\n",
    "        sumReturn = pd.DataFrame(todayReturn.apply(lambda x:sum(x), axis=1))\n",
    "        hrpReturns = pd.concat([hrpReturns, sumReturn])\n",
    "        i += 1\n",
    "    return hrpReturns, weights"
   ]
  },
  {
   "cell_type": "code",
   "execution_count": null,
   "metadata": {
    "collapsed": true
   },
   "outputs": [],
   "source": [
    "##GET AGGREGATE PREDICTION FOR A MODEL\n",
    "#portfolio.storeAggregateModelPrediction(thisModel, thisDF.values[j][0], thisDF.index[j], shouldReturn=True)\n"
   ]
  },
  {
   "cell_type": "code",
   "execution_count": 8,
   "metadata": {
    "collapsed": false
   },
   "outputs": [
    {
     "name": "stdout",
     "output_type": "stream",
     "text": [
      "8d2f03a0255fb23c126417c182491b9c7d5d8181e30e4f51b67022ae ((10, ('EWT', 33, None, None), 3, 'XLY'), 10, 50)     0.707599\n",
      "((10, ('EWT', 33, None, None), 5, 'XLY'), 10, 250)    0.292401\n",
      "dtype: float64\n",
      "((10, ('EWT', 33, None, None), 5, 'XLY'), 10, 250) [-1.0, 1.0, -1.0, -1.0, 1.0] -0.2\n",
      "((10, ('EWT', 33, None, None), 3, 'XLY'), 10, 50) [1.0, -1.0, -1.0] -0.3333333333333333\n",
      "8d2f03a0255fb23c126417c182491b9c7d5d8181e30e4f51b67022ae {'XLY': -0.29434651834238768}\n",
      "((10, ('EWT', 33, None, None), 3, 'XLY'), 10, 50) 0.707598887568\n",
      "((10, ('EWT', 33, None, None), 5, 'XLY'), 10, 250) 0.292401112432\n"
     ]
    }
   ],
   "source": [
    "##GENERATE WEIGHTS FOR PORTFOLIO\n",
    "for portfolioKey in modelsInPortfolio:\n",
    "    hrpReturns, weights = produceHRPPredictions(aggregateReturns[[str(model.describe()) for model in modelsInPortfolio[portfolioKey]]], 22, True)\n",
    "    print(portfolioKey, weights)\n",
    "    \n",
    "    netPosition = {}\n",
    "    for model in modelsInPortfolio[portfolioKey]:\n",
    "        if model.inputSeries.targetTicker not in netPosition:\n",
    "            netPosition[model.inputSeries.targetTicker] = 0.0\n",
    "        netPosition[model.inputSeries.targetTicker] += weights[str(model.describe())] * portfolio.getAggregatePredictionForModelDaily(model, joinedData)\n",
    "    print(portfolioKey, netPosition)\n",
    "    storePortfolioAllocation(portfolioKey, joinedData.index[-1], weights.to_dict(), netPosition)"
   ]
  },
  {
   "cell_type": "code",
   "execution_count": 3,
   "metadata": {
    "collapsed": true
   },
   "outputs": [],
   "source": [
    "def getPortfolioAllocations(portfolioKey):\n",
    "    while True:\n",
    "        try:\n",
    "            datastore_client = datastore.Client('money-maker-1236')\n",
    "            query = datastore_client.query(kind=params.portfolioAllocation)\n",
    "            query.add_filter('portfolio', '=', portfolioKey)\n",
    "            retrievedPredictions = list(query.fetch())\n",
    "            return retrievedPredictions\n",
    "        except:\n",
    "            time.sleep(10)\n",
    "            print(\"DATA SOURCE RETRIEVAL ERROR:\", str(sys.exc_info()))\n",
    "    "
   ]
  },
  {
   "cell_type": "code",
   "execution_count": 5,
   "metadata": {
    "collapsed": false
   },
   "outputs": [
    {
     "data": {
      "text/plain": [
       "[<Entity('walkforward_portfolio_allocation', '91e4ba0aff9a22a3ebe133b7e6bdeef6e078e3463cc30d956d364073') {'lastDataDayUsed': datetime.datetime(2017, 8, 10, 0, 0, tzinfo=<UTC>), 'ticker_XLY': -0.2943465183423877, \"algo_((10, ('EWT', 33, None, None), 3, 'XLY'), 10, 50)\": 0.7075988875679076, \"algo_((10, ('EWT', 33, None, None), 5, 'XLY'), 10, 250)\": 0.29240111243209244, 'portfolio': '8d2f03a0255fb23c126417c182491b9c7d5d8181e30e4f51b67022ae'}>]"
      ]
     },
     "execution_count": 5,
     "metadata": {},
     "output_type": "execute_result"
    }
   ],
   "source": [
    "getPortfolioAllocations(\"8d2f03a0255fb23c126417c182491b9c7d5d8181e30e4f51b67022ae\")"
   ]
  },
  {
   "cell_type": "code",
   "execution_count": null,
   "metadata": {
    "collapsed": true
   },
   "outputs": [],
   "source": []
  }
 ],
 "metadata": {
  "kernelspec": {
   "display_name": "Python 3",
   "language": "python",
   "name": "python3"
  },
  "language_info": {
   "codemirror_mode": {
    "name": "ipython",
    "version": 3
   },
   "file_extension": ".py",
   "mimetype": "text/x-python",
   "name": "python",
   "nbconvert_exporter": "python",
   "pygments_lexer": "ipython3",
   "version": "3.6.0"
  }
 },
 "nbformat": 4,
 "nbformat_minor": 2
}
