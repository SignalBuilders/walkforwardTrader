{
 "cells": [
  {
   "cell_type": "code",
   "execution_count": null,
   "metadata": {
    "collapsed": true
   },
   "outputs": [],
   "source": [
    "##GET PREDICTIONS OF ALL MODELS IN A PORTFOLIO\n",
    "\n"
   ]
  },
  {
   "cell_type": "code",
   "execution_count": null,
   "metadata": {
    "collapsed": true
   },
   "outputs": [],
   "source": [
    "for ticker in tickersTraded:\n",
    "    netPosition = 0.0\n",
    "    for pred in portfolio.getModelPrediction(ticker):\n",
    "        ##CHECK IF PREDICTION STILL VALID\n",
    "        if len(joinedData[str(pred[\"lastDataDayUsed\"]):]) - 1 < pred[\"predictionLength\"]:##GETS TRADING DAYS SINCE LAST DATA DAY\n",
    "            ##MUST DO -1 BECAUSE INCLUDES DAY LAST USED IN LEN\n",
    "#             print(pred[\"ticker\"], pred[\"prediction\"])\n",
    "            netPosition += pred[\"prediction\"]\n",
    "    print(ticker, netPosition)"
   ]
  }
 ],
 "metadata": {
  "kernelspec": {
   "display_name": "Python 3",
   "language": "python",
   "name": "python3"
  },
  "language_info": {
   "codemirror_mode": {
    "name": "ipython",
    "version": 3
   },
   "file_extension": ".py",
   "mimetype": "text/x-python",
   "name": "python",
   "nbconvert_exporter": "python",
   "pygments_lexer": "ipython3",
   "version": "3.6.0"
  }
 },
 "nbformat": 4,
 "nbformat_minor": 2
}
