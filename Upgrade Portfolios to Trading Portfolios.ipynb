{
 "cells": [
  {
   "cell_type": "code",
   "execution_count": 3,
   "metadata": {
    "collapsed": true
   },
   "outputs": [],
   "source": [
    "import params\n",
    "import portfolioGeneration\n"
   ]
  },
  {
   "cell_type": "code",
   "execution_count": 4,
   "metadata": {
    "collapsed": false
   },
   "outputs": [
    {
     "data": {
      "text/plain": [
       "[{'benchmark': 'SPY',\n",
       "  'description': 'Small Portfolio with Unique Models',\n",
       "  'key': '6ba6157d6c249c9e37d044751ffea3336d7523f1c18256af4ed45c2e',\n",
       "  'portfolioType': 'HRP FULL'}]"
      ]
     },
     "execution_count": 4,
     "metadata": {},
     "output_type": "execute_result"
    }
   ],
   "source": [
    "##GET ALL PORTFOLIOS\n",
    "import portfolio\n",
    "portfolio.getPortfolios()"
   ]
  },
  {
   "cell_type": "markdown",
   "metadata": {},
   "source": [
    "# PAPER TRADING PORTFOLIOS"
   ]
  },
  {
   "cell_type": "code",
   "execution_count": 5,
   "metadata": {
    "collapsed": true
   },
   "outputs": [],
   "source": [
    "##ADD SOME PORTFOLIO TO TRADING PORTFOLIOS\n",
    "from google.cloud import datastore, storage, logging\n",
    "def upgradePortfolio(portfolioHash, mode):\n",
    "    lookupDB = None\n",
    "    if mode == params.PAPER_TRADING_MODE:\n",
    "        lookupDB = params.paperTradingPortfolios\n",
    "    \n",
    "    if mode == params.TRADING_MODE:\n",
    "        lookupDB = params.tradingPortfolios\n",
    "    \n",
    "    \n",
    "    ##JUST ADD HASH...DON'T WANT ANY SORT OF DUPLICATE RECORD\n",
    "    while True:\n",
    "        try:\n",
    "            datastoreClient = datastore.Client('money-maker-1236')\n",
    "            toUpload = {\n",
    "                \"startedTrading\":portfolio.getToday()\n",
    "            }\n",
    "            key = datastoreClient.key( lookupDB, portfolioHash) #NEED TO HASH TO ENSURE NON-OVERLAPPING PREDICTIONS\n",
    "            organismToStore = datastore.Entity(key=key)\n",
    "            organismToStore.update(toUpload)\n",
    "            datastoreClient.put(organismToStore)\n",
    "            break\n",
    "        except:\n",
    "            print(\"UPLOAD ERROR:\", str(sys.exc_info()))\n",
    "            time.sleep(10)\n",
    "    pass"
   ]
  },
  {
   "cell_type": "code",
   "execution_count": 6,
   "metadata": {
    "collapsed": false
   },
   "outputs": [],
   "source": [
    "upgradePortfolio('6ba6157d6c249c9e37d044751ffea3336d7523f1c18256af4ed45c2e', params.PAPER_TRADING_MODE)"
   ]
  },
  {
   "cell_type": "code",
   "execution_count": 7,
   "metadata": {
    "collapsed": false
   },
   "outputs": [],
   "source": [
    "tradingHashes = portfolioGeneration.getTradingPortfolioHashes(params.PAPER_TRADING_MODE, includeDates = True)"
   ]
  },
  {
   "cell_type": "code",
   "execution_count": 8,
   "metadata": {
    "collapsed": false
   },
   "outputs": [
    {
     "data": {
      "text/plain": [
       "{'6ba6157d6c249c9e37d044751ffea3336d7523f1c18256af4ed45c2e': datetime.datetime(2017, 8, 18, 0, 0, tzinfo=<UTC>)}"
      ]
     },
     "execution_count": 8,
     "metadata": {},
     "output_type": "execute_result"
    }
   ],
   "source": [
    "tradingHashes"
   ]
  },
  {
   "cell_type": "code",
   "execution_count": null,
   "metadata": {
    "collapsed": true
   },
   "outputs": [],
   "source": []
  }
 ],
 "metadata": {
  "kernelspec": {
   "display_name": "Python 3",
   "language": "python",
   "name": "python3"
  },
  "language_info": {
   "codemirror_mode": {
    "name": "ipython",
    "version": 3
   },
   "file_extension": ".py",
   "mimetype": "text/x-python",
   "name": "python",
   "nbconvert_exporter": "python",
   "pygments_lexer": "ipython3",
   "version": "3.6.0"
  }
 },
 "nbformat": 4,
 "nbformat_minor": 2
}
