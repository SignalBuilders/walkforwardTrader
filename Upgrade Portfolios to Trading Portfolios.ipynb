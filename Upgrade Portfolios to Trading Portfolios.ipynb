{
 "cells": [
  {
   "cell_type": "code",
   "execution_count": 1,
   "metadata": {
    "collapsed": true
   },
   "outputs": [],
   "source": [
    "import params\n",
    "import portfolioGeneration\n"
   ]
  },
  {
   "cell_type": "code",
   "execution_count": 2,
   "metadata": {
    "collapsed": false
   },
   "outputs": [
    {
     "data": {
      "text/plain": [
       "[{'benchmark': 'SPY',\n",
       "  'description': 'Simple Test GDX AND ILF HRP ALLOCATION vs SPY',\n",
       "  'key': '62cd00ad573d7ec829b820da7cbc55a088f05541df3897b2ab571047',\n",
       "  'portfolioType': 'HRP'},\n",
       " {'benchmark': 'SPY',\n",
       "  'description': 'HIGH RELATIVE SHARPE ALLOCATION vs SPY',\n",
       "  'key': '7c76373df7fc8e82ea6e123724190c0f69c0f25e169c139bf3093e6e',\n",
       "  'portfolioType': 'EW By Ticker'},\n",
       " {'benchmark': 'SPY',\n",
       "  'description': 'Simple Test GDX AND ILF EW ALLOCATION vs SPY',\n",
       "  'key': '968c884d6933dd4302238abe1b0e88ec9fd50df37c68cd9ea03eab59',\n",
       "  'portfolioType': 'EW'},\n",
       " {'benchmark': 'SPY',\n",
       "  'description': 'HIGH RELATIVE SHARPE ALLOCATION vs SPY',\n",
       "  'key': 'e4999e0aabce6c5261a9409057fe20f04037e4d2f90a2b0961032716',\n",
       "  'portfolioType': 'EW'}]"
      ]
     },
     "execution_count": 2,
     "metadata": {},
     "output_type": "execute_result"
    }
   ],
   "source": [
    "##GET ALL PORTFOLIOS\n",
    "import portfolio\n",
    "portfolio.getPortfolios()"
   ]
  },
  {
   "cell_type": "markdown",
   "metadata": {},
   "source": [
    "# PAPER TRADING PORTFOLIOS"
   ]
  },
  {
   "cell_type": "code",
   "execution_count": 3,
   "metadata": {
    "collapsed": true
   },
   "outputs": [],
   "source": [
    "##ADD SOME PORTFOLIO TO TRADING PORTFOLIOS\n",
    "from google.cloud import datastore, storage, logging\n",
    "def upgradePortfolio(portfolioHash, mode):\n",
    "    lookupDB = None\n",
    "    if mode == params.PAPER_TRADING_MODE:\n",
    "        lookupDB = params.paperTradingPortfolios\n",
    "    \n",
    "    if mode == params.TRADING_MODE:\n",
    "        lookupDB = params.tradingPortfolios\n",
    "    \n",
    "    \n",
    "    ##JUST ADD HASH...DON'T WANT ANY SORT OF DUPLICATE RECORD\n",
    "    while True:\n",
    "        try:\n",
    "            datastoreClient = datastore.Client('money-maker-1236')\n",
    "            toUpload = {\n",
    "                \"startedTrading\":portfolio.getToday()\n",
    "            }\n",
    "            key = datastoreClient.key( lookupDB, portfolioHash) #NEED TO HASH TO ENSURE NON-OVERLAPPING PREDICTIONS\n",
    "            organismToStore = datastore.Entity(key=key)\n",
    "            organismToStore.update(toUpload)\n",
    "            datastoreClient.put(organismToStore)\n",
    "            break\n",
    "        except:\n",
    "            print(\"UPLOAD ERROR:\", str(sys.exc_info()))\n",
    "            time.sleep(10)\n",
    "    pass"
   ]
  },
  {
   "cell_type": "code",
   "execution_count": 8,
   "metadata": {
    "collapsed": false
   },
   "outputs": [],
   "source": [
    "upgradePortfolio('62cd00ad573d7ec829b820da7cbc55a088f05541df3897b2ab571047', params.PAPER_TRADING_MODE)"
   ]
  },
  {
   "cell_type": "code",
   "execution_count": 9,
   "metadata": {
    "collapsed": false
   },
   "outputs": [],
   "source": [
    "tradingHashes = portfolioGeneration.getTradingPortfolioHashes(params.PAPER_TRADING_MODE, includeDates = True)"
   ]
  },
  {
   "cell_type": "code",
   "execution_count": 10,
   "metadata": {
    "collapsed": false
   },
   "outputs": [
    {
     "data": {
      "text/plain": [
       "{'62cd00ad573d7ec829b820da7cbc55a088f05541df3897b2ab571047': datetime.datetime(2017, 8, 16, 0, 0, tzinfo=<UTC>),\n",
       " '7c76373df7fc8e82ea6e123724190c0f69c0f25e169c139bf3093e6e': datetime.datetime(2017, 8, 16, 0, 0, tzinfo=<UTC>)}"
      ]
     },
     "execution_count": 10,
     "metadata": {},
     "output_type": "execute_result"
    }
   ],
   "source": [
    "tradingHashes"
   ]
  },
  {
   "cell_type": "code",
   "execution_count": 7,
   "metadata": {
    "collapsed": false
   },
   "outputs": [
    {
     "data": {
      "text/plain": [
       "[{'algoSharpe': 1.104916618291045,\n",
       "  'alpha': 8.176841448275361,\n",
       "  'annualReturn': 11.280479315539127,\n",
       "  'annualVolatility': 10.139249011009566,\n",
       "  'benchmark': 'SPY',\n",
       "  'beta': 0.1929545411952099,\n",
       "  'description': 'Simple Test GDX AND ILF HRP ALLOCATION vs SPY',\n",
       "  'key': '62cd00ad573d7ec829b820da7cbc55a088f05541df3897b2ab571047',\n",
       "  'portfolioType': 'HRP',\n",
       "  'recentAlpha': 6.629423905961268,\n",
       "  'recentBeta': -0.04649915137716812,\n",
       "  'recentReturn': 4.0616700903505,\n",
       "  'recentSharpe': 1.5176693729389048,\n",
       "  'startedTrading': None},\n",
       " {'algoSharpe': 1.214820822186369,\n",
       "  'alpha': 5.071131857563689,\n",
       "  'annualReturn': 9.873276067711,\n",
       "  'annualVolatility': 8.016030043938606,\n",
       "  'benchmark': 'SPY',\n",
       "  'beta': 0.31311098266920834,\n",
       "  'description': 'HIGH RELATIVE SHARPE ALLOCATION vs SPY',\n",
       "  'key': '7c76373df7fc8e82ea6e123724190c0f69c0f25e169c139bf3093e6e',\n",
       "  'portfolioType': 'EW By Ticker',\n",
       "  'recentAlpha': 5.0176483010688955,\n",
       "  'recentBeta': 0.2483549614139211,\n",
       "  'recentReturn': 5.676954028671277,\n",
       "  'recentSharpe': 3.447750855997853,\n",
       "  'startedTrading': None},\n",
       " {'algoSharpe': 1.0193301068838434,\n",
       "  'alpha': 8.79908087619971,\n",
       "  'annualReturn': 11.37270069624179,\n",
       "  'annualVolatility': 11.180933787857166,\n",
       "  'benchmark': 'SPY',\n",
       "  'beta': 0.1530825403489849,\n",
       "  'description': 'Simple Test GDX AND ILF EW ALLOCATION vs SPY',\n",
       "  'key': '968c884d6933dd4302238abe1b0e88ec9fd50df37c68cd9ea03eab59',\n",
       "  'portfolioType': 'EW',\n",
       "  'recentAlpha': 25.88142538759587,\n",
       "  'recentBeta': -0.14216373517833725,\n",
       "  'recentReturn': 12.72734398709039,\n",
       "  'recentSharpe': 3.4026337135902867,\n",
       "  'startedTrading': None},\n",
       " {'algoSharpe': 1.316019606576191,\n",
       "  'alpha': 7.505864670921239,\n",
       "  'annualReturn': 12.349499223599514,\n",
       "  'annualVolatility': 9.168286783526842,\n",
       "  'benchmark': 'SPY',\n",
       "  'beta': 0.3048031146874675,\n",
       "  'description': 'HIGH RELATIVE SHARPE ALLOCATION vs SPY',\n",
       "  'key': 'e4999e0aabce6c5261a9409057fe20f04037e4d2f90a2b0961032716',\n",
       "  'portfolioType': 'EW',\n",
       "  'recentAlpha': 6.673596658389218,\n",
       "  'recentBeta': 0.20794703451459987,\n",
       "  'recentReturn': 6.393234268401216,\n",
       "  'recentSharpe': 3.0443114740044943,\n",
       "  'startedTrading': None}]"
      ]
     },
     "execution_count": 7,
     "metadata": {},
     "output_type": "execute_result"
    }
   ],
   "source": [
    "portfolioGeneration.fetchQuickPortfolios(params.AVAILABLE_MODE)"
   ]
  },
  {
   "cell_type": "code",
   "execution_count": null,
   "metadata": {
    "collapsed": true
   },
   "outputs": [],
   "source": []
  }
 ],
 "metadata": {
  "kernelspec": {
   "display_name": "Python 3",
   "language": "python",
   "name": "python3"
  },
  "language_info": {
   "codemirror_mode": {
    "name": "ipython",
    "version": 3
   },
   "file_extension": ".py",
   "mimetype": "text/x-python",
   "name": "python",
   "nbconvert_exporter": "python",
   "pygments_lexer": "ipython3",
   "version": "3.6.0"
  }
 },
 "nbformat": 4,
 "nbformat_minor": 2
}
