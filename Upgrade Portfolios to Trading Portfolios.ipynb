{
 "cells": [
  {
   "cell_type": "code",
   "execution_count": 1,
   "metadata": {
    "collapsed": true
   },
   "outputs": [],
   "source": [
    "import params\n",
    "import portfolioGeneration\n"
   ]
  },
  {
   "cell_type": "code",
   "execution_count": 2,
   "metadata": {
    "collapsed": false
   },
   "outputs": [
    {
     "data": {
      "text/plain": [
       "[{'benchmark': 'SPY',\n",
       "  'description': 'Simple Test GDX AND ILF HRP ALLOCATION vs SPY',\n",
       "  'key': '62cd00ad573d7ec829b820da7cbc55a088f05541df3897b2ab571047',\n",
       "  'portfolioType': 'HRP'},\n",
       " {'benchmark': 'SPY',\n",
       "  'description': 'HIGH RELATIVE SHARPE ALLOCATION vs SPY',\n",
       "  'key': '7c76373df7fc8e82ea6e123724190c0f69c0f25e169c139bf3093e6e',\n",
       "  'portfolioType': 'EW By Ticker'},\n",
       " {'benchmark': 'SPY',\n",
       "  'description': 'Simple Test GDX AND ILF EW ALLOCATION vs SPY',\n",
       "  'key': '968c884d6933dd4302238abe1b0e88ec9fd50df37c68cd9ea03eab59',\n",
       "  'portfolioType': 'EW'},\n",
       " {'benchmark': 'SPY',\n",
       "  'description': 'HIGH RELATIVE SHARPE ALLOCATION vs SPY',\n",
       "  'key': 'e4999e0aabce6c5261a9409057fe20f04037e4d2f90a2b0961032716',\n",
       "  'portfolioType': 'EW'}]"
      ]
     },
     "execution_count": 2,
     "metadata": {},
     "output_type": "execute_result"
    }
   ],
   "source": [
    "##GET ALL PORTFOLIOS\n",
    "import portfolio\n",
    "portfolio.getPortfolios()"
   ]
  },
  {
   "cell_type": "code",
   "execution_count": 9,
   "metadata": {
    "collapsed": true
   },
   "outputs": [],
   "source": [
    "##ADD SOME PORTFOLIO TO TRADING PORTFOLIOS\n",
    "from google.cloud import datastore, storage, logging\n",
    "def upgradePortfolioToTrading(portfolioHash):\n",
    "    ##JUST ADD HASH...DON'T WANT ANY SORT OF DUPLICATE RECORD\n",
    "    while True:\n",
    "        try:\n",
    "            datastoreClient = datastore.Client('money-maker-1236')\n",
    "            toUpload = {\n",
    "                \"startedTrading\":portfolio.getToday()\n",
    "            }\n",
    "            key = datastoreClient.key(params.tradingPortfolios, portfolioHash) #NEED TO HASH TO ENSURE NON-OVERLAPPING PREDICTIONS\n",
    "            organismToStore = datastore.Entity(key=key)\n",
    "            organismToStore.update(toUpload)\n",
    "            datastoreClient.put(organismToStore)\n",
    "            break\n",
    "        except:\n",
    "            print(\"UPLOAD ERROR:\", str(sys.exc_info()))\n",
    "            time.sleep(10)\n",
    "    pass"
   ]
  },
  {
   "cell_type": "code",
   "execution_count": 6,
   "metadata": {
    "collapsed": false
   },
   "outputs": [],
   "source": [
    "upgradePortfolioToTrading('7c76373df7fc8e82ea6e123724190c0f69c0f25e169c139bf3093e6e')"
   ]
  },
  {
   "cell_type": "markdown",
   "metadata": {},
   "source": [
    "# GET TRADING PORTFOLIOS"
   ]
  },
  {
   "cell_type": "code",
   "execution_count": 4,
   "metadata": {
    "collapsed": false
   },
   "outputs": [],
   "source": [
    "tradingHashes = portfolioGeneration.getTradingPortfolioHashes(includeDates = False)"
   ]
  },
  {
   "cell_type": "code",
   "execution_count": 5,
   "metadata": {
    "collapsed": false
   },
   "outputs": [
    {
     "data": {
      "text/plain": [
       "['7c76373df7fc8e82ea6e123724190c0f69c0f25e169c139bf3093e6e']"
      ]
     },
     "execution_count": 5,
     "metadata": {},
     "output_type": "execute_result"
    }
   ],
   "source": [
    "tradingHashes"
   ]
  },
  {
   "cell_type": "code",
   "execution_count": 4,
   "metadata": {
    "collapsed": false
   },
   "outputs": [
    {
     "data": {
      "text/plain": [
       "[{'algoSharpe': 1.214820822186369,\n",
       "  'alpha': 5.071131857563689,\n",
       "  'annualReturn': 9.873276067711,\n",
       "  'annualVolatility': 8.016030043938606,\n",
       "  'benchmark': 'SPY',\n",
       "  'beta': 0.31311098266920834,\n",
       "  'description': 'HIGH RELATIVE SHARPE ALLOCATION vs SPY',\n",
       "  'key': '7c76373df7fc8e82ea6e123724190c0f69c0f25e169c139bf3093e6e',\n",
       "  'portfolioType': 'EW By Ticker',\n",
       "  'recentAlpha': 5.0176483010688955,\n",
       "  'recentBeta': 0.2483549614139211,\n",
       "  'recentReturn': 5.676954028671277,\n",
       "  'recentSharpe': 3.447750855997853}]"
      ]
     },
     "execution_count": 4,
     "metadata": {},
     "output_type": "execute_result"
    }
   ],
   "source": [
    "portfolioGeneration.fetchQuickTradingPortfolios(tradingHashes)"
   ]
  },
  {
   "cell_type": "code",
   "execution_count": null,
   "metadata": {
    "collapsed": true
   },
   "outputs": [],
   "source": []
  }
 ],
 "metadata": {
  "kernelspec": {
   "display_name": "Python 3",
   "language": "python",
   "name": "python3"
  },
  "language_info": {
   "codemirror_mode": {
    "name": "ipython",
    "version": 3
   },
   "file_extension": ".py",
   "mimetype": "text/x-python",
   "name": "python",
   "nbconvert_exporter": "python",
   "pygments_lexer": "ipython3",
   "version": "3.6.0"
  }
 },
 "nbformat": 4,
 "nbformat_minor": 2
}
