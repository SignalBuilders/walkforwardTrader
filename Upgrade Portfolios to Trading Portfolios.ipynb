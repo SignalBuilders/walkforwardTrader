{
 "cells": [
  {
   "cell_type": "code",
   "execution_count": 7,
   "metadata": {
    "collapsed": true
   },
   "outputs": [],
   "source": [
    "import params\n",
    "import portfolioGeneration\n"
   ]
  },
  {
   "cell_type": "code",
   "execution_count": 8,
   "metadata": {
    "collapsed": false
   },
   "outputs": [
    {
     "data": {
      "text/plain": [
       "[{'benchmark': 'VTV',\n",
       "  'description': 'Model Alone',\n",
       "  'key': '97b325eafc41e99f810e47cf44540480184559c7120c0f80a48c433c',\n",
       "  'portfolioType': 'EW'},\n",
       " {'benchmark': 'VGT',\n",
       "  'description': 'Model Alone',\n",
       "  'key': 'c5fce4f49b7d36f81c0b4c75398e99390fa0b8bbd27f4365769e86a3',\n",
       "  'portfolioType': 'EW'},\n",
       " {'benchmark': 'IYR',\n",
       "  'description': 'Model Alone',\n",
       "  'key': 'f25cc28585c465a5d130874dde5f38bff49719b15ff10727bed873ac',\n",
       "  'portfolioType': 'EW'}]"
      ]
     },
     "execution_count": 8,
     "metadata": {},
     "output_type": "execute_result"
    }
   ],
   "source": [
    "##GET ALL PORTFOLIOS\n",
    "import portfolio\n",
    "portfolio.getPortfolios()"
   ]
  },
  {
   "cell_type": "markdown",
   "metadata": {},
   "source": [
    "# PAPER TRADING PORTFOLIOS"
   ]
  },
  {
   "cell_type": "code",
   "execution_count": 9,
   "metadata": {
    "collapsed": true
   },
   "outputs": [],
   "source": [
    "##ADD SOME PORTFOLIO TO TRADING PORTFOLIOS\n",
    "from google.cloud import datastore, storage, logging\n",
    "def upgradePortfolio(portfolioHash, mode):\n",
    "    lookupDB = None\n",
    "    if mode == params.PAPER_TRADING_MODE:\n",
    "        lookupDB = params.paperTradingPortfolios\n",
    "    \n",
    "    if mode == params.TRADING_MODE:\n",
    "        lookupDB = params.tradingPortfolios\n",
    "    \n",
    "    \n",
    "    ##JUST ADD HASH...DON'T WANT ANY SORT OF DUPLICATE RECORD\n",
    "    while True:\n",
    "        try:\n",
    "            datastoreClient = datastore.Client('money-maker-1236')\n",
    "            toUpload = {\n",
    "                \"startedTrading\":portfolio.getToday()\n",
    "            }\n",
    "            key = datastoreClient.key( lookupDB, portfolioHash) #NEED TO HASH TO ENSURE NON-OVERLAPPING PREDICTIONS\n",
    "            organismToStore = datastore.Entity(key=key)\n",
    "            organismToStore.update(toUpload)\n",
    "            datastoreClient.put(organismToStore)\n",
    "            break\n",
    "        except:\n",
    "            print(\"UPLOAD ERROR:\", str(sys.exc_info()))\n",
    "            time.sleep(10)\n",
    "    pass"
   ]
  },
  {
   "cell_type": "code",
   "execution_count": 10,
   "metadata": {
    "collapsed": false
   },
   "outputs": [],
   "source": [
    "upgradePortfolio('f25cc28585c465a5d130874dde5f38bff49719b15ff10727bed873ac', params.PAPER_TRADING_MODE)"
   ]
  },
  {
   "cell_type": "code",
   "execution_count": 11,
   "metadata": {
    "collapsed": false
   },
   "outputs": [],
   "source": [
    "tradingHashes = portfolioGeneration.getTradingPortfolioHashes(params.PAPER_TRADING_MODE, includeDates = True)"
   ]
  },
  {
   "cell_type": "code",
   "execution_count": 12,
   "metadata": {
    "collapsed": false
   },
   "outputs": [
    {
     "data": {
      "text/plain": [
       "{'f25cc28585c465a5d130874dde5f38bff49719b15ff10727bed873ac': datetime.datetime(2017, 8, 17, 0, 0, tzinfo=<UTC>)}"
      ]
     },
     "execution_count": 12,
     "metadata": {},
     "output_type": "execute_result"
    }
   ],
   "source": [
    "tradingHashes"
   ]
  },
  {
   "cell_type": "code",
   "execution_count": null,
   "metadata": {
    "collapsed": true
   },
   "outputs": [],
   "source": []
  }
 ],
 "metadata": {
  "kernelspec": {
   "display_name": "Python 3",
   "language": "python",
   "name": "python3"
  },
  "language_info": {
   "codemirror_mode": {
    "name": "ipython",
    "version": 3
   },
   "file_extension": ".py",
   "mimetype": "text/x-python",
   "name": "python",
   "nbconvert_exporter": "python",
   "pygments_lexer": "ipython3",
   "version": "3.6.0"
  }
 },
 "nbformat": 4,
 "nbformat_minor": 2
}
