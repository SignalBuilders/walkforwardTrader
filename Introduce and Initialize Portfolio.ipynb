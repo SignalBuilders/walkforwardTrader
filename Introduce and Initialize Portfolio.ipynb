{
 "cells": [
  {
   "cell_type": "code",
   "execution_count": 1,
   "metadata": {
    "collapsed": true
   },
   "outputs": [],
   "source": [
    "import params\n",
    "from google.cloud import datastore, storage, logging\n",
    "import time\n",
    "import pickle\n",
    "import hashlib\n",
    "import sys\n",
    "import numpy as np\n",
    "import portfolioGeneration\n",
    "import portfolio\n",
    "import dataAck\n",
    "import warnings\n",
    "import numpy as np\n",
    "warnings.filterwarnings(\"ignore\")\n"
   ]
  },
  {
   "cell_type": "code",
   "execution_count": 15,
   "metadata": {
    "collapsed": true
   },
   "outputs": [],
   "source": [
    "def getUniqueModelsForTicker(tickerToTrade):\n",
    "    allModels = portfolio.getModels(tickerToTrade, returnEntireObject=True)\n",
    "    print(\"***ORIGINAL MODELS***\")\n",
    "    for modelEntity in allModels:\n",
    "        model = modelEntity[\"model\"]\n",
    "        print(model.describe())\n",
    "    print(\"***UNIQUE MODELS***\")\n",
    "    uniqueModels = portfolioGeneration.getUniqueModels(allModels)\n",
    "    for model in uniqueModels:\n",
    "        print(model.describe())\n",
    "    return uniqueModels"
   ]
  },
  {
   "cell_type": "code",
   "execution_count": 16,
   "metadata": {
    "collapsed": true
   },
   "outputs": [],
   "source": [
    "tickerToTrade = \"EWT\""
   ]
  },
  {
   "cell_type": "code",
   "execution_count": 17,
   "metadata": {
    "collapsed": false
   },
   "outputs": [
    {
     "name": "stdout",
     "output_type": "stream",
     "text": [
      "***ORIGINAL MODELS***\n",
      "((10, ('IEF', 3, None, None), 3, 'EWT'), 10, 250)\n",
      "((10, ('EWH', 5, None, 10), 3, 'EWT'), 10, 100)\n",
      "((10, ('EWH', 5, None, 10), 2, 'EWT'), 10, 25)\n",
      "((10, ('IEF', 3, None, None), 2, 'EWT'), 10, 50)\n",
      "***UNIQUE MODELS***\n",
      "((10, ('IEF', 3, None, None), 2, 'EWT'), 10, 50)\n",
      "((10, ('EWH', 5, None, 10), 2, 'EWT'), 10, 25)\n"
     ]
    }
   ],
   "source": [
    "uniqueModels = getUniqueModelsForTicker(tickerToTrade)"
   ]
  },
  {
   "cell_type": "code",
   "execution_count": 18,
   "metadata": {
    "collapsed": true
   },
   "outputs": [],
   "source": [
    "def computeReturnsForUniqueModels(uniqueModels, factorToTrade):\n",
    "    tickersRequired = []\n",
    "    tickersTraded = []\n",
    "    for mod in uniqueModels:\n",
    "\n",
    "        print(mod.describe())\n",
    "        if mod.inputSeries.targetTicker not in tickersRequired:\n",
    "            tickersRequired.append(mod.inputSeries.targetTicker)\n",
    "        if mod.inputSeries.series.ticker not in tickersRequired:\n",
    "            tickersRequired.append(mod.inputSeries.series.ticker)\n",
    "        if mod.inputSeries.targetTicker not in tickersTraded:\n",
    "            tickersTraded.append(mod.inputSeries.targetTicker)\n",
    "\n",
    "\n",
    "    pulledData, validTickers = dataAck.downloadTickerData(tickersRequired)\n",
    "\n",
    "    joinedData = dataAck.joinDatasets([pulledData[ticker] for ticker in pulledData])\n",
    "    modelReturns, modelPredictions = portfolioGeneration.generateAllReturns(uniqueModels, joinedData)\n",
    "    \n",
    "    return modelReturns, modelPredictions, modelReturns.join(dataAck.getDailyFactorReturn(factorToTrade, joinedData))"
   ]
  },
  {
   "cell_type": "code",
   "execution_count": 19,
   "metadata": {
    "collapsed": false
   },
   "outputs": [
    {
     "name": "stdout",
     "output_type": "stream",
     "text": [
      "((10, ('IEF', 3, None, None), 2, 'EWT'), 10, 50)\n",
      "((10, ('EWH', 5, None, 10), 2, 'EWT'), 10, 25)\n"
     ]
    },
    {
     "name": "stderr",
     "output_type": "stream",
     "text": [
      "Process ForkProcess-4:\n",
      "Process ForkProcess-3:\n",
      "Process ForkProcess-2:\n",
      "Traceback (most recent call last):\n",
      "Traceback (most recent call last):\n",
      "  File \"/Users/patrickogrady/Documents/CODE/walkforwardTrader/dataAck.py\", line 31, in plainSources\n",
      "    thisData = getTickerData(tick)\n",
      "Traceback (most recent call last):\n",
      "  File \"/Users/patrickogrady/Documents/CODE/walkforwardTrader/dataAck.py\", line 31, in plainSources\n",
      "    thisData = getTickerData(tick)\n",
      "  File \"/Users/patrickogrady/Documents/CODE/walkforwardTrader/dataAck.py\", line 7, in getTickerData\n",
      "    limitedDf = quandl.get([\"EOD/\" + ticker +\".11\"], authtoken=\"G3AvFe4ZUZoBEthhjmEY\")\n",
      "  File \"/Users/patrickogrady/Documents/CODE/walkforwardTrader/dataAck.py\", line 7, in getTickerData\n",
      "    limitedDf = quandl.get([\"EOD/\" + ticker +\".11\"], authtoken=\"G3AvFe4ZUZoBEthhjmEY\")\n",
      "  File \"/Users/patrickogrady/Documents/CODE/walkforwardTrader/dataAck.py\", line 31, in plainSources\n",
      "    thisData = getTickerData(tick)\n",
      "  File \"/Users/patrickogrady/anaconda3/lib/python3.6/site-packages/quandl/get.py\", line 56, in get\n",
      "    handle_column_not_found=True)\n",
      "  File \"/Users/patrickogrady/anaconda3/lib/python3.6/site-packages/quandl/get.py\", line 56, in get\n",
      "    handle_column_not_found=True)\n",
      "  File \"/Users/patrickogrady/Documents/CODE/walkforwardTrader/dataAck.py\", line 7, in getTickerData\n",
      "    limitedDf = quandl.get([\"EOD/\" + ticker +\".11\"], authtoken=\"G3AvFe4ZUZoBEthhjmEY\")\n",
      "  File \"/Users/patrickogrady/anaconda3/lib/python3.6/site-packages/quandl/model/merged_dataset.py\", line 41, in data\n",
      "    for index, dataset_data in enumerate(dataset_data_list)]\n",
      "  File \"/Users/patrickogrady/anaconda3/lib/python3.6/site-packages/quandl/model/merged_dataset.py\", line 36, in data\n",
      "    for dataset in self.__dataset_objects__()]\n",
      "  File \"/Users/patrickogrady/anaconda3/lib/python3.6/site-packages/quandl/model/merged_dataset.py\", line 36, in <listcomp>\n",
      "    for dataset in self.__dataset_objects__()]\n",
      "  File \"/Users/patrickogrady/anaconda3/lib/python3.6/site-packages/quandl/get.py\", line 56, in get\n",
      "    handle_column_not_found=True)\n",
      "  File \"/Users/patrickogrady/anaconda3/lib/python3.6/site-packages/quandl/model/merged_dataset.py\", line 41, in <listcomp>\n",
      "    for index, dataset_data in enumerate(dataset_data_list)]\n",
      "  File \"/Users/patrickogrady/anaconda3/lib/python3.6/site-packages/quandl/model/data_mixin.py\", line 20, in to_pandas\n",
      "    df[self.column_names[0]] = df[self.column_names[0]].apply(pd.to_datetime)\n",
      "  File \"/Users/patrickogrady/anaconda3/lib/python3.6/site-packages/pandas/core/series.py\", line 2355, in apply\n",
      "    mapped = lib.map_infer(values, f, convert=convert_dtype)\n",
      "  File \"/Users/patrickogrady/anaconda3/lib/python3.6/site-packages/quandl/model/merged_dataset.py\", line 36, in data\n",
      "    for dataset in self.__dataset_objects__()]\n",
      "  File \"/Users/patrickogrady/anaconda3/lib/python3.6/site-packages/quandl/model/merged_dataset.py\", line 36, in <listcomp>\n",
      "    for dataset in self.__dataset_objects__()]\n",
      "  File \"pandas/_libs/src/inference.pyx\", line 1574, in pandas._libs.lib.map_infer (pandas/_libs/lib.c:66645)\n",
      "  File \"/Users/patrickogrady/anaconda3/lib/python3.6/site-packages/quandl/model/merged_dataset.py\", line 73, in _get_dataset_data\n",
      "    return dataset.data(**updated_options)\n"
     ]
    },
    {
     "ename": "KeyboardInterrupt",
     "evalue": "",
     "output_type": "error",
     "traceback": [
      "\u001b[0;31m---------------------------------------------------------------------------\u001b[0m",
      "\u001b[0;31mKeyboardInterrupt\u001b[0m                         Traceback (most recent call last)",
      "\u001b[0;32m<ipython-input-19-f8f90df056dd>\u001b[0m in \u001b[0;36m<module>\u001b[0;34m()\u001b[0m\n\u001b[1;32m      1\u001b[0m \u001b[0mfactorToTrade\u001b[0m \u001b[0;34m=\u001b[0m \u001b[0;34m\"SPY\"\u001b[0m\u001b[0;34m\u001b[0m\u001b[0m\n\u001b[0;32m----> 2\u001b[0;31m \u001b[0mmodelReturns\u001b[0m\u001b[0;34m,\u001b[0m \u001b[0mmodelPredictions\u001b[0m\u001b[0;34m,\u001b[0m \u001b[0mmodelReturnsWithFactor\u001b[0m \u001b[0;34m=\u001b[0m    \u001b[0mcomputeReturnsForUniqueModels\u001b[0m\u001b[0;34m(\u001b[0m\u001b[0muniqueModels\u001b[0m\u001b[0;34m,\u001b[0m \u001b[0mfactorToTrade\u001b[0m\u001b[0;34m)\u001b[0m\u001b[0;34m\u001b[0m\u001b[0m\n\u001b[0m",
      "\u001b[0;32m<ipython-input-18-2793566407de>\u001b[0m in \u001b[0;36mcomputeReturnsForUniqueModels\u001b[0;34m(uniqueModels, factorToTrade)\u001b[0m\n\u001b[1;32m     13\u001b[0m \u001b[0;34m\u001b[0m\u001b[0m\n\u001b[1;32m     14\u001b[0m \u001b[0;34m\u001b[0m\u001b[0m\n\u001b[0;32m---> 15\u001b[0;31m     \u001b[0mpulledData\u001b[0m\u001b[0;34m,\u001b[0m \u001b[0mvalidTickers\u001b[0m \u001b[0;34m=\u001b[0m \u001b[0mdataAck\u001b[0m\u001b[0;34m.\u001b[0m\u001b[0mdownloadTickerData\u001b[0m\u001b[0;34m(\u001b[0m\u001b[0mtickersRequired\u001b[0m\u001b[0;34m)\u001b[0m\u001b[0;34m\u001b[0m\u001b[0m\n\u001b[0m\u001b[1;32m     16\u001b[0m \u001b[0;34m\u001b[0m\u001b[0m\n\u001b[1;32m     17\u001b[0m     \u001b[0mjoinedData\u001b[0m \u001b[0;34m=\u001b[0m \u001b[0mdataAck\u001b[0m\u001b[0;34m.\u001b[0m\u001b[0mjoinDatasets\u001b[0m\u001b[0;34m(\u001b[0m\u001b[0;34m[\u001b[0m\u001b[0mpulledData\u001b[0m\u001b[0;34m[\u001b[0m\u001b[0mticker\u001b[0m\u001b[0;34m]\u001b[0m \u001b[0;32mfor\u001b[0m \u001b[0mticker\u001b[0m \u001b[0;32min\u001b[0m \u001b[0mpulledData\u001b[0m\u001b[0;34m]\u001b[0m\u001b[0;34m)\u001b[0m\u001b[0;34m\u001b[0m\u001b[0m\n",
      "\u001b[0;32m/Users/patrickogrady/Documents/CODE/walkforwardTrader/dataAck.py\u001b[0m in \u001b[0;36mdownloadTickerData\u001b[0;34m(storedTickers)\u001b[0m\n\u001b[1;32m     50\u001b[0m \u001b[0;34m\u001b[0m\u001b[0m\n\u001b[1;32m     51\u001b[0m         \u001b[0;32mwhile\u001b[0m \u001b[0mlen\u001b[0m\u001b[0;34m(\u001b[0m\u001b[0mrunningP\u001b[0m\u001b[0;34m)\u001b[0m \u001b[0;34m>\u001b[0m \u001b[0;36m0\u001b[0m\u001b[0;34m:\u001b[0m\u001b[0;34m\u001b[0m\u001b[0m\n\u001b[0;32m---> 52\u001b[0;31m                 \u001b[0mrunningP\u001b[0m \u001b[0;34m=\u001b[0m \u001b[0mcycleP\u001b[0m\u001b[0;34m(\u001b[0m\u001b[0mrunningP\u001b[0m\u001b[0;34m)\u001b[0m\u001b[0;34m\u001b[0m\u001b[0m\n\u001b[0m\u001b[1;32m     53\u001b[0m         \u001b[0mstoredData\u001b[0m \u001b[0;34m=\u001b[0m \u001b[0;34m{\u001b[0m\u001b[0;34m}\u001b[0m\u001b[0;34m\u001b[0m\u001b[0m\n\u001b[1;32m     54\u001b[0m         \u001b[0;32mfor\u001b[0m \u001b[0mticker\u001b[0m \u001b[0;32min\u001b[0m \u001b[0mstoredTickers\u001b[0m\u001b[0;34m:\u001b[0m\u001b[0;34m\u001b[0m\u001b[0m\n",
      "\u001b[0;32m/Users/patrickogrady/Documents/CODE/walkforwardTrader/dataAck.py\u001b[0m in \u001b[0;36mcycleP\u001b[0;34m(runningProcesses)\u001b[0m\n\u001b[1;32m     16\u001b[0m     \u001b[0mnewP\u001b[0m \u001b[0;34m=\u001b[0m \u001b[0;34m[\u001b[0m\u001b[0;34m]\u001b[0m\u001b[0;34m\u001b[0m\u001b[0m\n\u001b[1;32m     17\u001b[0m     \u001b[0;32mfor\u001b[0m \u001b[0mp\u001b[0m \u001b[0;32min\u001b[0m \u001b[0mrunningProcesses\u001b[0m\u001b[0;34m:\u001b[0m\u001b[0;34m\u001b[0m\u001b[0m\n\u001b[0;32m---> 18\u001b[0;31m         \u001b[0;32mif\u001b[0m \u001b[0mp\u001b[0m\u001b[0;34m.\u001b[0m\u001b[0mis_alive\u001b[0m\u001b[0;34m(\u001b[0m\u001b[0;34m)\u001b[0m \u001b[0;34m==\u001b[0m \u001b[0;32mTrue\u001b[0m\u001b[0;34m:\u001b[0m\u001b[0;34m\u001b[0m\u001b[0m\n\u001b[0m\u001b[1;32m     19\u001b[0m             \u001b[0mnewP\u001b[0m\u001b[0;34m.\u001b[0m\u001b[0mappend\u001b[0m\u001b[0;34m(\u001b[0m\u001b[0mp\u001b[0m\u001b[0;34m)\u001b[0m\u001b[0;34m\u001b[0m\u001b[0m\n\u001b[1;32m     20\u001b[0m         \u001b[0;32melse\u001b[0m\u001b[0;34m:\u001b[0m\u001b[0;34m\u001b[0m\u001b[0m\n",
      "\u001b[0;32m/Users/patrickogrady/anaconda3/lib/python3.6/multiprocessing/process.py\u001b[0m in \u001b[0;36mis_alive\u001b[0;34m(self)\u001b[0m\n\u001b[1;32m    132\u001b[0m         \u001b[0;32mif\u001b[0m \u001b[0mself\u001b[0m\u001b[0;34m.\u001b[0m\u001b[0m_popen\u001b[0m \u001b[0;32mis\u001b[0m \u001b[0;32mNone\u001b[0m\u001b[0;34m:\u001b[0m\u001b[0;34m\u001b[0m\u001b[0m\n\u001b[1;32m    133\u001b[0m             \u001b[0;32mreturn\u001b[0m \u001b[0;32mFalse\u001b[0m\u001b[0;34m\u001b[0m\u001b[0m\n\u001b[0;32m--> 134\u001b[0;31m         \u001b[0mself\u001b[0m\u001b[0;34m.\u001b[0m\u001b[0m_popen\u001b[0m\u001b[0;34m.\u001b[0m\u001b[0mpoll\u001b[0m\u001b[0;34m(\u001b[0m\u001b[0;34m)\u001b[0m\u001b[0;34m\u001b[0m\u001b[0m\n\u001b[0m\u001b[1;32m    135\u001b[0m         \u001b[0;32mreturn\u001b[0m \u001b[0mself\u001b[0m\u001b[0;34m.\u001b[0m\u001b[0m_popen\u001b[0m\u001b[0;34m.\u001b[0m\u001b[0mreturncode\u001b[0m \u001b[0;32mis\u001b[0m \u001b[0;32mNone\u001b[0m\u001b[0;34m\u001b[0m\u001b[0m\n\u001b[1;32m    136\u001b[0m \u001b[0;34m\u001b[0m\u001b[0m\n",
      "\u001b[0;31mKeyboardInterrupt\u001b[0m: "
     ]
    },
    {
     "name": "stderr",
     "output_type": "stream",
     "text": [
      "  File \"/Users/patrickogrady/anaconda3/lib/python3.6/site-packages/pandas/core/tools/datetimes.py\", line 449, in to_datetime\n",
      "    if arg is None:\n",
      "KeyboardInterrupt\n",
      "  File \"/Users/patrickogrady/anaconda3/lib/python3.6/site-packages/quandl/model/merged_dataset.py\", line 73, in _get_dataset_data\n",
      "    return dataset.data(**updated_options)\n",
      "  File \"/Users/patrickogrady/anaconda3/lib/python3.6/site-packages/quandl/model/dataset.py\", line 47, in data\n",
      "    return Data.all(**updated_options)\n",
      "\n",
      "During handling of the above exception, another exception occurred:\n",
      "\n",
      "  File \"/Users/patrickogrady/anaconda3/lib/python3.6/site-packages/quandl/model/dataset.py\", line 47, in data\n",
      "    return Data.all(**updated_options)\n",
      "  File \"/Users/patrickogrady/anaconda3/lib/python3.6/site-packages/quandl/operations/list.py\", line 16, in all\n",
      "    Util.convert_to_dates(response_data)\n",
      "  File \"/Users/patrickogrady/anaconda3/lib/python3.6/site-packages/quandl/operations/list.py\", line 16, in all\n",
      "    Util.convert_to_dates(response_data)\n",
      "Traceback (most recent call last):\n",
      "  File \"/Users/patrickogrady/anaconda3/lib/python3.6/multiprocessing/managers.py\", line 749, in _callmethod\n",
      "    conn = self._tls.connection\n",
      "  File \"/Users/patrickogrady/anaconda3/lib/python3.6/site-packages/quandl/util.py\", line 42, in convert_to_dates\n",
      "    dic_or_list[k] = Util.convert_to_dates(v)\n",
      "  File \"/Users/patrickogrady/anaconda3/lib/python3.6/site-packages/quandl/util.py\", line 42, in convert_to_dates\n",
      "    dic_or_list[k] = Util.convert_to_dates(v)\n",
      "AttributeError: 'ForkAwareLocal' object has no attribute 'connection'\n",
      "  File \"/Users/patrickogrady/anaconda3/lib/python3.6/site-packages/quandl/util.py\", line 42, in convert_to_dates\n",
      "    dic_or_list[k] = Util.convert_to_dates(v)\n",
      "  File \"/Users/patrickogrady/anaconda3/lib/python3.6/site-packages/quandl/util.py\", line 42, in convert_to_dates\n",
      "    dic_or_list[k] = Util.convert_to_dates(v)\n",
      "  File \"/Users/patrickogrady/anaconda3/lib/python3.6/site-packages/quandl/util.py\", line 45, in convert_to_dates\n",
      "    dic_or_list[idx] = Util.convert_to_dates(v)\n",
      "\n",
      "During handling of the above exception, another exception occurred:\n",
      "\n",
      "  File \"/Users/patrickogrady/anaconda3/lib/python3.6/site-packages/quandl/util.py\", line 45, in convert_to_dates\n",
      "    dic_or_list[idx] = Util.convert_to_dates(v)\n",
      "Traceback (most recent call last):\n",
      "  File \"/Users/patrickogrady/anaconda3/lib/python3.6/site-packages/quandl/util.py\", line 45, in convert_to_dates\n",
      "    dic_or_list[idx] = Util.convert_to_dates(v)\n",
      "  File \"/Users/patrickogrady/anaconda3/lib/python3.6/site-packages/quandl/util.py\", line 45, in convert_to_dates\n",
      "    dic_or_list[idx] = Util.convert_to_dates(v)\n",
      "  File \"/Users/patrickogrady/anaconda3/lib/python3.6/multiprocessing/process.py\", line 249, in _bootstrap\n",
      "    self.run()\n",
      "  File \"/Users/patrickogrady/anaconda3/lib/python3.6/site-packages/quandl/util.py\", line 47, in convert_to_dates\n",
      "    return Util.convert_to_date(dic_or_list)\n",
      "  File \"/Users/patrickogrady/anaconda3/lib/python3.6/multiprocessing/process.py\", line 93, in run\n",
      "    self._target(*self._args, **self._kwargs)\n",
      "  File \"/Users/patrickogrady/anaconda3/lib/python3.6/site-packages/quandl/util.py\", line 47, in convert_to_dates\n",
      "    return Util.convert_to_date(dic_or_list)\n",
      "  File \"/Users/patrickogrady/anaconda3/lib/python3.6/site-packages/quandl/util.py\", line 55, in convert_to_date\n",
      "    return dateutil.parser.parse(value).date()\n",
      "  File \"/Users/patrickogrady/Documents/CODE/walkforwardTrader/dataAck.py\", line 36, in plainSources\n",
      "    sharedDict[tick] = None\n",
      "  File \"/Users/patrickogrady/anaconda3/lib/python3.6/site-packages/dateutil/parser.py\", line 1182, in parse\n",
      "    return DEFAULTPARSER.parse(timestr, **kwargs)\n",
      "  File \"/Users/patrickogrady/anaconda3/lib/python3.6/site-packages/dateutil/parser.py\", line 553, in parse\n",
      "    default = datetime.datetime.now().replace(hour=0, minute=0,\n",
      "  File \"/Users/patrickogrady/anaconda3/lib/python3.6/site-packages/quandl/util.py\", line 55, in convert_to_date\n",
      "    return dateutil.parser.parse(value).date()\n",
      "  File \"<string>\", line 2, in __setitem__\n",
      "KeyboardInterrupt\n",
      "  File \"/Users/patrickogrady/anaconda3/lib/python3.6/multiprocessing/managers.py\", line 753, in _callmethod\n",
      "    self._connect()\n",
      "  File \"/Users/patrickogrady/anaconda3/lib/python3.6/site-packages/dateutil/parser.py\", line 1182, in parse\n",
      "    return DEFAULTPARSER.parse(timestr, **kwargs)\n",
      "  File \"/Users/patrickogrady/anaconda3/lib/python3.6/multiprocessing/managers.py\", line 740, in _connect\n",
      "    conn = self._Client(self._token.address, authkey=self._authkey)\n",
      "\n",
      "During handling of the above exception, another exception occurred:\n",
      "\n",
      "  File \"/Users/patrickogrady/anaconda3/lib/python3.6/site-packages/dateutil/parser.py\", line 556, in parse\n",
      "    res, skipped_tokens = self._parse(timestr, **kwargs)\n",
      "  File \"/Users/patrickogrady/anaconda3/lib/python3.6/site-packages/dateutil/parser.py\", line 860, in _parse\n",
      "    ymd.append(l[i])\n",
      "Traceback (most recent call last):\n",
      "  File \"/Users/patrickogrady/anaconda3/lib/python3.6/multiprocessing/connection.py\", line 487, in Client\n",
      "    c = SocketClient(address)\n",
      "  File \"/Users/patrickogrady/anaconda3/lib/python3.6/multiprocessing/managers.py\", line 749, in _callmethod\n",
      "    conn = self._tls.connection\n",
      "  File \"/Users/patrickogrady/anaconda3/lib/python3.6/multiprocessing/connection.py\", line 614, in SocketClient\n",
      "    s.connect(address)\n",
      "  File \"/Users/patrickogrady/anaconda3/lib/python3.6/site-packages/dateutil/parser.py\", line 403, in append\n",
      "    if val.isdigit() and len(val) > 2:\n",
      "AttributeError: 'ForkAwareLocal' object has no attribute 'connection'\n",
      "KeyboardInterrupt\n",
      "FileNotFoundError: [Errno 2] No such file or directory\n",
      "\n",
      "During handling of the above exception, another exception occurred:\n",
      "\n",
      "Traceback (most recent call last):\n",
      "\n",
      "During handling of the above exception, another exception occurred:\n",
      "\n"
     ]
    }
   ],
   "source": [
    "factorToTrade = \"SPY\"\n",
    "modelReturns, modelPredictions, modelReturnsWithFactor =\\\n",
    "    computeReturnsForUniqueModels(uniqueModels, factorToTrade)"
   ]
  },
  {
   "cell_type": "code",
   "execution_count": null,
   "metadata": {
    "collapsed": true
   },
   "outputs": [],
   "source": [
    "%matplotlib inline\n",
    "portfolioGeneration.visualizeModels(modelReturnsWithFactor)"
   ]
  },
  {
   "cell_type": "code",
   "execution_count": null,
   "metadata": {
    "collapsed": true
   },
   "outputs": [],
   "source": [
    "portfolioGeneration.storePastPredictions(uniqueModels, modelPredictions)"
   ]
  },
  {
   "cell_type": "code",
   "execution_count": null,
   "metadata": {
    "collapsed": true
   },
   "outputs": [],
   "source": [
    "portfolioHash = portfolioGeneration.storePortfolio(uniqueModels,\\\n",
    "            description=\"Just trade underlying\", benchmark=factorToTrade)"
   ]
  },
  {
   "cell_type": "code",
   "execution_count": null,
   "metadata": {
    "collapsed": true
   },
   "outputs": [],
   "source": [
    "modelHashes = portfolioGeneration.getPortfolioModels(portfolioHash)"
   ]
  },
  {
   "cell_type": "code",
   "execution_count": null,
   "metadata": {
    "collapsed": true
   },
   "outputs": [],
   "source": [
    "allModels = portfolio.getModelsByKey(modelHashes)"
   ]
  },
  {
   "cell_type": "code",
   "execution_count": null,
   "metadata": {
    "collapsed": true
   },
   "outputs": [],
   "source": [
    "joinedData = potfolioGeneration.getPertinentDataForModels(allModels)"
   ]
  },
  {
   "cell_type": "code",
   "execution_count": null,
   "metadata": {
    "collapsed": true
   },
   "outputs": [],
   "source": [
    "portfolioGeneration.generateRawPredictions(allModels, joinedData, daysBack = True)"
   ]
  },
  {
   "cell_type": "code",
   "execution_count": null,
   "metadata": {
    "collapsed": true
   },
   "outputs": [],
   "source": [
    "aggregateReturns, aggregatePredictions = portfolioGeneration.generateAggregateReturnsPredictions(allModels, joinedData)"
   ]
  },
  {
   "cell_type": "code",
   "execution_count": null,
   "metadata": {
    "collapsed": true
   },
   "outputs": [],
   "source": [
    "hrpReturns, historicalWeights = portfolioGeneration.produceHRPPredictions(aggregateReturns[[portfolio.getModelHash(model) for model in allModels]], 22, startIndex=None, maxWindowSize=True)\n",
    "print(\"COMPUTED HISTORICAL WEIGHTS\")\n",
    "portfolioGeneration.storeHistoricalAllocations(portfolioHash, allModels, historicalWeights, aggregatePredictions)"
   ]
  },
  {
   "cell_type": "code",
   "execution_count": null,
   "metadata": {
    "collapsed": true
   },
   "outputs": [],
   "source": [
    "portfolioInfo = portfolio.getPortfolioByKey(portfolioHash)\n",
    "portfolioInfo = {\n",
    "    \"key\":portfolioInfo.key.name,\n",
    "    \"description\":portfolioInfo[\"description\"],\n",
    "    \"benchmark\":portfolioInfo[\"benchmark\"]\n",
    "}\n",
    "print(portfolioInfo)\n",
    "portfolioData = portfolioGeneration.getDataForPortfolio(portfolioHash)\n",
    "portfolioGeneration.cachePortfolio(portfolioInfo, portfolioData)"
   ]
  }
 ],
 "metadata": {
  "kernelspec": {
   "display_name": "Python 3",
   "language": "python",
   "name": "python3"
  },
  "language_info": {
   "codemirror_mode": {
    "name": "ipython",
    "version": 3
   },
   "file_extension": ".py",
   "mimetype": "text/x-python",
   "name": "python",
   "nbconvert_exporter": "python",
   "pygments_lexer": "ipython3",
   "version": "3.6.0"
  }
 },
 "nbformat": 4,
 "nbformat_minor": 2
}
