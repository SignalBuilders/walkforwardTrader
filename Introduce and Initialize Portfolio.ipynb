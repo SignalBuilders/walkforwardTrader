{
 "cells": [
  {
   "cell_type": "code",
   "execution_count": 1,
   "metadata": {
    "collapsed": true
   },
   "outputs": [],
   "source": [
    "import params\n",
    "from google.cloud import datastore, storage, logging\n",
    "import time\n",
    "import pickle\n",
    "import hashlib\n",
    "import sys\n",
    "import numpy as np\n",
    "import portfolioGeneration\n",
    "import portfolio\n",
    "import dataAck\n",
    "import warnings\n",
    "import numpy as np\n",
    "warnings.filterwarnings(\"ignore\")\n"
   ]
  },
  {
   "cell_type": "code",
   "execution_count": 2,
   "metadata": {
    "collapsed": true
   },
   "outputs": [],
   "source": [
    "def getUniqueModelsForTicker(tickerToTrade):\n",
    "    allModels = portfolio.getModels(tickerToTrade, returnEntireObject=True)\n",
    "    print(\"***ORIGINAL MODELS***\")\n",
    "    for modelEntity in allModels:\n",
    "        model = modelEntity[\"model\"]\n",
    "        print(model.describe())\n",
    "    print(\"***UNIQUE MODELS***\")\n",
    "    uniqueModels = portfolioGeneration.getUniqueModels(allModels)\n",
    "    for model in uniqueModels:\n",
    "        print(model.describe())\n",
    "    return uniqueModels"
   ]
  },
  {
   "cell_type": "code",
   "execution_count": 3,
   "metadata": {
    "collapsed": true
   },
   "outputs": [],
   "source": [
    "tickerToTrade = \"EWT\""
   ]
  },
  {
   "cell_type": "code",
   "execution_count": 4,
   "metadata": {
    "collapsed": false
   },
   "outputs": [
    {
     "name": "stdout",
     "output_type": "stream",
     "text": [
      "***ORIGINAL MODELS***\n",
      "((10, ('IEF', 3, None, None), 3, 'EWT'), 10, 250)\n",
      "((10, ('EWH', 5, None, 10), 3, 'EWT'), 10, 100)\n",
      "((10, ('EWH', 5, None, 10), 2, 'EWT'), 10, 25)\n",
      "((10, ('IEF', 3, None, None), 2, 'EWT'), 10, 50)\n",
      "***UNIQUE MODELS***\n",
      "((10, ('IEF', 3, None, None), 2, 'EWT'), 10, 50)\n",
      "((10, ('EWH', 5, None, 10), 2, 'EWT'), 10, 25)\n"
     ]
    }
   ],
   "source": [
    "uniqueModels = getUniqueModelsForTicker(tickerToTrade)"
   ]
  },
  {
   "cell_type": "code",
   "execution_count": 9,
   "metadata": {
    "collapsed": true
   },
   "outputs": [],
   "source": [
    "def computeReturnsForUniqueModels(uniqueModels, factorToTrade):\n",
    "    tickersRequired = []\n",
    "    tickersTraded = []\n",
    "    for mod in uniqueModels:\n",
    "\n",
    "        print(mod.describe())\n",
    "        if mod.inputSeries.targetTicker not in tickersRequired:\n",
    "            tickersRequired.append(mod.inputSeries.targetTicker)\n",
    "        if mod.inputSeries.series.ticker not in tickersRequired:\n",
    "            tickersRequired.append(mod.inputSeries.series.ticker)\n",
    "        if mod.inputSeries.targetTicker not in tickersTraded:\n",
    "            tickersTraded.append(mod.inputSeries.targetTicker)\n",
    "\n",
    "    if factorToTrade not in tickersRequired:\n",
    "        tickersRequired.append(factorToTrade)\n",
    "    \n",
    "    pulledData, validTickers = dataAck.downloadTickerData(tickersRequired)\n",
    "\n",
    "    joinedData = dataAck.joinDatasets([pulledData[ticker] for ticker in pulledData])\n",
    "    modelReturns, modelPredictions = portfolioGeneration.generateAllReturns(uniqueModels, joinedData)\n",
    "    \n",
    "    return modelReturns, modelPredictions, modelReturns.join(dataAck.getDailyFactorReturn(factorToTrade, joinedData)), joinedData"
   ]
  },
  {
   "cell_type": "code",
   "execution_count": 10,
   "metadata": {
    "collapsed": false,
    "scrolled": true
   },
   "outputs": [
    {
     "name": "stdout",
     "output_type": "stream",
     "text": [
      "((10, ('IEF', 3, None, None), 2, 'EWT'), 10, 50)\n",
      "((10, ('EWH', 5, None, 10), 2, 'EWT'), 10, 25)\n",
      "EWT\n",
      "IEF\n",
      "EWH\n",
      "SPY\n",
      "((10, ('IEF', 3, None, None), 2, 'EWT'), 10, 50)\n",
      "THREAD  2 PROGRESS: 0.5660377358490566\n",
      "THREAD  1 PROGRESS: 0.5660377358490566\n",
      "THREAD  5 PROGRESS: 0.5660377358490566\n",
      "THREAD  0 PROGRESS: 0.5660377358490566\n",
      "THREAD  4 PROGRESS: 0.5660377358490566\n",
      "THREAD  3 PROGRESS: 0.5660377358490566\n",
      "THREAD  6 PROGRESS: 0.5660377358490566\n",
      "THREAD  7 PROGRESS: 0.5660377358490566\n",
      "THREAD  8 PROGRESS: 0.5660377358490566\n",
      "THREAD  11 PROGRESS: 0.5769230769230769\n",
      "THREAD  10 PROGRESS: 0.5769230769230769\n",
      "THREAD  12 PROGRESS: 0.5769230769230769\n",
      "THREAD  13 PROGRESS: 0.5769230769230769\n",
      "THREAD  9 PROGRESS: 0.5769230769230769\n",
      "THREAD  15 PROGRESS: 0.5769230769230769\n",
      "THREAD  14 PROGRESS: 0.5769230769230769\n",
      "THREAD  16 PROGRESS: 0.5769230769230769\n",
      "THREAD  17 PROGRESS: 0.5769230769230769\n",
      "THREAD  21 PROGRESS: 0.5769230769230769\n",
      "THREAD  18 PROGRESS: 0.5769230769230769\n",
      "THREAD  19 PROGRESS: 0.5769230769230769\n",
      "THREAD  24 PROGRESS: 0.5769230769230769\n",
      "THREAD  23 PROGRESS: 0.5769230769230769\n",
      "THREAD  20 PROGRESS: 0.5769230769230769\n",
      "THREAD  22 PROGRESS: 0.5769230769230769\n",
      "THREAD  26 PROGRESS: 0.5769230769230769\n",
      "THREAD  25 PROGRESS: 0.5769230769230769\n",
      "THREAD  27 PROGRESS: 0.5769230769230769\n",
      "THREAD  30 PROGRESS: 0.5769230769230769\n",
      "THREAD  28 PROGRESS: 0.5769230769230769\n",
      "THREAD  29 PROGRESS: 0.5769230769230769\n",
      "THREAD  33 PROGRESS: 0.5769230769230769\n",
      "THREAD  32 PROGRESS: 0.5769230769230769\n",
      "THREAD  34 PROGRESS: 0.5769230769230769\n",
      "THREAD  31 PROGRESS: 0.5769230769230769\n",
      "THREAD  40 PROGRESS: 0.5769230769230769\n",
      "THREAD  36 PROGRESS: 0.5769230769230769\n",
      "THREAD  35 PROGRESS: 0.5769230769230769\n",
      "THREAD  37 PROGRESS: 0.5769230769230769\n",
      "THREAD  45 PROGRESS: 0.5769230769230769\n",
      "THREAD  38 PROGRESS: 0.5769230769230769\n",
      "THREAD  43 PROGRESS: 0.5769230769230769\n",
      "THREAD  39 PROGRESS: 0.5769230769230769\n",
      "THREAD  41 PROGRESS: 0.5769230769230769\n",
      "THREAD  42 PROGRESS: 0.5769230769230769\n",
      "THREAD  47 PROGRESS: 0.5769230769230769\n",
      "THREAD  49 PROGRESS: 0.5769230769230769\n",
      "THREAD  44 PROGRESS: 0.5769230769230769\n",
      "THREAD  46 PROGRESS: 0.5769230769230769\n",
      "THREAD  48 PROGRESS: 0.5769230769230769\n",
      "THREAD  50 PROGRESS: 0.5769230769230769\n",
      "THREAD  52 PROGRESS: 0.5769230769230769\n",
      "THREAD  51 PROGRESS: 0.5769230769230769\n",
      "THREAD  57 PROGRESS: 0.5769230769230769\n",
      "THREAD  54 PROGRESS: 0.5769230769230769\n",
      "THREAD  53 PROGRESS: 0.5769230769230769\n",
      "THREAD  55 PROGRESS: 0.5769230769230769\n",
      "THREAD  58 PROGRESS: 0.5769230769230769\n",
      "THREAD  56 PROGRESS: 0.5769230769230769\n",
      "THREAD  59 PROGRESS: 0.5769230769230769\n",
      "((10, ('EWH', 5, None, 10), 2, 'EWT'), 10, 25)\n",
      "THREAD  0 PROGRESS: 0.5769230769230769\n",
      "THREAD  1 PROGRESS: 0.5769230769230769\n",
      "THREAD  3 PROGRESS: 0.5769230769230769\n",
      "THREAD  2 PROGRESS: 0.5769230769230769\n",
      "THREAD  5 PROGRESS: 0.5769230769230769\n",
      "THREAD  4 PROGRESS: 0.5769230769230769\n",
      "THREAD  8 PROGRESS: 0.5769230769230769\n",
      "THREAD  6 PROGRESS: 0.5769230769230769\n",
      "THREAD  7 PROGRESS: 0.5769230769230769\n",
      "THREAD  9 PROGRESS: 0.5769230769230769\n",
      "THREAD  11 PROGRESS: 0.5769230769230769\n",
      "THREAD  10 PROGRESS: 0.5769230769230769\n",
      "THREAD  13 PROGRESS: 0.5769230769230769\n",
      "THREAD  12 PROGRESS: 0.5769230769230769\n",
      "THREAD  14 PROGRESS: 0.5769230769230769\n",
      "THREAD  15 PROGRESS: 0.5769230769230769\n",
      "THREAD  18 PROGRESS: 0.5769230769230769\n",
      "THREAD  16 PROGRESS: 0.5769230769230769\n",
      "THREAD  17 PROGRESS: 0.5769230769230769\n",
      "THREAD  21 PROGRESS: 0.5769230769230769\n",
      "THREAD  20 PROGRESS: 0.5769230769230769\n",
      "THREAD  19 PROGRESS: 0.5769230769230769\n",
      "THREAD  24 PROGRESS: 0.5769230769230769\n",
      "THREAD  22 PROGRESS: 0.5769230769230769\n",
      "THREAD  23 PROGRESS: 0.5769230769230769\n",
      "THREAD  26 PROGRESS: 0.5769230769230769\n",
      "THREAD  29 PROGRESS: 0.5769230769230769\n",
      "THREAD  27 PROGRESS: 0.5769230769230769\n",
      "THREAD  25 PROGRESS: 0.5769230769230769\n",
      "THREAD  28 PROGRESS: 0.5769230769230769\n",
      "THREAD  31 PROGRESS: 0.5769230769230769\n",
      "THREAD  30 PROGRESS: 0.5769230769230769\n",
      "THREAD  32 PROGRESS: 0.5769230769230769\n",
      "THREAD  35 PROGRESS: 0.5769230769230769\n",
      "THREAD  34 PROGRESS: 0.5769230769230769\n",
      "THREAD  42 PROGRESS: 0.5769230769230769\n",
      "THREAD  33 PROGRESS: 0.5769230769230769\n",
      "THREAD  36 PROGRESS: 0.5769230769230769\n",
      "THREAD  37 PROGRESS: 0.5769230769230769\n",
      "THREAD  38 PROGRESS: 0.5769230769230769\n",
      "THREAD  40 PROGRESS: 0.5769230769230769\n",
      "THREAD  44 PROGRESS: 0.5769230769230769\n",
      "THREAD  39 PROGRESS: 0.5769230769230769\n",
      "THREAD  43 PROGRESS: 0.5769230769230769\n",
      "THREAD  41 PROGRESS: 0.5769230769230769\n",
      "THREAD  45 PROGRESS: 0.5769230769230769\n",
      "THREAD  46 PROGRESS: 0.5769230769230769\n",
      "THREAD  50 PROGRESS: 0.5769230769230769\n",
      "THREAD  52 PROGRESS: 0.5769230769230769\n",
      "THREAD  49 PROGRESS: 0.5769230769230769\n",
      "THREAD  47 PROGRESS: 0.5769230769230769\n",
      "THREAD  54 PROGRESS: 0.5769230769230769\n",
      "THREAD  51 PROGRESS: 0.5769230769230769\n",
      "THREAD  48 PROGRESS: 0.5769230769230769\n",
      "THREAD  53 PROGRESS: 0.5769230769230769\n",
      "THREAD  55 PROGRESS: 0.5769230769230769\n",
      "THREAD  56 PROGRESS: 0.5769230769230769\n",
      "THREAD  59 PROGRESS: 0.5882352941176471\n",
      "THREAD  58 PROGRESS: 0.5882352941176471\n",
      "THREAD  57 PROGRESS: 0.5769230769230769\n"
     ]
    }
   ],
   "source": [
    "factorToTrade = \"SPY\"\n",
    "modelReturns, modelPredictions, modelReturnsWithFactor, joinedData =\\\n",
    "    computeReturnsForUniqueModels(uniqueModels, factorToTrade)"
   ]
  },
  {
   "cell_type": "code",
   "execution_count": 11,
   "metadata": {
    "collapsed": false
   },
   "outputs": [
    {
     "data": {
      "text/html": [
       "<div>\n",
       "<style>\n",
       "    .dataframe thead tr:only-child th {\n",
       "        text-align: right;\n",
       "    }\n",
       "\n",
       "    .dataframe thead th {\n",
       "        text-align: left;\n",
       "    }\n",
       "\n",
       "    .dataframe tbody tr th {\n",
       "        vertical-align: top;\n",
       "    }\n",
       "</style>\n",
       "<table border=\"1\" class=\"dataframe\">\n",
       "  <thead>\n",
       "    <tr style=\"text-align: right;\">\n",
       "      <th></th>\n",
       "      <th>((10, ('IEF', 3, None, None), 2, 'EWT'), 10, 50)</th>\n",
       "      <th>((10, ('EWH', 5, None, 10), 2, 'EWT'), 10, 25)</th>\n",
       "      <th>Factor Return</th>\n",
       "    </tr>\n",
       "  </thead>\n",
       "  <tbody>\n",
       "    <tr>\n",
       "      <th>((10, ('IEF', 3, None, None), 2, 'EWT'), 10, 50)</th>\n",
       "      <td>1.000000</td>\n",
       "      <td>-0.037648</td>\n",
       "      <td>0.029821</td>\n",
       "    </tr>\n",
       "    <tr>\n",
       "      <th>((10, ('EWH', 5, None, 10), 2, 'EWT'), 10, 25)</th>\n",
       "      <td>-0.037648</td>\n",
       "      <td>1.000000</td>\n",
       "      <td>-0.122131</td>\n",
       "    </tr>\n",
       "    <tr>\n",
       "      <th>Factor Return</th>\n",
       "      <td>0.029821</td>\n",
       "      <td>-0.122131</td>\n",
       "      <td>1.000000</td>\n",
       "    </tr>\n",
       "  </tbody>\n",
       "</table>\n",
       "</div>"
      ],
      "text/plain": [
       "                                                  ((10, ('IEF', 3, None, None), 2, 'EWT'), 10, 50)  \\\n",
       "((10, ('IEF', 3, None, None), 2, 'EWT'), 10, 50)                                          1.000000   \n",
       "((10, ('EWH', 5, None, 10), 2, 'EWT'), 10, 25)                                           -0.037648   \n",
       "Factor Return                                                                             0.029821   \n",
       "\n",
       "                                                  ((10, ('EWH', 5, None, 10), 2, 'EWT'), 10, 25)  \\\n",
       "((10, ('IEF', 3, None, None), 2, 'EWT'), 10, 50)                                       -0.037648   \n",
       "((10, ('EWH', 5, None, 10), 2, 'EWT'), 10, 25)                                          1.000000   \n",
       "Factor Return                                                                          -0.122131   \n",
       "\n",
       "                                                  Factor Return  \n",
       "((10, ('IEF', 3, None, None), 2, 'EWT'), 10, 50)       0.029821  \n",
       "((10, ('EWH', 5, None, 10), 2, 'EWT'), 10, 25)        -0.122131  \n",
       "Factor Return                                          1.000000  "
      ]
     },
     "metadata": {},
     "output_type": "display_data"
    },
    {
     "data": {
      "image/png": "[encoded data removed]",
      "text/plain": [
       "<matplotlib.figure.Figure at 0x7f5e580ad940>"
      ]
     },
     "metadata": {},
     "output_type": "display_data"
    },
    {
     "data": {
      "text/html": [
       "<div>\n",
       "<style>\n",
       "    .dataframe thead tr:only-child th {\n",
       "        text-align: right;\n",
       "    }\n",
       "\n",
       "    .dataframe thead th {\n",
       "        text-align: left;\n",
       "    }\n",
       "\n",
       "    .dataframe tbody tr th {\n",
       "        vertical-align: top;\n",
       "    }\n",
       "</style>\n",
       "<table border=\"1\" class=\"dataframe\">\n",
       "  <thead>\n",
       "    <tr style=\"text-align: right;\">\n",
       "      <th></th>\n",
       "      <th>((10, ('IEF', 3, None, None), 2, 'EWT'), 10, 50)</th>\n",
       "      <th>((10, ('EWH', 5, None, 10), 2, 'EWT'), 10, 25)</th>\n",
       "      <th>Factor Return</th>\n",
       "    </tr>\n",
       "  </thead>\n",
       "  <tbody>\n",
       "    <tr>\n",
       "      <th>((10, ('IEF', 3, None, None), 2, 'EWT'), 10, 50)</th>\n",
       "      <td>0.000134</td>\n",
       "      <td>-0.000006</td>\n",
       "      <td>0.000004</td>\n",
       "    </tr>\n",
       "    <tr>\n",
       "      <th>((10, ('EWH', 5, None, 10), 2, 'EWT'), 10, 25)</th>\n",
       "      <td>-0.000006</td>\n",
       "      <td>0.000194</td>\n",
       "      <td>-0.000021</td>\n",
       "    </tr>\n",
       "    <tr>\n",
       "      <th>Factor Return</th>\n",
       "      <td>0.000004</td>\n",
       "      <td>-0.000021</td>\n",
       "      <td>0.000146</td>\n",
       "    </tr>\n",
       "  </tbody>\n",
       "</table>\n",
       "</div>"
      ],
      "text/plain": [
       "                                                  ((10, ('IEF', 3, None, None), 2, 'EWT'), 10, 50)  \\\n",
       "((10, ('IEF', 3, None, None), 2, 'EWT'), 10, 50)                                          0.000134   \n",
       "((10, ('EWH', 5, None, 10), 2, 'EWT'), 10, 25)                                           -0.000006   \n",
       "Factor Return                                                                             0.000004   \n",
       "\n",
       "                                                  ((10, ('EWH', 5, None, 10), 2, 'EWT'), 10, 25)  \\\n",
       "((10, ('IEF', 3, None, None), 2, 'EWT'), 10, 50)                                       -0.000006   \n",
       "((10, ('EWH', 5, None, 10), 2, 'EWT'), 10, 25)                                          0.000194   \n",
       "Factor Return                                                                          -0.000021   \n",
       "\n",
       "                                                  Factor Return  \n",
       "((10, ('IEF', 3, None, None), 2, 'EWT'), 10, 50)       0.000004  \n",
       "((10, ('EWH', 5, None, 10), 2, 'EWT'), 10, 25)        -0.000021  \n",
       "Factor Return                                          0.000146  "
      ]
     },
     "metadata": {},
     "output_type": "display_data"
    },
    {
     "data": {
      "image/png": "[encoded data removed]",
      "text/plain": [
       "<matplotlib.figure.Figure at 0x7f5e5803b390>"
      ]
     },
     "metadata": {},
     "output_type": "display_data"
    }
   ],
   "source": [
    "%matplotlib inline\n",
    "portfolioGeneration.visualizeModels(modelReturnsWithFactor)"
   ]
  },
  {
   "cell_type": "code",
   "execution_count": 12,
   "metadata": {
    "collapsed": false
   },
   "outputs": [
    {
     "name": "stdout",
     "output_type": "stream",
     "text": [
      "((10, ('IEF', 3, None, None), 2, 'EWT'), 10, 50)\n",
      "((10, ('EWH', 5, None, 10), 2, 'EWT'), 10, 25)\n"
     ]
    }
   ],
   "source": [
    "portfolioGeneration.storePastPredictions(uniqueModels, modelPredictions)"
   ]
  },
  {
   "cell_type": "code",
   "execution_count": 13,
   "metadata": {
    "collapsed": false
   },
   "outputs": [
    {
     "name": "stdout",
     "output_type": "stream",
     "text": [
      "PORTFOLIO HASH: 6258238755a1b74f251d1455565b494a05fec30eba348b8a17101c42\n",
      "a762825ed2a3e080b702b24d23121d77b9e6b6fe24af40f5d3187f44\n",
      "b903708f9b21d044698db01d68f6be915739a688f28c591eb57807c3\n"
     ]
    }
   ],
   "source": [
    "portfolioHash = portfolioGeneration.storePortfolio(uniqueModels,\\\n",
    "            description=\"Just trade underlying vs SPY\", benchmark=factorToTrade)"
   ]
  },
  {
   "cell_type": "code",
   "execution_count": 29,
   "metadata": {
    "collapsed": false
   },
   "outputs": [
    {
     "data": {
      "text/plain": [
       "<module 'portfolioGeneration' from '/home/prohb125/walkforwardTrader/portfolioGeneration.py'>"
      ]
     },
     "execution_count": 29,
     "metadata": {},
     "output_type": "execute_result"
    }
   ],
   "source": [
    "import importlib\n",
    "importlib.reload(portfolioGeneration)"
   ]
  },
  {
   "cell_type": "code",
   "execution_count": 22,
   "metadata": {
    "collapsed": true
   },
   "outputs": [],
   "source": [
    "modelHashes = portfolioGeneration.getPortfolioModels(portfolioHash)"
   ]
  },
  {
   "cell_type": "code",
   "execution_count": 23,
   "metadata": {
    "collapsed": true
   },
   "outputs": [],
   "source": [
    "allModels = portfolio.getModelsByKey(modelHashes)"
   ]
  },
  {
   "cell_type": "code",
   "execution_count": 26,
   "metadata": {
    "collapsed": false
   },
   "outputs": [],
   "source": [
    "aggregateReturns, aggregatePredictions = portfolioGeneration.generateAggregateReturnsPredictions(allModels, joinedData)"
   ]
  },
  {
   "cell_type": "code",
   "execution_count": 27,
   "metadata": {
    "collapsed": false
   },
   "outputs": [
    {
     "name": "stdout",
     "output_type": "stream",
     "text": [
      "COMPUTED HISTORICAL WEIGHTS\n"
     ]
    }
   ],
   "source": [
    "hrpReturns, historicalWeights = portfolioGeneration.\\\n",
    "    produceHRPPredictions(aggregateReturns[[portfolio.getModelHash(model) for model in allModels]],\\\n",
    "    22, startIndex=None, maxWindowSize=True)\n",
    "print(\"COMPUTED HISTORICAL WEIGHTS\")\n",
    "portfolioGeneration.storeHistoricalAllocations(portfolioHash, \\\n",
    "                allModels, historicalWeights, aggregatePredictions)"
   ]
  },
  {
   "cell_type": "code",
   "execution_count": null,
   "metadata": {
    "collapsed": false
   },
   "outputs": [
    {
     "name": "stdout",
     "output_type": "stream",
     "text": [
      "{'key': '6258238755a1b74f251d1455565b494a05fec30eba348b8a17101c42', 'description': 'Just trade underlying vs SPY', 'benchmark': 'SPY'}\n",
      "((10, ('EWH', 5, None, 10), 2, 'EWT'), 10, 25)\n",
      "((10, ('IEF', 3, None, None), 2, 'EWT'), 10, 50)\n",
      "EWT\n",
      "SPY\n"
     ]
    }
   ],
   "source": [
    "portfolioInfo = portfolio.getPortfolioByKey(portfolioHash)\n",
    "portfolioInfo = {\n",
    "    \"key\":portfolioInfo.key.name,\n",
    "    \"description\":portfolioInfo[\"description\"],\n",
    "    \"benchmark\":portfolioInfo[\"benchmark\"]\n",
    "}\n",
    "print(portfolioInfo)\n",
    "portfolioData = portfolioGeneration.getDataForPortfolio(portfolioHash, factorToTrade)\n",
    "portfolioGeneration.cachePortfolio(portfolioInfo, portfolioData)"
   ]
  },
  {
   "cell_type": "code",
   "execution_count": null,
   "metadata": {
    "collapsed": true
   },
   "outputs": [],
   "source": []
  }
 ],
 "metadata": {
  "kernelspec": {
   "display_name": "Python 3",
   "language": "python",
   "name": "python3"
  },
  "language_info": {
   "codemirror_mode": {
    "name": "ipython",
    "version": 3
   },
   "file_extension": ".py",
   "mimetype": "text/x-python",
   "name": "python",
   "nbconvert_exporter": "python",
   "pygments_lexer": "ipython3",
   "version": "3.6.0"
  }
 },
 "nbformat": 4,
 "nbformat_minor": 2
}
