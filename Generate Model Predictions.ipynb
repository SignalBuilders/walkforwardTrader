{
 "cells": [
  {
   "cell_type": "code",
   "execution_count": 1,
   "metadata": {
    "collapsed": false
   },
   "outputs": [],
   "source": [
    "import params\n",
    "from google.cloud import datastore, storage, logging\n",
    "import time\n",
    "import pickle\n",
    "import hashlib\n",
    "import sys\n",
    "import numpy as np\n",
    "import portfolio\n",
    "import dataAck\n",
    "import warnings\n",
    "warnings.filterwarnings(\"ignore\")\n",
    "import portfolioGeneration"
   ]
  },
  {
   "cell_type": "code",
   "execution_count": 2,
   "metadata": {
    "collapsed": false
   },
   "outputs": [],
   "source": [
    "modelHashes = portfolioGeneration.getAllPortfolioModels()"
   ]
  },
  {
   "cell_type": "code",
   "execution_count": 3,
   "metadata": {
    "collapsed": false
   },
   "outputs": [],
   "source": [
    "allModels = portfolio.getModelsByKey(modelHashes)"
   ]
  },
  {
   "cell_type": "code",
   "execution_count": 4,
   "metadata": {
    "collapsed": false
   },
   "outputs": [
    {
     "name": "stdout",
     "output_type": "stream",
     "text": [
      "((10, ('GDX', 32, None, None), 3, 'EWZ'), 10, 50)\n",
      "((22, ('GDX', 32, None, None), 3, 'EWZ'), 22, 100)\n",
      "((10, ('XLV', 31, None, 14), 2, 'VO'), 10, 50)\n",
      "((10, ('SHY', 30, None, None), 3, 'VO'), 10, 25)\n",
      "((10, ('TIP', 24, None, 15), 2, 'VO'), 10, 25)\n",
      "((10, ('SHY', 30, None, None), 2, 'VO'), 10, 25)\n",
      "((22, ('IWF', 4, None, None), 3, 'VO'), 22, 25)\n",
      "GDX\n",
      "TIP\n",
      "VO\n",
      "SHY\n",
      "IWF\n",
      "EWZ\n",
      "XLV\n"
     ]
    }
   ],
   "source": [
    "joinedData = portfolioGeneration.getPertinentDataForModels(allModels)"
   ]
  },
  {
   "cell_type": "code",
   "execution_count": 8,
   "metadata": {
    "collapsed": false
   },
   "outputs": [
    {
     "name": "stdout",
     "output_type": "stream",
     "text": [
      "((10, ('TIP', 24, None, 15), 2, 'VO'), 10, 25) 1.0 2017-08-14 00:00:00\n",
      "((10, ('TIP', 24, None, 15), 2, 'VO'), 10, 25) 1.0 2017-08-11 00:00:00\n",
      "((10, ('GDX', 32, None, None), 3, 'EWZ'), 10, 50) 1.0 2017-08-14 00:00:00\n",
      "((10, ('GDX', 32, None, None), 3, 'EWZ'), 10, 50) 1.0 2017-08-10 00:00:00\n",
      "((10, ('GDX', 32, None, None), 3, 'EWZ'), 10, 50) -1.0 2017-08-11 00:00:00\n",
      "((22, ('GDX', 32, None, None), 3, 'EWZ'), 22, 100) 1.0 2017-08-14 00:00:00\n",
      "((22, ('GDX', 32, None, None), 3, 'EWZ'), 22, 100) 1.0 2017-08-10 00:00:00\n",
      "((22, ('GDX', 32, None, None), 3, 'EWZ'), 22, 100) 1.0 2017-08-11 00:00:00\n",
      "((10, ('SHY', 30, None, None), 2, 'VO'), 10, 25) 1.0 2017-08-14 00:00:00\n",
      "((10, ('SHY', 30, None, None), 2, 'VO'), 10, 25) 1.0 2017-08-11 00:00:00\n",
      "((22, ('IWF', 4, None, None), 3, 'VO'), 22, 25) 1.0 2017-08-14 00:00:00\n",
      "((22, ('IWF', 4, None, None), 3, 'VO'), 22, 25) 1.0 2017-08-10 00:00:00\n",
      "((22, ('IWF', 4, None, None), 3, 'VO'), 22, 25) 1.0 2017-08-11 00:00:00\n",
      "((10, ('SHY', 30, None, None), 3, 'VO'), 10, 25) 1.0 2017-08-14 00:00:00\n",
      "((10, ('SHY', 30, None, None), 3, 'VO'), 10, 25) 1.0 2017-08-10 00:00:00\n",
      "((10, ('SHY', 30, None, None), 3, 'VO'), 10, 25) 1.0 2017-08-11 00:00:00\n",
      "((10, ('XLV', 31, None, 14), 2, 'VO'), 10, 50) 0.0 2017-08-14 00:00:00\n",
      "((10, ('XLV', 31, None, 14), 2, 'VO'), 10, 50) 1.0 2017-08-11 00:00:00\n"
     ]
    }
   ],
   "source": [
    "portfolioGeneration.generateRawPredictions(allModels, joinedData, daysBack = True)"
   ]
  },
  {
   "cell_type": "code",
   "execution_count": 17,
   "metadata": {
    "collapsed": false
   },
   "outputs": [
    {
     "name": "stdout",
     "output_type": "stream",
     "text": [
      "((10, ('SHY', 30, None, None), 3, 'VO'), 10, 25) 1.0\n",
      "((22, ('IWF', 4, None, None), 3, 'VO'), 22, 25) 0.3333333333333333\n",
      "((10, ('SHY', 30, None, None), 2, 'VO'), 10, 25) 1.0\n",
      "((10, ('TIP', 24, None, 15), 2, 'VO'), 10, 25) -1.0\n",
      "((10, ('XLV', 31, None, 14), 2, 'VO'), 10, 50) 0.0\n"
     ]
    }
   ],
   "source": [
    "##STORE TODAY AGGREGATE FOR ALL MODELS\n",
    "for model in allModels:\n",
    "    todayAggregatePrediction = portfolio.getAggregatePredictionForModelDaily(model, joinedData)\n",
    "    print(model.describe(), todayAggregatePrediction)\n",
    "    portfolio.storeAggregateModelPrediction(model, todayAggregatePrediction, portfolio.getToday(), shouldReturn = False)"
   ]
  },
  {
   "cell_type": "code",
   "execution_count": null,
   "metadata": {
    "collapsed": true
   },
   "outputs": [],
   "source": []
  }
 ],
 "metadata": {
  "kernelspec": {
   "display_name": "Python 3",
   "language": "python",
   "name": "python3"
  },
  "language_info": {
   "codemirror_mode": {
    "name": "ipython",
    "version": 3
   },
   "file_extension": ".py",
   "mimetype": "text/x-python",
   "name": "python",
   "nbconvert_exporter": "python",
   "pygments_lexer": "ipython3",
   "version": "3.6.0"
  }
 },
 "nbformat": 4,
 "nbformat_minor": 2
}
