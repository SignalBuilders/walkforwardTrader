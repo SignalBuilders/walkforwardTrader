{
 "cells": [
  {
   "cell_type": "code",
   "execution_count": null,
   "metadata": {
    "collapsed": true
   },
   "outputs": [],
   "source": [
    "import params\n",
    "from google.cloud import datastore, storage, logging\n",
    "import time\n",
    "import pickle\n",
    "import hashlib\n",
    "import sys\n",
    "import numpy as np"
   ]
  },
  {
   "cell_type": "code",
   "execution_count": null,
   "metadata": {
    "collapsed": true
   },
   "outputs": [],
   "source": [
    "##GET ALL MODELS PART OF PORTFOLIOS\n",
    "def getAllPortfolioModels():\n",
    "    while True:\n",
    "        try:\n",
    "            datastore_client = datastore.Client('money-maker-1236')\n",
    "            query = datastore_client.query(kind=params.portfolioDB)\n",
    "            \n",
    "            retrievedModels = [item[\"model\"] for item in list(query.fetch())]\n",
    "\n",
    "            return list(set(retrievedModels))\n",
    "        except:\n",
    "            time.sleep(10)\n",
    "            print(\"DATA SOURCE RETRIEVAL ERROR:\", str(sys.exc_info()))"
   ]
  }
 ],
 "metadata": {
  "kernelspec": {
   "display_name": "Python 3",
   "language": "python",
   "name": "python3"
  },
  "language_info": {
   "codemirror_mode": {
    "name": "ipython",
    "version": 3
   },
   "file_extension": ".py",
   "mimetype": "text/x-python",
   "name": "python",
   "nbconvert_exporter": "python",
   "pygments_lexer": "ipython3",
   "version": "3.6.0"
  }
 },
 "nbformat": 4,
 "nbformat_minor": 2
}
