{
 "cells": [
  {
   "cell_type": "code",
   "execution_count": 21,
   "metadata": {
    "collapsed": true
   },
   "outputs": [],
   "source": [
    "import params\n",
    "import curveTreeDB"
   ]
  },
  {
   "cell_type": "code",
   "execution_count": 22,
   "metadata": {
    "collapsed": true
   },
   "outputs": [],
   "source": [
    "from google.cloud import datastore, storage, logging\n",
    "def deleteKeys(db, keys):\n",
    "    while True:\n",
    "        try:\n",
    "            datastore_client = datastore.Client('money-maker-1236')\n",
    "            dbkeys = [datastore_client.key(db,  key) for key in keys]\n",
    "            datastore_client.delete_multi(dbkeys)\n",
    "            break\n",
    "        except:\n",
    "            time.sleep(10)\n",
    "            print(\"DATA SOURCE RETRIEVAL ERROR:\", str(sys.exc_info()))"
   ]
  },
  {
   "cell_type": "code",
   "execution_count": 27,
   "metadata": {
    "collapsed": false
   },
   "outputs": [
    {
     "name": "stdout",
     "output_type": "stream",
     "text": [
      "DELETING KEYS 301\n",
      "DELETING KEYS 301\n",
      "DELETING KEYS 301\n",
      "DELETING KEYS 301\n",
      "DELETING KEYS 301\n",
      "DELETING KEYS 301\n",
      "DELETING KEYS 301\n",
      "DELETING KEYS 111\n"
     ]
    }
   ],
   "source": [
    "allModels = curveTreeDB.getModels(params.treeModels, ticker = None, returnEntireObject = True)\n",
    "keysToDelete = []\n",
    "for modInfo in allModels:\n",
    "    if modInfo[\"IS_TOTAL DAYS SEEN\"] < 1700:\n",
    "        keysToDelete.append(modInfo[\"model\"].getHash())\n",
    "    \n",
    "    if len(keysToDelete) > 300:\n",
    "        deleteKeys(params.treeModels, keysToDelete)\n",
    "        print(\"DELETING KEYS\", len(keysToDelete))\n",
    "        keysToDelete = []\n",
    "print(\"DELETING KEYS\", len(keysToDelete))\n",
    "if len(keysToDelete) > 0:\n",
    "    deleteKeys(params.treeModels, keysToDelete)\n",
    "    \n",
    "    "
   ]
  },
  {
   "cell_type": "code",
   "execution_count": null,
   "metadata": {
    "collapsed": true
   },
   "outputs": [],
   "source": []
  }
 ],
 "metadata": {
  "kernelspec": {
   "display_name": "Python 3",
   "language": "python",
   "name": "python3"
  },
  "language_info": {
   "codemirror_mode": {
    "name": "ipython",
    "version": 3
   },
   "file_extension": ".py",
   "mimetype": "text/x-python",
   "name": "python",
   "nbconvert_exporter": "python",
   "pygments_lexer": "ipython3",
   "version": "3.6.0"
  }
 },
 "nbformat": 4,
 "nbformat_minor": 2
}
