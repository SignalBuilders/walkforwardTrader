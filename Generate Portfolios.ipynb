{
 "cells": [
  {
   "cell_type": "code",
   "execution_count": 1,
   "metadata": {
    "collapsed": true
   },
   "outputs": [],
   "source": [
    "import params\n",
    "from google.cloud import datastore, storage, logging\n",
    "import time\n",
    "import pickle\n",
    "import hashlib\n",
    "import sys\n",
    "import numpy as np"
   ]
  },
  {
   "cell_type": "code",
   "execution_count": 20,
   "metadata": {
    "collapsed": true
   },
   "outputs": [],
   "source": [
    "def getUniqueModels(allModels):\n",
    "    ##MUST PASS IN MODEL ENTITY\n",
    "    ##GETS BEST MODEL FOR EACH INPUT SERIES\n",
    "    sequences = {} \n",
    "    for modelEntity in allModels:\n",
    "        model = modelEntity[\"model\"]\n",
    "        thisSeq = str(model.inputSeries.describe())\n",
    "        if thisSeq not in sequences:\n",
    "            sequences[thisSeq] = []\n",
    "        sequences[thisSeq].append({\n",
    "            \"model\":model,\n",
    "            \"info\":modelEntity\n",
    "        })\n",
    "    modelsToReturn = []\n",
    "    for seq in sequences:\n",
    "        bestModel = None\n",
    "        for modelInfo in sequences[seq]:\n",
    "            if bestModel is None:\n",
    "                bestModel = modelInfo\n",
    "            else:\n",
    "                if bestModel[\"info\"][\"STABILITY\"] < modelInfo[\"info\"][\"STABILITY\"]:\n",
    "                    bestModel = modelInfo\n",
    "        modelsToReturn.append(bestModel[\"model\"])\n",
    "    return modelsToReturn"
   ]
  },
  {
   "cell_type": "code",
   "execution_count": 21,
   "metadata": {
    "collapsed": false
   },
   "outputs": [
    {
     "name": "stdout",
     "output_type": "stream",
     "text": [
      "((10, ('EWT', 33, None, None), 3, 'XLY'), 10, 50)\n",
      "((10, ('EWT', 33, None, None), 5, 'XLY'), 10, 100)\n",
      "((10, ('EWT', 33, None, None), 5, 'XLY'), 10, 50)\n",
      "((10, ('EWT', 33, None, None), 5, 'XLY'), 10, 250)\n"
     ]
    }
   ],
   "source": [
    "import portfolio\n",
    "import dataAck\n",
    "import warnings\n",
    "import numpy as np\n",
    "warnings.filterwarnings(\"ignore\")\n",
    "tickerToTrade = \"XLY\"\n",
    "allModels = portfolio.getModels(tickerToTrade, returnEntireObject=True)\n",
    "for modelEntity in allModels:\n",
    "    model = modelEntity[\"model\"]\n",
    "    print(model.describe())"
   ]
  },
  {
   "cell_type": "code",
   "execution_count": 22,
   "metadata": {
    "collapsed": false
   },
   "outputs": [
    {
     "name": "stdout",
     "output_type": "stream",
     "text": [
      "((10, ('EWT', 33, None, None), 3, 'XLY'), 10, 50)\n",
      "((10, ('EWT', 33, None, None), 5, 'XLY'), 10, 250)\n"
     ]
    }
   ],
   "source": [
    "uniqueModels = getUniqueModels(allModels)\n",
    "for model in uniqueModels:\n",
    "    print(model.describe())"
   ]
  },
  {
   "cell_type": "markdown",
   "metadata": {},
   "source": [
    "# VIEW CORRELATION AND COVARIANCE"
   ]
  },
  {
   "cell_type": "code",
   "execution_count": 23,
   "metadata": {
    "collapsed": true
   },
   "outputs": [],
   "source": [
    "def generateAllReturns(allModels, joinedData):\n",
    "    aggregateReturns = None\n",
    "    for mod in allModels:\n",
    "        print(mod.describe())\n",
    "        algoReturn, factorReturn, predictions =  mod.makePredictions(joinedData)\n",
    "        algoReturn.columns = [str(mod.describe())]\n",
    "        if aggregateReturns is None:\n",
    "            aggregateReturns = algoReturn\n",
    "        else:\n",
    "            aggregateReturns = aggregateReturns.join(algoReturn)\n",
    "    return aggregateReturns"
   ]
  },
  {
   "cell_type": "code",
   "execution_count": null,
   "metadata": {
    "collapsed": false,
    "scrolled": true
   },
   "outputs": [
    {
     "name": "stdout",
     "output_type": "stream",
     "text": [
      "((10, ('EWT', 33, None, None), 3, 'XLY'), 10, 50)\n",
      "((10, ('EWT', 33, None, None), 5, 'XLY'), 10, 250)\n",
      "EWT\n",
      "XLY\n",
      "((10, ('EWT', 33, None, None), 3, 'XLY'), 10, 50)\n"
     ]
    }
   ],
   "source": [
    "tickersRequired = []\n",
    "tickersTraded = []\n",
    "for mod in uniqueModels:\n",
    "    \n",
    "    print(mod.describe())\n",
    "    if mod.inputSeries.targetTicker not in tickersRequired:\n",
    "        tickersRequired.append(mod.inputSeries.targetTicker)\n",
    "    if mod.inputSeries.series.ticker not in tickersRequired:\n",
    "        tickersRequired.append(mod.inputSeries.series.ticker)\n",
    "    if mod.inputSeries.targetTicker not in tickersTraded:\n",
    "        tickersTraded.append(mod.inputSeries.targetTicker)\n",
    "    \n",
    "\n",
    "pulledData, validTickers = dataAck.downloadTickerData(tickersRequired)\n",
    "\n",
    "joinedData = dataAck.joinDatasets([pulledData[ticker] for ticker in pulledData])\n",
    "modelReturns = generateAllReturns(uniqueModels, joinedData[:-252])"
   ]
  },
  {
   "cell_type": "code",
   "execution_count": null,
   "metadata": {
    "collapsed": false
   },
   "outputs": [],
   "source": [
    "modelReturns"
   ]
  },
  {
   "cell_type": "code",
   "execution_count": null,
   "metadata": {
    "collapsed": false
   },
   "outputs": [],
   "source": [
    "modelReturnsWithFactor = modelReturns.join(dataAck.getDailyFactorReturn(tickerToTrade, joinedData))"
   ]
  },
  {
   "cell_type": "code",
   "execution_count": null,
   "metadata": {
    "collapsed": true
   },
   "outputs": [],
   "source": [
    "def visualizeModels(modelReturns):\n",
    "    from string import ascii_letters\n",
    "    import numpy as np\n",
    "    import pandas as pd\n",
    "    import seaborn as sns\n",
    "    import matplotlib.pyplot as plt\n",
    "    from IPython.display import display\n",
    "\n",
    "    sns.set(style=\"white\")\n",
    "\n",
    "\n",
    "    # Compute the correlation matrix\n",
    "    corr = modelReturns.corr()\n",
    "    display(corr)\n",
    "\n",
    "    # Generate a mask for the upper triangle\n",
    "    mask = np.zeros_like(corr, dtype=np.bool)\n",
    "    mask[np.triu_indices_from(mask)] = True\n",
    "\n",
    "    # Set up the matplotlib figure\n",
    "    f, ax = plt.subplots(figsize=(11, 9))\n",
    "\n",
    "    # Generate a custom diverging colormap\n",
    "    from matplotlib.colors import ListedColormap\n",
    "\n",
    "    # construct cmap\n",
    "    flatui = [\"#9b59b6\", \"#3498db\", \"#95a5a6\", \"#e74c3c\", \"#34495e\", \"#2ecc71\"]\n",
    "    cmap = ListedColormap(sns.color_palette(flatui).as_hex())\n",
    "    \n",
    "    # Draw the heatmap with the mask and correct aspect ratio\n",
    "    sns.heatmap(corr, mask=mask, cmap=cmap, center=0,\n",
    "                square=True, linewidths=.5, cbar_kws={\"shrink\": .5})\n",
    "    plt.show()\n",
    "    \n",
    "    sns.set(style=\"white\")\n",
    "    \n",
    "    # Compute the covariance matrix\n",
    "    cov = modelReturns.cov()\n",
    "    display(cov)\n",
    "    # Generate a mask for the upper triangle\n",
    "    mask = np.zeros_like(cov, dtype=np.bool)\n",
    "    mask[np.triu_indices_from(mask)] = True\n",
    "\n",
    "    # Set up the matplotlib figure\n",
    "    f, ax = plt.subplots(figsize=(11, 9))\n",
    "\n",
    "    # Generate a custom diverging colormap\n",
    "    flatui = [\"#9b59b6\", \"#3498db\", \"#95a5a6\", \"#e74c3c\", \"#34495e\", \"#2ecc71\"]\n",
    "    cmap = ListedColormap(sns.color_palette(flatui).as_hex())\n",
    "\n",
    "    # Draw the heatmap with the mask and correct aspect ratio\n",
    "    sns.heatmap(cov, mask=mask, cmap=cmap, center=0,\n",
    "                square=True, linewidths=.5, cbar_kws={\"shrink\": .5})\n",
    "    plt.show()"
   ]
  },
  {
   "cell_type": "code",
   "execution_count": null,
   "metadata": {
    "collapsed": false
   },
   "outputs": [],
   "source": [
    "%matplotlib inline\n",
    "visualizeModels(modelReturnsWithFactor)"
   ]
  },
  {
   "cell_type": "markdown",
   "metadata": {},
   "source": [
    "# STORE MODELS AS PORTFOLIO"
   ]
  },
  {
   "cell_type": "code",
   "execution_count": 36,
   "metadata": {
    "collapsed": false
   },
   "outputs": [],
   "source": [
    "\n",
    "def storePortfolio(models, description):\n",
    "    allHashes = []\n",
    "    for model in models:\n",
    "        organismHash = hashlib.sha224(str(model.describe()).encode('utf-8')).hexdigest()\n",
    "        allHashes.append(organismHash)\n",
    "    \n",
    "    allHashes.sort()\n",
    "    portfolioHash = hashlib.sha224(str(allHashes).encode('utf-8')).hexdigest()\n",
    "    print(\"PORTFOLIO HASH:\", portfolioHash)\n",
    "    for hashing in allHashes:\n",
    "        print(hashing)\n",
    "        \n",
    "    \n",
    "        ##UPLOAD ORGANISM OBJECT\n",
    "        while True:\n",
    "            try:\n",
    "                toUpload = {\n",
    "                    \"portfolio\":portfolioHash,\n",
    "                    \"model\":hashing\n",
    "                }\n",
    "                datastoreClient = datastore.Client('money-maker-1236')\n",
    "                #HASH DIGEST\n",
    "                key = datastoreClient.key(params.portfolioDB, hashlib.sha224(str(hashing + portfolioHash).encode('utf-8')).hexdigest()) #NEED TO HASH TO ENSURE UNDER COUNT\n",
    "                organismToStore = datastore.Entity(key=key)\n",
    "                organismToStore.update(toUpload)\n",
    "                datastoreClient.put(organismToStore)\n",
    "                break\n",
    "            except:\n",
    "                print(\"UPLOAD ERROR:\", str(sys.exc_info()))\n",
    "                time.sleep(10)\n",
    "    \n",
    "    while True:\n",
    "        try:\n",
    "            toUpload = {\n",
    "                \"description\":description\n",
    "            }\n",
    "            datastoreClient = datastore.Client('money-maker-1236')\n",
    "            #HASH DIGEST\n",
    "            key = datastoreClient.key(params.portfolioLookup, portfolioHash) #NEED TO HASH TO ENSURE UNDER COUNT\n",
    "            organismToStore = datastore.Entity(key=key)\n",
    "            organismToStore.update(toUpload)\n",
    "            datastoreClient.put(organismToStore)\n",
    "            break\n",
    "        except:\n",
    "            print(\"UPLOAD ERROR:\", str(sys.exc_info()))\n",
    "            time.sleep(10)"
   ]
  },
  {
   "cell_type": "code",
   "execution_count": 38,
   "metadata": {
    "collapsed": false
   },
   "outputs": [
    {
     "name": "stdout",
     "output_type": "stream",
     "text": [
      "PORTFOLIO HASH: 514d5ee998b05536888778bb1d1d48d638992056a6ed8bdb2023cee2\n",
      "30e79488fb925fedbb3f63f6abb86757c4763d92bc4e893a87556d59\n",
      "419d1aadd49f8b53c9f732b304c4d41a0576d4c721a3da0c0e0c7730\n",
      "584efc9e68aed8795e0138754b77cc3c760d3454153bddf090caf8f9\n",
      "7ff98f4707692aaf28e9b72000b57a7934e07a7d715957e4e389bff2\n",
      "bad9f9f22f779a70cccb3c9197c9f0b5229ce68f4c648aa04e04f97f\n",
      "bafabbb2ddbb6e294ed821e1e1e41116981d49addb415b95798bb67e\n",
      "beef2ac53b15ac017d4a6c61d83d1a8126ca82d4025fbfbd582fb8df\n",
      "c26a1518a8eb9d58caca155d4bb0dfbb0a52574d37e69cd3eb48282e\n",
      "e1111d514a667ab22d8f48a2734a7dab0be1350f8ce70ca3b8a172ac\n"
     ]
    }
   ],
   "source": [
    "storePortfolio(allModels, \"EWZ 08-11-19\")"
   ]
  },
  {
   "cell_type": "code",
   "execution_count": 42,
   "metadata": {
    "collapsed": true
   },
   "outputs": [],
   "source": [
    "def getPortfolios():\n",
    "    while True:\n",
    "        try:\n",
    "            datastore_client = datastore.Client('money-maker-1236')\n",
    "            query = datastore_client.query(kind=params.portfolioLookup)\n",
    "            retrievedPortfolios = [{\n",
    "                \"key\":item.key.name,\n",
    "                \"description\":item[\"description\"]\n",
    "            } for item in list(query.fetch())]\n",
    "\n",
    "            return retrievedPortfolios\n",
    "        except:\n",
    "            time.sleep(10)\n",
    "            print(\"DATA SOURCE RETRIEVAL ERROR:\", str(sys.exc_info()))"
   ]
  },
  {
   "cell_type": "code",
   "execution_count": 44,
   "metadata": {
    "collapsed": false
   },
   "outputs": [
    {
     "name": "stdout",
     "output_type": "stream",
     "text": [
      "[{'key': '514d5ee998b05536888778bb1d1d48d638992056a6ed8bdb2023cee2', 'description': 'EWZ 08-11-19'}]\n"
     ]
    }
   ],
   "source": [
    "portfolios = getPortfolios()\n",
    "print(portfolios)"
   ]
  },
  {
   "cell_type": "code",
   "execution_count": 45,
   "metadata": {
    "collapsed": true
   },
   "outputs": [],
   "source": [
    "def getPortfolioModels(portfolioKey):\n",
    "    while True:\n",
    "        try:\n",
    "            datastore_client = datastore.Client('money-maker-1236')\n",
    "            query = datastore_client.query(kind=params.portfolioDB)\n",
    "            query.add_filter('portfolio', '=', portfolioKey)\n",
    "            \n",
    "            retrievedModels = [item[\"model\"] for item in list(query.fetch())]\n",
    "\n",
    "            return retrievedModels\n",
    "        except:\n",
    "            time.sleep(10)\n",
    "            print(\"DATA SOURCE RETRIEVAL ERROR:\", str(sys.exc_info()))"
   ]
  },
  {
   "cell_type": "code",
   "execution_count": 47,
   "metadata": {
    "collapsed": false
   },
   "outputs": [
    {
     "name": "stdout",
     "output_type": "stream",
     "text": [
      "{'key': '514d5ee998b05536888778bb1d1d48d638992056a6ed8bdb2023cee2', 'description': 'EWZ 08-11-19'}\n",
      "['bafabbb2ddbb6e294ed821e1e1e41116981d49addb415b95798bb67e', 'e1111d514a667ab22d8f48a2734a7dab0be1350f8ce70ca3b8a172ac', 'beef2ac53b15ac017d4a6c61d83d1a8126ca82d4025fbfbd582fb8df', 'bad9f9f22f779a70cccb3c9197c9f0b5229ce68f4c648aa04e04f97f', '30e79488fb925fedbb3f63f6abb86757c4763d92bc4e893a87556d59', '419d1aadd49f8b53c9f732b304c4d41a0576d4c721a3da0c0e0c7730', '584efc9e68aed8795e0138754b77cc3c760d3454153bddf090caf8f9', 'c26a1518a8eb9d58caca155d4bb0dfbb0a52574d37e69cd3eb48282e', '7ff98f4707692aaf28e9b72000b57a7934e07a7d715957e4e389bff2']\n"
     ]
    }
   ],
   "source": [
    "for item in portfolios:\n",
    "    print(item)\n",
    "    print(getPortfolioModels(item[\"key\"]))"
   ]
  },
  {
   "cell_type": "code",
   "execution_count": 52,
   "metadata": {
    "collapsed": true
   },
   "outputs": [],
   "source": [
    "def getModelsByKey(modelHashes):\n",
    "    while True:\n",
    "        try:\n",
    "            datastore_client = datastore.Client('money-maker-1236')\n",
    "            ##form keys\n",
    "            keys = []\n",
    "            for hashing in modelHashes:\n",
    "                key = datastore_client.key(params.datastoreName, hashing)\n",
    "                keys.append(key)\n",
    "                \n",
    "            retrievedModels = datastore_client.get_multi(keys)\n",
    "            toReturn = []\n",
    "            for source in retrievedModels:\n",
    "                toReturn.append(pickle.loads(source[\"model\"]))\n",
    "            return toReturn\n",
    "            \n",
    "        except:\n",
    "            time.sleep(10)\n",
    "            print(\"DATA SOURCE RETRIEVAL ERROR:\", str(sys.exc_info()))"
   ]
  },
  {
   "cell_type": "code",
   "execution_count": 53,
   "metadata": {
    "collapsed": false
   },
   "outputs": [
    {
     "data": {
      "text/plain": [
       "[<dataAck.algoBlob at 0x1110845f8>,\n",
       " <dataAck.algoBlob at 0x11109dbe0>,\n",
       " <dataAck.algoBlob at 0x11109d400>,\n",
       " <dataAck.algoBlob at 0x110df5828>,\n",
       " <dataAck.algoBlob at 0x11109d5f8>,\n",
       " <dataAck.algoBlob at 0x1111c62b0>,\n",
       " <dataAck.algoBlob at 0x1111c6470>,\n",
       " <dataAck.algoBlob at 0x1111c6dd8>,\n",
       " <dataAck.algoBlob at 0x1111c6ba8>]"
      ]
     },
     "execution_count": 53,
     "metadata": {},
     "output_type": "execute_result"
    }
   ],
   "source": [
    "getModelsByKey(getPortfolioModels(item[\"key\"]))"
   ]
  },
  {
   "cell_type": "code",
   "execution_count": null,
   "metadata": {
    "collapsed": true
   },
   "outputs": [],
   "source": []
  }
 ],
 "metadata": {
  "kernelspec": {
   "display_name": "Python 3",
   "language": "python",
   "name": "python3"
  },
  "language_info": {
   "codemirror_mode": {
    "name": "ipython",
    "version": 3
   },
   "file_extension": ".py",
   "mimetype": "text/x-python",
   "name": "python",
   "nbconvert_exporter": "python",
   "pygments_lexer": "ipython3",
   "version": "3.6.0"
  }
 },
 "nbformat": 4,
 "nbformat_minor": 2
}
