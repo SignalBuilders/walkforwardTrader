{
 "cells": [
  {
   "cell_type": "code",
   "execution_count": 1,
   "metadata": {
    "collapsed": false
   },
   "outputs": [
    {
     "name": "stdout",
     "output_type": "stream",
     "text": [
      "((22, ('GDX', 32, None, None), 2, 'EWZ'), 22, 50)\n",
      "((22, ('GDX', 32, None, None), 5, 'EWZ'), 22, 50)\n",
      "((22, ('GDX', 32, None, None), 3, 'EWZ'), 22, 25)\n",
      "((22, ('GDX', 32, None, None), 2, 'EWZ'), 22, 250)\n",
      "((10, ('GDX', 32, None, None), 5, 'EWZ'), 10, 25)\n",
      "((22, ('GDX', 32, None, None), 3, 'EWZ'), 22, 100)\n",
      "((10, ('GDX', 32, None, None), 2, 'EWZ'), 10, 100)\n",
      "((10, ('GDX', 32, None, None), 3, 'EWZ'), 10, 250)\n",
      "((10, ('GDX', 32, None, None), 3, 'EWZ'), 10, 50)\n"
     ]
    }
   ],
   "source": [
    "import portfolio\n",
    "import dataAck\n",
    "import warnings\n",
    "import numpy as np\n",
    "warnings.filterwarnings(\"ignore\")\n",
    "\n",
    "allModels = portfolio.getModels(\"EWZ\")\n",
    "for model in allModels:\n",
    "    print(model.describe())"
   ]
  },
  {
   "cell_type": "markdown",
   "metadata": {},
   "source": [
    "# VIEW CORRELATION AND COVARIANCE"
   ]
  },
  {
   "cell_type": "code",
   "execution_count": 55,
   "metadata": {
    "collapsed": true
   },
   "outputs": [],
   "source": [
    "def generateAllReturns(allModels, joinedData):\n",
    "    aggregateReturns = None\n",
    "    for mod in allModels:\n",
    "        print(mod.describe())\n",
    "        algoReturn, factorReturn, predictions =  mod.makePredictions(joinedData) ##ONLY GET LAST 300 PREDICTIONS\n",
    "        algoReturn.columns = [str(mod.describe())]\n",
    "        if aggregateReturns is None:\n",
    "            aggregateReturns = algoReturn\n",
    "        else:\n",
    "            aggregateReturns = aggregateReturns.join(algoReturn)\n",
    "    return aggregateReturns"
   ]
  },
  {
   "cell_type": "code",
   "execution_count": 56,
   "metadata": {
    "collapsed": false
   },
   "outputs": [
    {
     "name": "stdout",
     "output_type": "stream",
     "text": [
      "((22, ('GDX', 32, None, None), 2, 'EWZ'), 22, 50)\n",
      "((22, ('GDX', 32, None, None), 5, 'EWZ'), 22, 50)\n",
      "((22, ('GDX', 32, None, None), 3, 'EWZ'), 22, 25)\n",
      "((22, ('GDX', 32, None, None), 2, 'EWZ'), 22, 250)\n",
      "((10, ('GDX', 32, None, None), 5, 'EWZ'), 10, 25)\n",
      "((22, ('GDX', 32, None, None), 3, 'EWZ'), 22, 100)\n",
      "((10, ('GDX', 32, None, None), 2, 'EWZ'), 10, 100)\n",
      "((10, ('GDX', 32, None, None), 3, 'EWZ'), 10, 250)\n",
      "((10, ('GDX', 32, None, None), 3, 'EWZ'), 10, 50)\n",
      "GDX\n",
      "EWZ\n",
      "((22, ('GDX', 32, None, None), 2, 'EWZ'), 22, 50)\n"
     ]
    },
    {
     "name": "stderr",
     "output_type": "stream",
     "text": [
      "Process ForkProcess-53:\n",
      "Process ForkProcess-36:\n",
      "Process ForkProcess-48:\n",
      "Process ForkProcess-63:\n",
      "Process ForkProcess-45:\n",
      "Process ForkProcess-20:\n",
      "Process ForkProcess-34:\n",
      "Process ForkProcess-31:\n",
      "Process ForkProcess-47:\n",
      "Process ForkProcess-13:\n",
      "Process ForkProcess-40:\n",
      "Process ForkProcess-22:\n",
      "Process ForkProcess-30:\n",
      "Traceback (most recent call last):\n",
      "  File \"/Users/patrickogrady/anaconda3/lib/python3.6/multiprocessing/process.py\", line 249, in _bootstrap\n",
      "    self.run()\n",
      "Process ForkProcess-44:\n",
      "Process ForkProcess-27:\n",
      "Process ForkProcess-21:\n",
      "Process ForkProcess-5:\n",
      "  File \"/Users/patrickogrady/anaconda3/lib/python3.6/multiprocessing/process.py\", line 93, in run\n",
      "    self._target(*self._args, **self._kwargs)\n",
      "Traceback (most recent call last):\n",
      "Process ForkProcess-26:\n",
      "Process ForkProcess-42:\n",
      "Traceback (most recent call last):\n",
      "Process ForkProcess-23:\n",
      "Traceback (most recent call last):\n",
      "Traceback (most recent call last):\n",
      "Process ForkProcess-55:\n",
      "  File \"/Users/patrickogrady/anaconda3/lib/python3.6/multiprocessing/process.py\", line 249, in _bootstrap\n",
      "    self.run()\n",
      "  File \"/Users/patrickogrady/Documents/CODE/walkforwardTrader/dataAck.py\", line 304, in runDayChunking\n",
      "    pred = self.runDay(xVals[:int(i)], yVals[:int(i)], xVals[int(i)+44])\n",
      "Traceback (most recent call last):\n",
      "  File \"/Users/patrickogrady/anaconda3/lib/python3.6/multiprocessing/process.py\", line 93, in run\n",
      "    self._target(*self._args, **self._kwargs)\n",
      "  File \"/Users/patrickogrady/anaconda3/lib/python3.6/multiprocessing/process.py\", line 249, in _bootstrap\n",
      "    self.run()\n",
      "Process ForkProcess-9:\n",
      "Process ForkProcess-18:\n",
      "Process ForkProcess-56:\n",
      "Process ForkProcess-57:\n",
      "  File \"/Users/patrickogrady/Documents/CODE/walkforwardTrader/dataAck.py\", line 304, in runDayChunking\n",
      "    pred = self.runDay(xVals[:int(i)], yVals[:int(i)], xVals[int(i)+44])\n",
      "  File \"/Users/patrickogrady/anaconda3/lib/python3.6/multiprocessing/process.py\", line 93, in run\n",
      "    self._target(*self._args, **self._kwargs)\n",
      "  File \"/Users/patrickogrady/Documents/CODE/walkforwardTrader/dataAck.py\", line 286, in runDay\n",
      "    np.array(targetY),\n",
      "Process ForkProcess-46:\n",
      "  File \"/Users/patrickogrady/anaconda3/lib/python3.6/multiprocessing/process.py\", line 249, in _bootstrap\n",
      "    self.run()\n",
      "  File \"/Users/patrickogrady/anaconda3/lib/python3.6/multiprocessing/process.py\", line 249, in _bootstrap\n",
      "    self.run()\n",
      "Process ForkProcess-49:\n",
      "  File \"/Users/patrickogrady/Documents/CODE/walkforwardTrader/dataAck.py\", line 286, in runDay\n",
      "    np.array(targetY),\n",
      "Process ForkProcess-24:\n",
      "Process ForkProcess-33:\n",
      "Process ForkProcess-60:\n",
      "Traceback (most recent call last):\n",
      "Traceback (most recent call last):\n",
      "Process ForkProcess-58:\n",
      "  File \"/Users/patrickogrady/anaconda3/lib/python3.6/site-packages/sklearn/ensemble/forest.py\", line 326, in fit\n",
      "    for i, t in enumerate(trees))\n",
      "  File \"/Users/patrickogrady/Documents/CODE/walkforwardTrader/dataAck.py\", line 304, in runDayChunking\n",
      "    pred = self.runDay(xVals[:int(i)], yVals[:int(i)], xVals[int(i)+44])\n",
      "  File \"/Users/patrickogrady/anaconda3/lib/python3.6/multiprocessing/process.py\", line 93, in run\n",
      "    self._target(*self._args, **self._kwargs)\n",
      "  File \"/Users/patrickogrady/anaconda3/lib/python3.6/site-packages/sklearn/externals/joblib/parallel.py\", line 758, in __call__\n",
      "    while self.dispatch_one_batch(iterator):\n",
      "  File \"/Users/patrickogrady/anaconda3/lib/python3.6/multiprocessing/process.py\", line 93, in run\n",
      "    self._target(*self._args, **self._kwargs)\n",
      "Traceback (most recent call last):\n",
      "Process ForkProcess-6:\n",
      "  File \"/Users/patrickogrady/Documents/CODE/walkforwardTrader/dataAck.py\", line 286, in runDay\n",
      "    np.array(targetY),\n",
      "  File \"/Users/patrickogrady/anaconda3/lib/python3.6/site-packages/sklearn/ensemble/forest.py\", line 314, in fit\n",
      "    random_state=random_state)\n",
      "  File \"/Users/patrickogrady/anaconda3/lib/python3.6/site-packages/sklearn/ensemble/forest.py\", line 326, in fit\n",
      "    for i, t in enumerate(trees))\n",
      "Process ForkProcess-39:\n",
      "Process ForkProcess-38:\n",
      "Process ForkProcess-25:\n",
      "  File \"/Users/patrickogrady/anaconda3/lib/python3.6/multiprocessing/process.py\", line 249, in _bootstrap\n",
      "    self.run()\n",
      "Process ForkProcess-32:\n",
      "Process ForkProcess-51:\n",
      "Process ForkProcess-14:\n",
      "Process ForkProcess-19:\n",
      "Process ForkProcess-62:\n",
      "Traceback (most recent call last):\n",
      "Process ForkProcess-59:\n",
      "Process ForkProcess-12:\n",
      "Process ForkProcess-52:\n",
      "Process ForkProcess-37:\n",
      "Traceback (most recent call last):\n",
      "Process ForkProcess-16:\n",
      "Process ForkProcess-10:\n",
      "Process ForkProcess-50:\n",
      "Process ForkProcess-7:\n",
      "Process ForkProcess-11:\n",
      "Process ForkProcess-29:\n",
      "Traceback (most recent call last):\n",
      "Process ForkProcess-64:\n",
      "Traceback (most recent call last):\n",
      "Traceback (most recent call last):\n",
      "Process ForkProcess-61:\n",
      "Process ForkProcess-41:\n",
      "Traceback (most recent call last):\n",
      "Traceback (most recent call last):\n",
      "Traceback (most recent call last):\n",
      "Process ForkProcess-15:\n",
      "Process ForkProcess-35:\n",
      "Process ForkProcess-43:\n",
      "Traceback (most recent call last):\n",
      "Traceback (most recent call last):\n",
      "Process ForkProcess-28:\n",
      "Process ForkProcess-54:\n",
      "Process ForkProcess-17:\n",
      "Traceback (most recent call last):\n",
      "Traceback (most recent call last):\n",
      "Traceback (most recent call last):\n",
      "Traceback (most recent call last):\n",
      "Traceback (most recent call last):\n",
      "Traceback (most recent call last):\n",
      "Traceback (most recent call last):\n",
      "Traceback (most recent call last):\n",
      "Traceback (most recent call last):\n",
      "Traceback (most recent call last):\n",
      "  File \"/Users/patrickogrady/anaconda3/lib/python3.6/multiprocessing/process.py\", line 249, in _bootstrap\n",
      "    self.run()\n",
      "  File \"/Users/patrickogrady/anaconda3/lib/python3.6/multiprocessing/process.py\", line 249, in _bootstrap\n",
      "    self.run()\n",
      "Traceback (most recent call last):\n",
      "Traceback (most recent call last):\n",
      "Traceback (most recent call last):\n",
      "Traceback (most recent call last):\n",
      "Traceback (most recent call last):\n",
      "  File \"/Users/patrickogrady/anaconda3/lib/python3.6/multiprocessing/process.py\", line 249, in _bootstrap\n",
      "    self.run()\n",
      "Traceback (most recent call last):\n",
      "  File \"/Users/patrickogrady/anaconda3/lib/python3.6/multiprocessing/process.py\", line 249, in _bootstrap\n",
      "    self.run()\n",
      "Traceback (most recent call last):\n",
      "  File \"/Users/patrickogrady/anaconda3/lib/python3.6/multiprocessing/process.py\", line 249, in _bootstrap\n",
      "    self.run()\n",
      "Traceback (most recent call last):\n",
      "Traceback (most recent call last):\n",
      "  File \"/Users/patrickogrady/anaconda3/lib/python3.6/multiprocessing/process.py\", line 249, in _bootstrap\n",
      "    self.run()\n",
      "Traceback (most recent call last):\n",
      "Traceback (most recent call last):\n",
      "Traceback (most recent call last):\n",
      "Traceback (most recent call last):\n",
      "Traceback (most recent call last):\n",
      "  File \"/Users/patrickogrady/anaconda3/lib/python3.6/multiprocessing/process.py\", line 249, in _bootstrap\n",
      "    self.run()\n",
      "  File \"/Users/patrickogrady/anaconda3/lib/python3.6/multiprocessing/process.py\", line 249, in _bootstrap\n",
      "    self.run()\n",
      "  File \"/Users/patrickogrady/anaconda3/lib/python3.6/multiprocessing/process.py\", line 249, in _bootstrap\n",
      "    self.run()\n",
      "  File \"/Users/patrickogrady/anaconda3/lib/python3.6/multiprocessing/process.py\", line 249, in _bootstrap\n",
      "    self.run()\n",
      "  File \"/Users/patrickogrady/anaconda3/lib/python3.6/multiprocessing/process.py\", line 249, in _bootstrap\n",
      "    self.run()\n",
      "Traceback (most recent call last):\n",
      "Traceback (most recent call last):\n",
      "ERROR:root:Internal Python error in the inspect module.\n",
      "Below is the traceback from this internal error.\n",
      "\n",
      "  File \"/Users/patrickogrady/anaconda3/lib/python3.6/multiprocessing/process.py\", line 249, in _bootstrap\n",
      "    self.run()\n",
      "  File \"/Users/patrickogrady/anaconda3/lib/python3.6/multiprocessing/process.py\", line 249, in _bootstrap\n",
      "    self.run()\n",
      "Traceback (most recent call last):\n",
      "Traceback (most recent call last):\n",
      "  File \"/Users/patrickogrady/anaconda3/lib/python3.6/multiprocessing/process.py\", line 249, in _bootstrap\n",
      "    self.run()\n",
      "Traceback (most recent call last):\n",
      "  File \"/Users/patrickogrady/anaconda3/lib/python3.6/multiprocessing/process.py\", line 249, in _bootstrap\n",
      "    self.run()\n",
      "  File \"/Users/patrickogrady/anaconda3/lib/python3.6/multiprocessing/process.py\", line 249, in _bootstrap\n",
      "    self.run()\n",
      "  File \"/Users/patrickogrady/anaconda3/lib/python3.6/multiprocessing/process.py\", line 249, in _bootstrap\n",
      "    self.run()\n",
      "  File \"/Users/patrickogrady/anaconda3/lib/python3.6/multiprocessing/process.py\", line 93, in run\n",
      "    self._target(*self._args, **self._kwargs)\n",
      "  File \"/Users/patrickogrady/anaconda3/lib/python3.6/multiprocessing/process.py\", line 249, in _bootstrap\n",
      "    self.run()\n",
      "  File \"/Users/patrickogrady/anaconda3/lib/python3.6/multiprocessing/process.py\", line 249, in _bootstrap\n",
      "    self.run()\n",
      "  File \"/Users/patrickogrady/anaconda3/lib/python3.6/multiprocessing/process.py\", line 93, in run\n",
      "    self._target(*self._args, **self._kwargs)\n",
      "Traceback (most recent call last):\n",
      "  File \"/Users/patrickogrady/anaconda3/lib/python3.6/multiprocessing/process.py\", line 249, in _bootstrap\n",
      "    self.run()\n",
      "Traceback (most recent call last):\n",
      "  File \"/Users/patrickogrady/anaconda3/lib/python3.6/multiprocessing/process.py\", line 249, in _bootstrap\n",
      "    self.run()\n",
      "  File \"/Users/patrickogrady/anaconda3/lib/python3.6/multiprocessing/process.py\", line 249, in _bootstrap\n",
      "    self.run()\n",
      "  File \"/Users/patrickogrady/anaconda3/lib/python3.6/multiprocessing/process.py\", line 249, in _bootstrap\n",
      "    self.run()\n",
      "  File \"/Users/patrickogrady/anaconda3/lib/python3.6/multiprocessing/process.py\", line 249, in _bootstrap\n",
      "    self.run()\n",
      "  File \"/Users/patrickogrady/anaconda3/lib/python3.6/multiprocessing/process.py\", line 249, in _bootstrap\n",
      "    self.run()\n",
      "  File \"/Users/patrickogrady/anaconda3/lib/python3.6/multiprocessing/process.py\", line 249, in _bootstrap\n",
      "    self.run()\n",
      "  File \"/Users/patrickogrady/anaconda3/lib/python3.6/multiprocessing/process.py\", line 93, in run\n",
      "    self._target(*self._args, **self._kwargs)\n",
      "  File \"/Users/patrickogrady/Documents/CODE/walkforwardTrader/dataAck.py\", line 304, in runDayChunking\n",
      "    pred = self.runDay(xVals[:int(i)], yVals[:int(i)], xVals[int(i)+44])\n",
      "  File \"/Users/patrickogrady/anaconda3/lib/python3.6/multiprocessing/process.py\", line 93, in run\n",
      "    self._target(*self._args, **self._kwargs)\n",
      "  File \"/Users/patrickogrady/anaconda3/lib/python3.6/multiprocessing/process.py\", line 93, in run\n",
      "    self._target(*self._args, **self._kwargs)\n",
      "  File \"/Users/patrickogrady/anaconda3/lib/python3.6/multiprocessing/process.py\", line 249, in _bootstrap\n",
      "    self.run()\n",
      "  File \"/Users/patrickogrady/anaconda3/lib/python3.6/multiprocessing/process.py\", line 93, in run\n",
      "    self._target(*self._args, **self._kwargs)\n",
      "  File \"/Users/patrickogrady/anaconda3/lib/python3.6/multiprocessing/process.py\", line 249, in _bootstrap\n",
      "    self.run()\n",
      "  File \"/Users/patrickogrady/anaconda3/lib/python3.6/multiprocessing/process.py\", line 249, in _bootstrap\n",
      "    self.run()\n",
      "Traceback (most recent call last):\n",
      "Traceback (most recent call last):\n",
      "Traceback (most recent call last):\n",
      "Traceback (most recent call last):\n",
      "Traceback (most recent call last):\n",
      "  File \"/Users/patrickogrady/anaconda3/lib/python3.6/multiprocessing/process.py\", line 249, in _bootstrap\n",
      "    self.run()\n",
      "  File \"/Users/patrickogrady/anaconda3/lib/python3.6/multiprocessing/process.py\", line 249, in _bootstrap\n",
      "    self.run()\n",
      "Traceback (most recent call last):\n",
      "  File \"/Users/patrickogrady/Documents/CODE/walkforwardTrader/dataAck.py\", line 304, in runDayChunking\n",
      "    pred = self.runDay(xVals[:int(i)], yVals[:int(i)], xVals[int(i)+44])\n",
      "  File \"/Users/patrickogrady/anaconda3/lib/python3.6/multiprocessing/process.py\", line 93, in run\n",
      "    self._target(*self._args, **self._kwargs)\n",
      "  File \"/Users/patrickogrady/anaconda3/lib/python3.6/multiprocessing/process.py\", line 249, in _bootstrap\n",
      "    self.run()\n",
      "  File \"/Users/patrickogrady/Documents/CODE/walkforwardTrader/dataAck.py\", line 304, in runDayChunking\n",
      "    pred = self.runDay(xVals[:int(i)], yVals[:int(i)], xVals[int(i)+44])\n",
      "  File \"/Users/patrickogrady/anaconda3/lib/python3.6/multiprocessing/process.py\", line 93, in run\n",
      "    self._target(*self._args, **self._kwargs)\n",
      "  File \"/Users/patrickogrady/Documents/CODE/walkforwardTrader/dataAck.py\", line 304, in runDayChunking\n",
      "    pred = self.runDay(xVals[:int(i)], yVals[:int(i)], xVals[int(i)+44])\n",
      "  File \"/Users/patrickogrady/anaconda3/lib/python3.6/multiprocessing/process.py\", line 93, in run\n",
      "    self._target(*self._args, **self._kwargs)\n",
      "  File \"/Users/patrickogrady/anaconda3/lib/python3.6/multiprocessing/process.py\", line 93, in run\n",
      "    self._target(*self._args, **self._kwargs)\n",
      "  File \"/Users/patrickogrady/anaconda3/lib/python3.6/multiprocessing/process.py\", line 93, in run\n",
      "    self._target(*self._args, **self._kwargs)\n",
      "  File \"/Users/patrickogrady/anaconda3/lib/python3.6/multiprocessing/process.py\", line 93, in run\n",
      "    self._target(*self._args, **self._kwargs)\n",
      "  File \"/Users/patrickogrady/anaconda3/lib/python3.6/multiprocessing/process.py\", line 93, in run\n",
      "    self._target(*self._args, **self._kwargs)\n",
      "  File \"/Users/patrickogrady/anaconda3/lib/python3.6/multiprocessing/process.py\", line 93, in run\n",
      "    self._target(*self._args, **self._kwargs)\n",
      "Traceback (most recent call last):\n",
      "  File \"/Users/patrickogrady/anaconda3/lib/python3.6/multiprocessing/process.py\", line 249, in _bootstrap\n",
      "    self.run()\n",
      "Traceback (most recent call last):\n",
      "  File \"/Users/patrickogrady/anaconda3/lib/python3.6/multiprocessing/process.py\", line 93, in run\n",
      "    self._target(*self._args, **self._kwargs)\n",
      "  File \"/Users/patrickogrady/anaconda3/lib/python3.6/multiprocessing/process.py\", line 93, in run\n",
      "    self._target(*self._args, **self._kwargs)\n",
      "\n",
      "KeyboardInterrupt\n",
      "\n"
     ]
    }
   ],
   "source": [
    "tickersRequired = []\n",
    "tickersTraded = []\n",
    "for mod in allModels:\n",
    "    print(mod.describe())\n",
    "    if mod.inputSeries.targetTicker not in tickersRequired:\n",
    "        tickersRequired.append(mod.inputSeries.targetTicker)\n",
    "    if mod.inputSeries.series.ticker not in tickersRequired:\n",
    "        tickersRequired.append(mod.inputSeries.series.ticker)\n",
    "    if mod.inputSeries.targetTicker not in tickersTraded:\n",
    "        tickersTraded.append(mod.inputSeries.targetTicker)\n",
    "    \n",
    "\n",
    "pulledData, validTickers = dataAck.downloadTickerData(tickersRequired)\n",
    "\n",
    "joinedData = dataAck.joinDatasets([pulledData[ticker] for ticker in pulledData])\n",
    "modelReturns = generateAllReturns(allModels, joinedData[:-252])"
   ]
  },
  {
   "cell_type": "markdown",
   "metadata": {},
   "source": [
    "# STORE MODELS AS PORTFOLIO"
   ]
  },
  {
   "cell_type": "code",
   "execution_count": 36,
   "metadata": {
    "collapsed": false
   },
   "outputs": [],
   "source": [
    "import params\n",
    "from google.cloud import datastore, storage, logging\n",
    "import time\n",
    "import pickle\n",
    "import hashlib\n",
    "import sys\n",
    "import numpy as np\n",
    "def storePortfolio(models, description):\n",
    "    allHashes = []\n",
    "    for model in models:\n",
    "        organismHash = hashlib.sha224(str(model.describe()).encode('utf-8')).hexdigest()\n",
    "        allHashes.append(organismHash)\n",
    "    \n",
    "    allHashes.sort()\n",
    "    portfolioHash = hashlib.sha224(str(allHashes).encode('utf-8')).hexdigest()\n",
    "    print(\"PORTFOLIO HASH:\", portfolioHash)\n",
    "    for hashing in allHashes:\n",
    "        print(hashing)\n",
    "        \n",
    "    \n",
    "        ##UPLOAD ORGANISM OBJECT\n",
    "        while True:\n",
    "            try:\n",
    "                toUpload = {\n",
    "                    \"portfolio\":portfolioHash,\n",
    "                    \"model\":hashing\n",
    "                }\n",
    "                datastoreClient = datastore.Client('money-maker-1236')\n",
    "                #HASH DIGEST\n",
    "                key = datastoreClient.key(params.portfolioDB, hashlib.sha224(str(hashing + portfolioHash).encode('utf-8')).hexdigest()) #NEED TO HASH TO ENSURE UNDER COUNT\n",
    "                organismToStore = datastore.Entity(key=key)\n",
    "                organismToStore.update(toUpload)\n",
    "                datastoreClient.put(organismToStore)\n",
    "                break\n",
    "            except:\n",
    "                print(\"UPLOAD ERROR:\", str(sys.exc_info()))\n",
    "                time.sleep(10)\n",
    "    \n",
    "    while True:\n",
    "        try:\n",
    "            toUpload = {\n",
    "                \"description\":description\n",
    "            }\n",
    "            datastoreClient = datastore.Client('money-maker-1236')\n",
    "            #HASH DIGEST\n",
    "            key = datastoreClient.key(params.portfolioLookup, portfolioHash) #NEED TO HASH TO ENSURE UNDER COUNT\n",
    "            organismToStore = datastore.Entity(key=key)\n",
    "            organismToStore.update(toUpload)\n",
    "            datastoreClient.put(organismToStore)\n",
    "            break\n",
    "        except:\n",
    "            print(\"UPLOAD ERROR:\", str(sys.exc_info()))\n",
    "            time.sleep(10)"
   ]
  },
  {
   "cell_type": "code",
   "execution_count": 38,
   "metadata": {
    "collapsed": false
   },
   "outputs": [
    {
     "name": "stdout",
     "output_type": "stream",
     "text": [
      "PORTFOLIO HASH: 514d5ee998b05536888778bb1d1d48d638992056a6ed8bdb2023cee2\n",
      "30e79488fb925fedbb3f63f6abb86757c4763d92bc4e893a87556d59\n",
      "419d1aadd49f8b53c9f732b304c4d41a0576d4c721a3da0c0e0c7730\n",
      "584efc9e68aed8795e0138754b77cc3c760d3454153bddf090caf8f9\n",
      "7ff98f4707692aaf28e9b72000b57a7934e07a7d715957e4e389bff2\n",
      "bad9f9f22f779a70cccb3c9197c9f0b5229ce68f4c648aa04e04f97f\n",
      "bafabbb2ddbb6e294ed821e1e1e41116981d49addb415b95798bb67e\n",
      "beef2ac53b15ac017d4a6c61d83d1a8126ca82d4025fbfbd582fb8df\n",
      "c26a1518a8eb9d58caca155d4bb0dfbb0a52574d37e69cd3eb48282e\n",
      "e1111d514a667ab22d8f48a2734a7dab0be1350f8ce70ca3b8a172ac\n"
     ]
    }
   ],
   "source": [
    "storePortfolio(allModels, \"EWZ 08-11-19\")"
   ]
  },
  {
   "cell_type": "code",
   "execution_count": 42,
   "metadata": {
    "collapsed": true
   },
   "outputs": [],
   "source": [
    "def getPortfolios():\n",
    "    while True:\n",
    "        try:\n",
    "            datastore_client = datastore.Client('money-maker-1236')\n",
    "            query = datastore_client.query(kind=params.portfolioLookup)\n",
    "            retrievedPortfolios = [{\n",
    "                \"key\":item.key.name,\n",
    "                \"description\":item[\"description\"]\n",
    "            } for item in list(query.fetch())]\n",
    "\n",
    "            return retrievedPortfolios\n",
    "        except:\n",
    "            time.sleep(10)\n",
    "            print(\"DATA SOURCE RETRIEVAL ERROR:\", str(sys.exc_info()))"
   ]
  },
  {
   "cell_type": "code",
   "execution_count": 44,
   "metadata": {
    "collapsed": false
   },
   "outputs": [
    {
     "name": "stdout",
     "output_type": "stream",
     "text": [
      "[{'key': '514d5ee998b05536888778bb1d1d48d638992056a6ed8bdb2023cee2', 'description': 'EWZ 08-11-19'}]\n"
     ]
    }
   ],
   "source": [
    "portfolios = getPortfolios()\n",
    "print(portfolios)"
   ]
  },
  {
   "cell_type": "code",
   "execution_count": 45,
   "metadata": {
    "collapsed": true
   },
   "outputs": [],
   "source": [
    "def getPortfolioModels(portfolioKey):\n",
    "    while True:\n",
    "        try:\n",
    "            datastore_client = datastore.Client('money-maker-1236')\n",
    "            query = datastore_client.query(kind=params.portfolioDB)\n",
    "            query.add_filter('portfolio', '=', portfolioKey)\n",
    "            \n",
    "            retrievedModels = [item[\"model\"] for item in list(query.fetch())]\n",
    "\n",
    "            return retrievedModels\n",
    "        except:\n",
    "            time.sleep(10)\n",
    "            print(\"DATA SOURCE RETRIEVAL ERROR:\", str(sys.exc_info()))"
   ]
  },
  {
   "cell_type": "code",
   "execution_count": 47,
   "metadata": {
    "collapsed": false
   },
   "outputs": [
    {
     "name": "stdout",
     "output_type": "stream",
     "text": [
      "{'key': '514d5ee998b05536888778bb1d1d48d638992056a6ed8bdb2023cee2', 'description': 'EWZ 08-11-19'}\n",
      "['bafabbb2ddbb6e294ed821e1e1e41116981d49addb415b95798bb67e', 'e1111d514a667ab22d8f48a2734a7dab0be1350f8ce70ca3b8a172ac', 'beef2ac53b15ac017d4a6c61d83d1a8126ca82d4025fbfbd582fb8df', 'bad9f9f22f779a70cccb3c9197c9f0b5229ce68f4c648aa04e04f97f', '30e79488fb925fedbb3f63f6abb86757c4763d92bc4e893a87556d59', '419d1aadd49f8b53c9f732b304c4d41a0576d4c721a3da0c0e0c7730', '584efc9e68aed8795e0138754b77cc3c760d3454153bddf090caf8f9', 'c26a1518a8eb9d58caca155d4bb0dfbb0a52574d37e69cd3eb48282e', '7ff98f4707692aaf28e9b72000b57a7934e07a7d715957e4e389bff2']\n"
     ]
    }
   ],
   "source": [
    "for item in portfolios:\n",
    "    print(item)\n",
    "    print(getPortfolioModels(item[\"key\"]))"
   ]
  },
  {
   "cell_type": "code",
   "execution_count": 52,
   "metadata": {
    "collapsed": true
   },
   "outputs": [],
   "source": [
    "def getModelsByKey(modelHashes):\n",
    "    while True:\n",
    "        try:\n",
    "            datastore_client = datastore.Client('money-maker-1236')\n",
    "            ##form keys\n",
    "            keys = []\n",
    "            for hashing in modelHashes:\n",
    "                key = datastore_client.key(params.datastoreName, hashing)\n",
    "                keys.append(key)\n",
    "                \n",
    "            retrievedModels = datastore_client.get_multi(keys)\n",
    "            toReturn = []\n",
    "            for source in retrievedModels:\n",
    "                toReturn.append(pickle.loads(source[\"model\"]))\n",
    "            return toReturn\n",
    "            \n",
    "        except:\n",
    "            time.sleep(10)\n",
    "            print(\"DATA SOURCE RETRIEVAL ERROR:\", str(sys.exc_info()))"
   ]
  },
  {
   "cell_type": "code",
   "execution_count": 53,
   "metadata": {
    "collapsed": false
   },
   "outputs": [
    {
     "data": {
      "text/plain": [
       "[<dataAck.algoBlob at 0x1110845f8>,\n",
       " <dataAck.algoBlob at 0x11109dbe0>,\n",
       " <dataAck.algoBlob at 0x11109d400>,\n",
       " <dataAck.algoBlob at 0x110df5828>,\n",
       " <dataAck.algoBlob at 0x11109d5f8>,\n",
       " <dataAck.algoBlob at 0x1111c62b0>,\n",
       " <dataAck.algoBlob at 0x1111c6470>,\n",
       " <dataAck.algoBlob at 0x1111c6dd8>,\n",
       " <dataAck.algoBlob at 0x1111c6ba8>]"
      ]
     },
     "execution_count": 53,
     "metadata": {},
     "output_type": "execute_result"
    }
   ],
   "source": [
    "getModelsByKey(getPortfolioModels(item[\"key\"]))"
   ]
  },
  {
   "cell_type": "code",
   "execution_count": null,
   "metadata": {
    "collapsed": true
   },
   "outputs": [],
   "source": []
  }
 ],
 "metadata": {
  "kernelspec": {
   "display_name": "Python 3",
   "language": "python",
   "name": "python3"
  },
  "language_info": {
   "codemirror_mode": {
    "name": "ipython",
    "version": 3
   },
   "file_extension": ".py",
   "mimetype": "text/x-python",
   "name": "python",
   "nbconvert_exporter": "python",
   "pygments_lexer": "ipython3",
   "version": "3.6.0"
  }
 },
 "nbformat": 4,
 "nbformat_minor": 2
}
