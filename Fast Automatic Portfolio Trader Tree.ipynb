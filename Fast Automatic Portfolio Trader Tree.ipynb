{
 "cells": [
  {
   "cell_type": "code",
   "execution_count": null,
   "metadata": {
    "collapsed": true
   },
   "outputs": [],
   "source": [
    "import params\n",
    "from google.cloud import datastore, storage, logging\n",
    "import time\n",
    "import pickle\n",
    "import hashlib\n",
    "import sys\n",
    "import numpy as np\n",
    "import portfolioGeneration\n",
    "import portfolio\n",
    "import dataAck\n",
    "import warnings\n",
    "import numpy as np\n",
    "import pandas as pd\n",
    "warnings.filterwarnings(\"ignore\")\n",
    "import multiprocessing as mp \n",
    "import autoPortfolioTree\n",
    "import curveTreeDB\n",
    "import portfolio"
   ]
  },
  {
   "cell_type": "code",
   "execution_count": null,
   "metadata": {
    "collapsed": true
   },
   "outputs": [],
   "source": [
    "dataObjs = curveTreeDB.getValidModels(params.treeModels, returnEntireObject=True)"
   ]
  },
  {
   "cell_type": "code",
   "execution_count": null,
   "metadata": {
    "collapsed": false,
    "scrolled": false
   },
   "outputs": [],
   "source": [
    "\n",
    "allModels = []\n",
    "tickersSeen = []\n",
    "for item in dataObjs:\n",
    "    try:\n",
    "        if item[\"IS_PROFITABILITY SLIPPAGE\"] > 0.5:\n",
    "            model = item[\"model\"]\n",
    "            print(model.targetTicker, model.getHash(), item[\"IS_SHARPE SLIPPAGE\"], item[\"IS_SHARPE DIFFERENCE SLIPPAGE\"], item[\"IS_BETA\"])\n",
    "            allModels.append(model)\n",
    "            if model.targetTicker not in tickersSeen:\n",
    "                tickersSeen.append(model.targetTicker)\n",
    "    except:\n",
    "        continue\n",
    "        "
   ]
  },
  {
   "cell_type": "code",
   "execution_count": 4,
   "metadata": {
    "collapsed": false
   },
   "outputs": [
    {
     "data": {
      "text/plain": [
       "62"
      ]
     },
     "execution_count": 4,
     "metadata": {},
     "output_type": "execute_result"
    }
   ],
   "source": [
    "len(allModels)"
   ]
  },
  {
   "cell_type": "code",
   "execution_count": 5,
   "metadata": {
    "collapsed": false
   },
   "outputs": [
    {
     "data": {
      "text/plain": [
       "['XBI',\n",
       " 'SOXX',\n",
       " 'IBB',\n",
       " 'IYR',\n",
       " 'QQQ',\n",
       " 'XLV',\n",
       " 'SMH',\n",
       " 'KRE',\n",
       " 'IYF',\n",
       " 'VGT',\n",
       " 'XHB',\n",
       " 'KBE',\n",
       " 'XME']"
      ]
     },
     "execution_count": 5,
     "metadata": {},
     "output_type": "execute_result"
    }
   ],
   "source": [
    "tickersSeen"
   ]
  },
  {
   "cell_type": "code",
   "execution_count": 6,
   "metadata": {
    "collapsed": false
   },
   "outputs": [
    {
     "data": {
      "text/plain": [
       "'XBI'"
      ]
     },
     "execution_count": 6,
     "metadata": {},
     "output_type": "execute_result"
    }
   ],
   "source": [
    "import random\n",
    "factorToTrade = \"VTI\"#tickersSeen[random.randint(0, len(tickersSeen) - 1)]\n",
    "factorToTrade"
   ]
  },
  {
   "cell_type": "code",
   "execution_count": 7,
   "metadata": {
    "collapsed": false,
    "scrolled": true
   },
   "outputs": [
    {
     "name": "stdout",
     "output_type": "stream",
     "text": [
      "['XBI', 'SOXX', 'IBB', 'IYR', 'QQQ', 'XLV', 'SMH', 'KRE', 'IYF', 'VGT', 'XHB', 'KBE', 'XME']\n",
      "XBI\n",
      "KRE\n",
      "IBB\n",
      "SOXX\n",
      "IYR\n",
      "SMH\n",
      "IYF\n",
      "QQQ\n",
      "XLV\n",
      "XHB\n",
      "VGT\n",
      "KBE\n",
      "XME\n",
      "ATTEMPTING PULL d3790181229ad72221d52af2f5c194a4502d057ff65102cb1722fa0e\n",
      "((((('IWR', 43, None, None, 3), 'XBI', 10, 3, 0.5, 0.01, 10), (('TLT', 39, None, None, 1), 'XBI', 22, 3, 1.0, 0.05, 10), 3, 'OR'), ((('IVE', 35, None, None, 5), 'XBI', 44, 10, 1.5, 0.1, 10), (('VFH', 11, None, 11, 2), 'XBI', 10, 3, 0.5, 0.01, 10), 10, 'AND'), 10, 'AND'), ((('SPY', 21, 5, None, 5), 'XBI', 5, 2, 0.3, 0.05, 10), (('VWO', 7, None, 22, 5), 'XBI', 22, 7, 1.5, 0.01, 10), 7, 'OR'), 10, 'OR')\n",
      "ATTEMPTING PULL d85de2c9dc77b81c0a04a7c4af554d2e1f287dc8d07d56d7380da91b\n",
      "(((('VWO', 14, 2, None, 4), 'SOXX', 44, 15, 2.0, 0.05, 10), (('XRT', 37, 9, None, 1), 'SOXX', 44, 5, 1.5, 0.05, 10), 15, 'OR'), ((('TIP', 11, None, 20, 5), 'SOXX', 5, 3, 1.5, 0.05, 10), (('ILF', 29, None, None, 4), 'SOXX', 10, 3, 0.3, 0.01, 10), 3, 'OR'), 15, 'OR')\n",
      "ATTEMPTING PULL fb52149e69f8cf1b3214f984ef9e14983c07b5c13200922a23ce0625\n",
      "(((('RSP', 41, 4, None, 3), 'XBI', 22, 2, 1.5, 0.05, 10), (('AGG', 18, 1, 9, 5), 'XBI', 44, 15, 2.0, 0.2, 10), 15, 'OR'), ((('ILF', 37, None, None, 2), 'XBI', 10, 5, 0.5, 0.05, 10), (('IWR', 43, None, None, 3), 'XBI', 5, 3, 0.3, 0.01, 10), 5, 'OR'), 15, 'OR')\n",
      "ATTEMPTING PULL 4c3f76015389dc76d57a6e71e4a343a34798d67048f93ecd01721e5b\n",
      "(((('IAU', 20, None, 9, 5), 'SOXX', 22, 15, 0.7, 0.1, 10), (('XLI', 11, 11, None, 2), 'SOXX', 44, 15, 2.0, 0.01, 10), 15, 'OR'), ((('XRT', 37, 9, None, 1), 'SOXX', 44, 5, 2.0, 0.05, 10), (('XLF', 2, 10, None, 2), 'SOXX', 44, 5, 2.0, 0.05, 10), 5, 'OR'), 15, 'OR')\n",
      "ATTEMPTING PULL fc83bddb1c1582203dcd80227fa696f2fe16b31720fa33898b3d0442\n",
      "((('XLB', 21, 9, None, 1), 'SOXX', 5, 3, 0.5, 0.1, 10), ((('VWO', 14, 2, None, 4), 'SOXX', 44, 15, 2.0, 0.05, 10), (('XRT', 37, 9, None, 1), 'SOXX', 44, 5, 1.5, 0.05, 10), 15, 'OR'), 15, 'OR')\n",
      "ATTEMPTING PULL ca6fb6c97214cf52ed8d204316248539f9644810a798dcabc3447150\n",
      "(((('IWO', 5, 2, None, 1), 'IBB', 10, 5, 1.0, 0.01, 10), (('DVY', 44, 3, None, 1), 'IBB', 5, 5, 0.3, 0.1, 10), 5, 'AND'), ((('OIH', 12, None, None, 4), 'IBB', 22, 7, 1.0, 0.01, 10), (('VBR', 12, None, None, 5), 'IBB', 22, 15, 1.5, 0.05, 10), 15, 'AND'), 15, 'OR')\n",
      "ATTEMPTING PULL 061f45fe9170cc3509826e11273acdbc85b88e519f2c10452248767d\n",
      "(((('XHB', 9, None, 11, 1), 'IYR', 44, 15, 2.0, 0.01, 10), (('XHB', 9, None, 11, 1), 'IYR', 44, 10, 2.0, 0.01, 10), 15, 'OR'), ((('DXJ', 21, None, 16, 5), 'IYR', 10, 10, 0.3, 0.01, 10), (('VWO', 27, 7, 8, 4), 'IYR', 22, 7, 0.7, 0.1, 10), 10, 'AND'), 15, 'OR')\n",
      "ATTEMPTING PULL fd023e7f0a62e293a2fbaef35e85ff19bf275464664e78251edb0b30\n",
      "(((('SDY', 22, 11, None, 1), 'SOXX', 10, 7, 0.7, 0.01, 10), (('XRT', 37, 9, None, 1), 'SOXX', 44, 5, 1.5, 0.05, 10), 7, 'OR'), ((('EWC', 9, 1, None, 5), 'SOXX', 5, 2, 0.7, 0.05, 10), (('SPY', 37, 16, 13, 5), 'SOXX', 22, 15, 0.7, 0.2, 10), 15, 'OR'), 15, 'OR')\n",
      "ATTEMPTING PULL 7c3371dc5ada343504f31ff99a9aa990085e6e8696b41e303d220b03\n",
      "(((('IWR', 43, None, None, 3), 'XBI', 5, 3, 0.3, 0.01, 10), (('EWW', 2, None, None, 5), 'XBI', 5, 3, 0.5, 0.01, 10), 3, 'AND'), ((('VWO', 7, None, 22, 5), 'XBI', 22, 7, 1.5, 0.01, 10), (('VBR', 14, 20, None, 1), 'XBI', 22, 10, 1.0, 0.01, 10), 10, 'OR'), 10, 'OR')\n",
      "ATTEMPTING PULL b56212409698cf21024bb25ecd7f26c8ad4345146d774ae77b1fe311\n",
      "((('XLV', 18, None, 20, 4), 'QQQ', 10, 15, 0.3, 0.05, 10), ((('EWW', 8, None, None, 2), 'QQQ', 10, 3, 1.5, 0.01, 10), (('XLY', 4, 8, None, 2), 'QQQ', 44, 3, 2.0, 0.05, 10), 3, 'OR'), 15, 'OR')\n",
      "ATTEMPTING PULL 304c2043b386eb97f85cf901df0b87e4a3e06bd9c66c62ff0b618e08\n",
      "(((('VWO', 27, 7, 8, 4), 'IYR', 22, 7, 0.7, 0.1, 10), (('FXE', 32, 2, 5, 2), 'IYR', 22, 5, 1.5, 0.01, 10), 7, 'AND'), ((('XHB', 9, None, 11, 1), 'IYR', 44, 10, 2.0, 0.01, 10), (('XHB', 9, None, 11, 1), 'IYR', 44, 15, 2.0, 0.01, 10), 15, 'AND'), 15, 'OR')\n",
      "ATTEMPTING PULL bc06268875f6c68a03acdaa4ed0ee8b08535db839e75bfd9f60163ba\n",
      "((('USO', 2, None, 9, 2), 'SOXX', 44, 15, 2.0, 0.01, 10), ((('VWO', 14, 2, None, 4), 'SOXX', 44, 15, 2.0, 0.05, 10), (('EWT', 36, None, 11, 2), 'SOXX', 10, 5, 0.5, 0.01, 10), 15, 'AND'), 15, 'OR')\n",
      "ATTEMPTING PULL 76ff1963c846de95e661d51fa2ecba21c5996283fe213a706581adb6\n",
      "((((('XLI', 11, None, None, 1), 'XLV', 22, 15, 1.0, 0.05, 10), ((('IEF', 40, None, None, 2), 'XLV', 10, 7, 0.5, 0.05, 10), (('EWH', 29, None, None, 1), 'XLV', 22, 15, 1.0, 0.05, 10), 15, 'OR'), 15, 'AND'), ((('EWJ', 25, 13, None, 4), 'XLV', 44, 3, 2.0, 0.05, 10), (('AGG', 7, None, None, 2), 'XLV', 10, 3, 0.5, 0.05, 10), 3, 'OR'), 15, 'AND'), ((('EWH', 36, None, None, 1), 'XLV', 22, 10, 2.0, 0.01, 10), (('IAU', 18, 4, 9, 5), 'XLV', 22, 2, 1.0, 0.1, 10), 10, 'OR'), 15, 'OR')\n",
      "ATTEMPTING PULL c60dbed9011997b44ea19a4b4bab8d742bae91aef852be4606c8e821\n",
      "((('TLT', 39, None, None, 1), 'XBI', 22, 3, 1.0, 0.05, 10), ((('VWO', 7, None, 22, 5), 'XBI', 22, 7, 1.5, 0.01, 10), (('VBR', 14, 20, None, 1), 'XBI', 22, 10, 1.0, 0.01, 10), 10, 'OR'), 10, 'OR')\n",
      "ATTEMPTING PULL ce39c0109defbfb1bf5be0487ab4c12af23933dff1259472fd24dded\n",
      "(((('EWW', 8, None, None, 2), 'QQQ', 10, 3, 1.5, 0.01, 10), (('XLP', 4, None, 7, 5), 'QQQ', 5, 5, 0.3, 0.05, 10), 5, 'OR'), ((('XLY', 4, 8, None, 2), 'QQQ', 44, 3, 2.0, 0.05, 10), (('SPY', 30, 3, 9, 5), 'QQQ', 5, 10, 0.7, 0.01, 10), 10, 'OR'), 10, 'OR')\n",
      "ATTEMPTING PULL 34a8eb4c4df397f6c28fe7c25b060783e5bc683617a7e850f80f9b4f\n",
      "(((('VWO', 14, 2, None, 4), 'SOXX', 44, 15, 2.0, 0.05, 10), (('TIP', 11, None, 20, 5), 'SOXX', 5, 3, 1.5, 0.05, 10), 15, 'AND'), ((('VNQ', 9, 7, None, 1), 'SOXX', 5, 3, 0.7, 0.05, 10), (('XRT', 37, 9, None, 1), 'SOXX', 44, 5, 1.5, 0.05, 10), 5, 'OR'), 15, 'OR')\n",
      "ATTEMPTING PULL 3b147a312311eefa0c86162984ad189f51452665850a359c76106db4\n",
      "(((('XLF', 2, 10, None, 2), 'SOXX', 44, 5, 2.0, 0.05, 10), (('SPY', 37, 16, 13, 5), 'SOXX', 22, 15, 0.7, 0.2, 10), 15, 'OR'), ((('ILF', 14, None, None, 1), 'SOXX', 5, 2, 0.3, 0.05, 10), (('XRT', 37, 9, None, 1), 'SOXX', 44, 5, 2.0, 0.05, 10), 5, 'OR'), 15, 'OR')\n",
      "ATTEMPTING PULL 3f41040ee578c0cd204530db69c6af62270cc8c604b59cf7df351e71\n",
      "(((('IWR', 6, None, None, 2), 'SMH', 10, 3, 0.5, 0.01, 10), (('VNQ', 27, 17, None, 4), 'SMH', 5, 3, 0.5, 0.05, 10), 3, 'AND'), ((('IBB', 9, 18, None, 4), 'SMH', 5, 15, 1.0, 0.01, 10), (('OIH', 26, None, 9, 5), 'SMH', 22, 10, 1.0, 0.05, 10), 15, 'OR'), 15, 'OR')\n",
      "ATTEMPTING PULL 81b6619612ccac3d49c6901562c88d2e0578022e8e20399ac039dc90\n",
      "((((('VWO', 7, None, 22, 5), 'XBI', 22, 7, 1.5, 0.01, 10), (('XBI', 29, 1, 11, 1), 'XBI', 22, 5, 1.5, 0.1, 10), 7, 'OR'), ((('RSP', 41, 4, None, 3), 'XBI', 22, 2, 1.5, 0.05, 10), (('VFH', 11, None, 11, 2), 'XBI', 10, 3, 0.5, 0.01, 10), 3, 'OR'), 7, 'OR'), ((('DIA', 13, None, None, 5), 'XBI', 22, 5, 2.0, 0.1, 10), (('IBB', 3, 11, 17, 2), 'XBI', 22, 3, 1.0, 0.1, 10), 5, 'OR'), 7, 'OR')\n",
      "ATTEMPTING PULL f508548f3507481775451e6b69e29ede17e3280ba13181b25b2f1f2d\n",
      "((((('XHB', 9, None, 11, 1), 'IYR', 44, 10, 2.0, 0.01, 10), (('MDY', 20, None, None, 1), 'IYR', 10, 5, 0.5, 0.01, 10), 10, 'OR'), ((('XHB', 29, None, None, 4), 'IYR', 44, 7, 2.0, 0.05, 10), (('VGK', 29, None, None, 1), 'IYR', 44, 3, 2.0, 0.05, 10), 7, 'AND'), 10, 'OR'), ((('XHB', 9, None, 11, 1), 'IYR', 44, 10, 2.0, 0.1, 10), (('XHB', 9, None, 11, 1), 'IYR', 44, 15, 2.0, 0.01, 10), 15, 'AND'), 15, 'OR')\n",
      "ATTEMPTING PULL ed5430e76af362bdbaa6a5cd32c21da10e86b3dc93fa1a22905fe26d\n",
      "((('XLK', 11, None, None, 4), 'XBI', 22, 5, 1.0, 0.1, 10), (('SH', 33, None, 21, 5), 'XBI', 22, 7, 1.0, 0.05, 10), 7, 'OR')\n",
      "ATTEMPTING PULL ca0c09393c3cafcc58603dad329cabf342413e033a4db8acb51f1f67\n",
      "((('EWH', 25, None, 17, 1), 'IYR', 5, 3, 1.0, 0.1, 10), ((((('XHB', 9, None, 11, 1), 'IYR', 44, 10, 2.0, 0.01, 10), (('MDY', 20, None, None, 1), 'IYR', 10, 5, 0.5, 0.01, 10), 10, 'OR'), ((('XHB', 29, None, None, 4), 'IYR', 44, 7, 2.0, 0.05, 10), (('VGK', 29, None, None, 1), 'IYR', 44, 3, 2.0, 0.05, 10), 7, 'AND'), 10, 'OR'), ((('XHB', 9, None, 11, 1), 'IYR', 44, 10, 2.0, 0.1, 10), (('XHB', 9, None, 11, 1), 'IYR', 44, 15, 2.0, 0.01, 10), 15, 'AND'), 15, 'OR'), 15, 'OR')\n",
      "ATTEMPTING PULL 3ab455730f9e7003ec0311bd239092a569042552c2d874eaa64a984c\n",
      "((((('VWO', 7, None, 22, 5), 'XBI', 22, 7, 1.5, 0.01, 10), (('XBI', 29, 1, 11, 1), 'XBI', 22, 5, 1.5, 0.1, 10), 7, 'OR'), ((('IWR', 43, None, None, 3), 'XBI', 5, 3, 0.3, 0.01, 10), (('IEF', 25, None, None, 4), 'XBI', 10, 5, 0.7, 0.1, 10), 5, 'AND'), 7, 'OR'), ((('SPY', 21, 5, None, 5), 'XBI', 5, 2, 0.3, 0.05, 10), (('TLT', 14, None, None, 5), 'XBI', 10, 10, 0.3, 0.01, 10), 10, 'AND'), 10, 'OR')\n",
      "ATTEMPTING PULL 35a639a3a81f1053b0415283024460e5382c7e1f4fd1c86bf1e789cd\n",
      "(((('IVE', 35, None, None, 5), 'XBI', 44, 10, 1.5, 0.1, 10), (('VWO', 7, None, 22, 5), 'XBI', 22, 7, 1.5, 0.01, 10), 10, 'OR'), (((('VO', 25, 7, None, 1), 'XBI', 10, 7, 0.7, 0.2, 10), (('SPY', 21, 5, None, 5), 'XBI', 5, 2, 0.3, 0.05, 10), 7, 'OR'), ((('IEF', 25, None, None, 4), 'XBI', 10, 5, 0.7, 0.1, 10), (('IWR', 43, None, None, 3), 'XBI', 5, 3, 0.3, 0.01, 10), 5, 'OR'), 7, 'AND'), 10, 'OR')\n",
      "ATTEMPTING PULL 7d6f325849c75b51004b5e05125cbcd7c7baad88940fc27d4eb9bc98\n",
      "(((((('IWR', 43, None, None, 3), 'XBI', 10, 3, 0.5, 0.01, 10), (('TLT', 39, None, None, 1), 'XBI', 22, 3, 1.0, 0.05, 10), 3, 'OR'), ((('IVE', 35, None, None, 5), 'XBI', 44, 10, 1.5, 0.1, 10), (('VFH', 11, None, 11, 2), 'XBI', 10, 3, 0.5, 0.01, 10), 10, 'AND'), 10, 'AND'), ((('SPY', 21, 5, None, 5), 'XBI', 5, 2, 0.3, 0.05, 10), (('VWO', 7, None, 22, 5), 'XBI', 22, 7, 1.5, 0.01, 10), 7, 'OR'), 10, 'OR'), ((('OIH', 41, 9, None, 5), 'XBI', 22, 3, 1.0, 0.05, 10), (('MDY', 29, None, 20, 4), 'XBI', 10, 7, 1.0, 0.01, 10), 7, 'AND'), 10, 'OR')\n",
      "ATTEMPTING PULL 01733f097b9a0c75356d7fb0d9a4187ac15b3d528413d478b3df763e\n",
      "(((('XRT', 37, 9, None, 1), 'SOXX', 44, 5, 2.0, 0.05, 10), (('XLF', 2, 10, None, 2), 'SOXX', 44, 5, 2.0, 0.05, 10), 5, 'OR'), ((('VWO', 14, 2, None, 4), 'SOXX', 44, 15, 2.0, 0.05, 10), (('XRT', 37, 9, None, 1), 'SOXX', 44, 5, 1.5, 0.05, 10), 15, 'OR'), 15, 'OR')\n",
      "ATTEMPTING PULL ee3688a454df36c10ec93fde1ea54e9b6f2d15ef8732d7f41be406e0\n",
      "(((('DIA', 13, None, None, 5), 'XBI', 22, 5, 2.0, 0.1, 10), ((('XLK', 30, None, None, 4), 'XBI', 10, 2, 1.0, 0.05, 10), (('SPY', 21, 5, None, 5), 'XBI', 5, 2, 0.3, 0.05, 10), 2, 'OR'), 5, 'OR'), ((('XBI', 11, None, None, 4), 'XBI', 10, 2, 0.7, 0.05, 10), ((('XLE', 21, 15, 18, 3), 'XBI', 10, 10, 1.5, 0.05, 10), (('IVE', 35, None, None, 5), 'XBI', 44, 10, 1.5, 0.1, 10), 10, 'AND'), 10, 'OR'), 10, 'OR')\n",
      "ATTEMPTING PULL 2b1d979c0e4d7da81789d713166a980dcb98de5182265e4234d07950\n",
      "((('MDY', 29, None, 20, 4), 'XBI', 10, 2, 2.0, 0.01, 10), ((('XHB', 7, 15, None, 2), 'XBI', 10, 7, 0.7, 0.1, 10), (('SPY', 21, 5, None, 5), 'XBI', 5, 2, 0.3, 0.05, 10), 7, 'OR'), 7, 'OR')\n",
      "ATTEMPTING PULL 0d4a97d90fd91c3f1a7ec1e4f171e49040d0e6e309cde70cb763aa22\n",
      "(((('IWR', 43, None, None, 3), 'XBI', 10, 3, 0.5, 0.01, 10), (('SPY', 21, 5, None, 5), 'XBI', 5, 2, 0.3, 0.05, 10), 3, 'OR'), ((('VWO', 7, None, 22, 5), 'XBI', 22, 7, 1.5, 0.01, 10), (('VBR', 14, 20, None, 1), 'XBI', 22, 10, 1.0, 0.01, 10), 10, 'OR'), 10, 'OR')\n",
      "ATTEMPTING PULL b522ad425361842b8904756cf932d3586fd2dcac0d790be238fad0a4\n",
      "(((('XHB', 9, None, 11, 1), 'IYR', 44, 15, 2.0, 0.01, 10), (('XHB', 9, None, 11, 1), 'IYR', 44, 10, 2.0, 0.01, 10), 15, 'OR'), ((('GDX', 11, 17, None, 2), 'IYR', 10, 3, 1.0, 0.05, 10), (('ITB', 28, 20, None, 2), 'IYR', 10, 3, 0.7, 0.01, 10), 3, 'AND'), 15, 'OR')\n",
      "ATTEMPTING PULL 803efab20599a76f3fcf789a486df4f4bb37b79aa8ddb782ffa2c99d\n",
      "(((('EWC', 9, 1, None, 5), 'SOXX', 5, 2, 0.7, 0.05, 10), (('VIG', 10, 1, None, 3), 'SOXX', 44, 7, 2.0, 0.1, 10), 7, 'OR'), ((('SLV', 2, None, None, 5), 'SOXX', 10, 10, 0.5, 0.01, 10), (('XRT', 37, 9, None, 1), 'SOXX', 44, 5, 1.5, 0.05, 10), 10, 'OR'), 10, 'OR')\n",
      "ATTEMPTING PULL 1ead57a1cafe9c83d854003066ded00a3717809a4d938cadca0dbb4d\n",
      "(((('IAU', 27, 21, None, 1), 'KRE', 22, 15, 1.5, 0.01, 10), (('XME', 42, None, None, 4), 'KRE', 10, 2, 0.7, 0.01, 10), 15, 'AND'), (((('USO', 28, 19, None, 2), 'KRE', 22, 3, 2.0, 0.05, 10), (('IWM', 6, None, None, 2), 'KRE', 5, 2, 1.5, 0.01, 10), 3, 'AND'), ((('IWM', 35, 15, None, 4), 'KRE', 22, 3, 1.5, 0.1, 10), (('GLD', 40, None, 12, 5), 'KRE', 22, 10, 1.0, 0.1, 10), 10, 'OR'), 10, 'OR'), 15, 'OR')\n",
      "ATTEMPTING PULL 2db1254d14b2950c2e549f7b28b8f6f94a4ec854b04ab17b74942c4e\n",
      "(((('IWM', 35, 15, None, 4), 'KRE', 22, 3, 1.5, 0.1, 10), (('USO', 28, 19, None, 2), 'KRE', 22, 3, 2.0, 0.05, 10), 3, 'OR'), ((('EWU', 30, None, None, 5), 'KRE', 10, 3, 1.5, 0.05, 10), (('IAU', 27, 21, None, 1), 'KRE', 22, 15, 1.5, 0.01, 10), 15, 'OR'), 15, 'OR')\n",
      "ATTEMPTING PULL 584ed0300440882273f076c6127b07e601e410913e664f4e34fa7854\n",
      "(((('VWO', 32, None, None, 3), 'IYR', 10, 5, 1.0, 0.1, 10), (('VWO', 27, 7, 8, 4), 'IYR', 22, 7, 0.7, 0.1, 10), 7, 'OR'), ((('XHB', 9, None, 11, 1), 'IYR', 44, 15, 2.0, 0.01, 10), (('XHB', 9, None, 11, 1), 'IYR', 44, 10, 2.0, 0.01, 10), 15, 'OR'), 15, 'OR')\n",
      "ATTEMPTING PULL cfcce53f13cbe4a890d7ca41a64ac0f27620aa6cff85b91761c55a6a\n",
      "(((('ILF', 37, None, None, 2), 'XBI', 10, 5, 0.5, 0.05, 10), (('IWR', 43, None, None, 3), 'XBI', 5, 3, 0.3, 0.01, 10), 5, 'OR'), (((('TLT', 14, None, None, 5), 'XBI', 10, 10, 0.3, 0.01, 10), (('IVE', 35, None, None, 5), 'XBI', 44, 10, 1.5, 0.1, 10), 10, 'AND'), ((('SPY', 21, 5, None, 5), 'XBI', 5, 2, 0.3, 0.05, 10), (('VWO', 7, None, 22, 5), 'XBI', 22, 7, 1.5, 0.01, 10), 7, 'OR'), 10, 'OR'), 10, 'OR')\n",
      "ATTEMPTING PULL 1f5438fcfb817c96ef5f6acc5268941a7132773b6c4173b60c6e3dc1\n",
      "(((('IYF', 14, 1, 11, 5), 'IYR', 10, 3, 0.3, 0.1, 10), (('IAU', 31, None, 22, 4), 'IYR', 22, 10, 1.0, 0.1, 10), 10, 'AND'), (((('XHB', 9, None, 11, 1), 'IYR', 44, 15, 2.0, 0.01, 10), (('XHB', 9, None, 11, 1), 'IYR', 44, 10, 2.0, 0.01, 10), 15, 'OR'), ((('GDX', 11, 17, None, 2), 'IYR', 10, 3, 1.0, 0.05, 10), (('ITB', 28, 20, None, 2), 'IYR', 10, 3, 0.7, 0.01, 10), 3, 'AND'), 15, 'OR'), 15, 'OR')\n",
      "ATTEMPTING PULL dd161dbfcde22b0ab945b73decbbc7e1413391ec6667604811c5a1ad\n",
      "((((('VNQ', 16, None, None, 4), 'XBI', 10, 5, 0.3, 0.01, 10), (('VWO', 7, None, 22, 5), 'XBI', 22, 7, 1.5, 0.01, 10), 7, 'OR'), ((('IWR', 43, None, None, 3), 'XBI', 5, 3, 0.3, 0.01, 10), (('EWW', 2, None, None, 5), 'XBI', 5, 3, 0.5, 0.01, 10), 3, 'AND'), 7, 'OR'), ((('IWR', 43, None, None, 3), 'XBI', 10, 3, 0.5, 0.01, 10), (('RSP', 28, None, None, 2), 'XBI', 10, 5, 0.7, 0.05, 10), 5, 'AND'), 7, 'OR')\n",
      "ATTEMPTING PULL 4450da6212aef448a1f5e48d2341a17bcef68d834a5195af6fc66f2f\n",
      "(((('VNQ', 16, None, None, 4), 'XBI', 10, 5, 0.3, 0.01, 10), (('VWO', 7, None, 22, 5), 'XBI', 22, 7, 1.5, 0.01, 10), 7, 'OR'), ((('VBR', 14, 20, None, 1), 'XBI', 22, 10, 1.0, 0.01, 10), (('SPY', 21, 5, None, 5), 'XBI', 5, 2, 0.3, 0.05, 10), 10, 'AND'), 10, 'OR')\n",
      "ATTEMPTING PULL fbeb227c46e7a5e7778c5f2d8f6d9bd9319f41d3e740b1dc06b9ba8d\n",
      "((('IJR', 37, None, 22, 5), 'XBI', 10, 15, 0.3, 0.2, 10), ((('VNQ', 16, None, None, 4), 'XBI', 10, 5, 0.3, 0.01, 10), (('VWO', 7, None, 22, 5), 'XBI', 22, 7, 1.5, 0.01, 10), 7, 'OR'), 15, 'OR')\n",
      "ATTEMPTING PULL 5fb2ef2a0eb7e083359faf5a186c52d828f100b434a0392ec6127998\n",
      "((('IEF', 3, None, None, 4), 'IYF', 22, 3, 1.5, 0.1, 10), (('FXE', 27, 17, 17, 4), 'IYF', 22, 15, 1.0, 0.05, 10), 15, 'OR')\n",
      "ATTEMPTING PULL a1b5fbdc8eda7baa242dd17f44f19520e805617a34bcfbc99b613d83\n",
      "(((('XHB', 20, None, None, 4), 'XBI', 10, 2, 0.5, 0.05, 10), ((('XHB', 7, 15, None, 2), 'XBI', 10, 7, 0.7, 0.1, 10), (('VBR', 14, 20, None, 1), 'XBI', 22, 10, 1.0, 0.01, 10), 10, 'AND'), 10, 'OR'), ((('VWO', 7, None, 22, 5), 'XBI', 22, 7, 1.5, 0.01, 10), (('XBI', 29, 1, 11, 1), 'XBI', 22, 5, 1.5, 0.1, 10), 7, 'OR'), 10, 'OR')\n",
      "ATTEMPTING PULL 8b61cc42b51b550d0b7fe55fd3a9748cb822aca93de58b8d0b0694e6\n",
      "(((('IWR', 43, None, None, 3), 'XBI', 10, 3, 0.5, 0.01, 10), (('IVE', 35, None, None, 5), 'XBI', 44, 10, 1.5, 0.1, 10), 10, 'OR'), ((('SPY', 21, 5, None, 5), 'XBI', 5, 2, 0.3, 0.05, 10), (('VWO', 7, None, 22, 5), 'XBI', 22, 7, 1.5, 0.01, 10), 7, 'OR'), 10, 'OR')\n",
      "ATTEMPTING PULL 8d49d39534267cd5c83e472dc2907c9d471b883a3264995bc0d6d463\n",
      "((((('VNQ', 16, None, None, 4), 'XBI', 10, 5, 0.3, 0.01, 10), (('VWO', 7, None, 22, 5), 'XBI', 22, 7, 1.5, 0.01, 10), 7, 'OR'), ((('VBR', 14, 20, None, 1), 'XBI', 22, 10, 1.0, 0.01, 10), (('SPY', 21, 5, None, 5), 'XBI', 5, 2, 0.3, 0.05, 10), 10, 'AND'), 10, 'OR'), (((('ILF', 37, None, None, 2), 'XBI', 10, 5, 0.5, 0.05, 10), (('IWR', 43, None, None, 3), 'XBI', 5, 3, 0.3, 0.01, 10), 5, 'OR'), ((('XBI', 29, 1, 11, 1), 'XBI', 22, 5, 1.5, 0.1, 10), (('VWO', 20, None, 9, 4), 'XBI', 10, 2, 0.7, 0.05, 10), 5, 'OR'), 5, 'OR'), 10, 'OR')\n",
      "ATTEMPTING PULL 21ad4e30d150bd3511a1153a254d37cf4873ff82f9aed259be543909\n",
      "(((('VNQ', 16, None, None, 4), 'XBI', 10, 5, 0.3, 0.01, 10), (('VWO', 7, None, 22, 5), 'XBI', 22, 7, 1.5, 0.01, 10), 7, 'OR'), ((('OIH', 41, 9, None, 5), 'XBI', 22, 3, 1.0, 0.05, 10), ((('TLT', 14, None, None, 5), 'XBI', 10, 10, 0.3, 0.01, 10), (('IVE', 35, None, None, 5), 'XBI', 44, 10, 1.5, 0.1, 10), 10, 'AND'), 10, 'OR'), 10, 'OR')\n",
      "ATTEMPTING PULL 960325569b4d39bb7d4851f326d0f2592fd29ef976f8224966e200cf\n",
      "(((('TIP', 26, 21, 14, 5), 'VGT', 10, 7, 1.0, 0.1, 10), (('LQD', 10, 13, None, 2), 'VGT', 22, 2, 2.0, 0.01, 10), 7, 'AND'), ((('EWJ', 25, None, 15, 5), 'VGT', 5, 5, 0.5, 0.01, 10), (('VGT', 2, 5, None, 4), 'VGT', 22, 2, 1.5, 0.05, 10), 5, 'OR'), 7, 'OR')\n",
      "ATTEMPTING PULL 4fb22c9cbf3550dab39d1455a0b0f57d85c618dba6522d0a04bf407c\n",
      "(((('XLY', 19, None, None, 5), 'VGT', 44, 2, 1.5, 0.01, 10), (('IVE', 30, None, 18, 3), 'VGT', 44, 2, 2.0, 0.05, 10), 2, 'AND'), ((('OEF', 13, None, 14, 4), 'VGT', 22, 3, 1.0, 0.1, 10), (('EWJ', 25, None, 15, 5), 'VGT', 5, 5, 0.5, 0.01, 10), 5, 'OR'), 5, 'OR')\n",
      "ATTEMPTING PULL 7699eb169a28c6eabf2a2153392e5148327c59ee69608ec1756b2271\n",
      "((('SOXX', 43, None, None, 4), 'XHB', 44, 10, 1.5, 0.1, 10), (('IWM', 2, None, 7, 5), 'XHB', 44, 15, 2.0, 0.01, 10), 15, 'OR')\n",
      "ATTEMPTING PULL 9960d2a1f13ce9236510e49f01a96d043c3265bb84dddc44e06231e2\n",
      "((('IAU', 29, None, None, 1), 'VGT', 10, 5, 0.7, 0.1, 10), ((('EWJ', 25, None, 15, 5), 'VGT', 5, 5, 0.5, 0.01, 10), (('VGT', 2, 5, None, 4), 'VGT', 22, 2, 1.5, 0.05, 10), 5, 'OR'), 5, 'OR')\n",
      "ATTEMPTING PULL a4dffabe6eec4056721e874f501fe658fab0c99bae0b114ac7711119\n",
      "((('GLD', 21, None, None, 2), 'SOXX', 10, 5, 0.5, 0.1, 10), ((('XRT', 37, 9, None, 1), 'SOXX', 44, 5, 1.5, 0.05, 10), (('XBI', 12, None, 20, 4), 'SOXX', 10, 10, 0.3, 0.1, 10), 10, 'OR'), 10, 'OR')\n",
      "ATTEMPTING PULL 7515e6570bcee05902e344c42c64d1904fc2b4d9742a1f03d1684c70\n",
      "(((('TLT', 39, None, None, 1), 'XBI', 22, 3, 1.0, 0.05, 10), (('RSP', 28, None, None, 2), 'XBI', 10, 5, 0.7, 0.05, 10), 5, 'AND'), ((('IWR', 43, None, None, 3), 'XBI', 10, 3, 0.5, 0.01, 10), (('IVE', 35, None, None, 5), 'XBI', 44, 10, 1.5, 0.1, 10), 10, 'OR'), 10, 'OR')\n",
      "ATTEMPTING PULL 85edeeb9263a97ca67116963953294a2d5f2a6f2b5e3e4aecb74691a\n",
      "((('IBB', 27, None, None, 4), 'SOXX', 10, 3, 0.3, 0.01, 10), (('XLI', 11, 11, None, 2), 'SOXX', 44, 15, 2.0, 0.01, 10), 15, 'OR')\n",
      "ATTEMPTING PULL 23c62cb6f113d0880a4915b2b8eb400b8e015941b38a0810a85c9ba4\n",
      "((('XHB', 29, None, None, 5), 'KBE', 10, 5, 0.3, 0.1, 10), (((('FEZ', 14, 9, 18, 4), 'KBE', 5, 15, 0.7, 0.01, 10), (('EWU', 16, 6, None, 1), 'KBE', 22, 2, 2.0, 0.01, 10), 15, 'AND'), ((('OEF', 12, 4, None, 2), 'KBE', 5, 10, 0.3, 0.05, 10), (('RSP', 20, None, None, 1), 'KBE', 22, 15, 1.0, 0.05, 10), 15, 'AND'), 15, 'OR'), 15, 'OR')\n",
      "ATTEMPTING PULL 8bd00761e9c29d8a5ea0572467addc3895641c8a172b9f674dbd07ed\n",
      "((((('IVV', 16, None, 13, 1), 'KRE', 22, 5, 1.0, 0.1, 10), (('VB', 22, None, None, 3), 'KRE', 22, 5, 1.0, 0.1, 10), 5, 'OR'), ((('EEM', 11, None, None, 3), 'KRE', 22, 3, 1.0, 0.1, 10), (('VNQ', 18, None, 20, 1), 'KRE', 10, 3, 0.5, 0.01, 10), 3, 'OR'), 5, 'AND'), ((('IWF', 8, 5, None, 4), 'KRE', 10, 5, 0.5, 0.05, 10), (('IAU', 27, 21, None, 1), 'KRE', 22, 15, 1.5, 0.01, 10), 15, 'OR'), 15, 'OR')\n",
      "ATTEMPTING PULL af1fab22150747ac49be65338937a19837bf15dcf812bb3d0eec9766\n",
      "((((('VWO', 43, 5, 20, 1), 'XME', 22, 5, 2.0, 0.01, 10), (('RSP', 11, 5, 18, 2), 'XME', 22, 5, 1.5, 0.1, 10), 5, 'OR'), ((('EFA', 37, None, 20, 5), 'XME', 22, 10, 0.7, 0.01, 10), (('DXJ', 14, None, None, 5), 'XME', 44, 15, 2.0, 0.2, 10), 15, 'OR'), 15, 'OR'), ((('XME', 26, None, None, 4), 'XME', 5, 5, 1.0, 0.01, 10), (('EFA', 37, None, 20, 5), 'XME', 22, 10, 1.0, 0.05, 10), 10, 'OR'), 15, 'OR')\n",
      "ATTEMPTING PULL c9240a8470ca939b077f551aad38808334cfe2adabd6e97790ca34dd\n",
      "(((('EWU', 30, None, None, 5), 'KRE', 10, 3, 1.5, 0.05, 10), (('IAU', 27, 21, None, 1), 'KRE', 22, 15, 1.5, 0.01, 10), 15, 'OR'), ((('IWM', 6, None, None, 2), 'KRE', 5, 2, 1.5, 0.01, 10), (('XOP', 38, 14, None, 3), 'KRE', 10, 3, 0.7, 0.1, 10), 3, 'OR'), 15, 'OR')\n",
      "ATTEMPTING PULL 6d0c21c4029554d2a59b677980407dd17c87d7df9746260b44b202c7\n",
      "(((('XLF', 2, 10, None, 2), 'SOXX', 44, 5, 2.0, 0.05, 10), (('SHY', 38, 6, None, 2), 'SOXX', 10, 15, 1.0, 0.1, 10), 15, 'OR'), ((('VWO', 14, 2, None, 4), 'SOXX', 44, 15, 2.0, 0.05, 10), (('SPY', 37, 16, 13, 5), 'SOXX', 22, 15, 0.7, 0.2, 10), 15, 'OR'), 15, 'OR')\n",
      "ATTEMPTING PULL 40c60988d84d953eaa8e11e58175ace915498f67b61e6bf8dcbc8b6e\n",
      "(((('SH', 44, None, 17, 3), 'SOXX', 22, 2, 1.5, 0.05, 10), (('XRT', 37, 9, None, 1), 'SOXX', 44, 5, 1.5, 0.05, 10), 5, 'OR'), ((('XRT', 37, 9, None, 1), 'SOXX', 44, 5, 2.0, 0.05, 10), (('XBI', 12, None, 20, 4), 'SOXX', 10, 10, 0.3, 0.1, 10), 10, 'AND'), 10, 'OR')\n",
      "ATTEMPTING PULL d01bccc52a9c0892b7a008f09549884f709aa0f99c05e64c76f32356\n",
      "(((('VWO', 14, 2, None, 4), 'SOXX', 44, 15, 2.0, 0.05, 10), (('SDY', 22, 11, None, 1), 'SOXX', 10, 7, 0.7, 0.01, 10), 15, 'AND'), ((('IAU', 20, None, 9, 5), 'SOXX', 22, 15, 0.7, 0.1, 10), (('XLI', 11, 11, None, 2), 'SOXX', 44, 15, 2.0, 0.01, 10), 15, 'OR'), 15, 'OR')\n",
      "ATTEMPTING PULL b329d41dad809bcc70e7c88989fed9112f3d1d6a94e19c951e74a473\n",
      "(((('VO', 25, 7, None, 1), 'XBI', 10, 7, 0.7, 0.2, 10), (('VIG', 32, None, 12, 4), 'XBI', 22, 10, 1.5, 0.05, 10), 10, 'OR'), (((('IVE', 35, None, None, 5), 'XBI', 44, 10, 1.5, 0.1, 10), (('VWO', 7, None, 22, 5), 'XBI', 22, 7, 1.5, 0.01, 10), 10, 'AND'), ((('XLK', 30, None, None, 4), 'XBI', 10, 2, 1.0, 0.05, 10), (('IWR', 43, None, None, 3), 'XBI', 10, 3, 0.5, 0.01, 10), 3, 'OR'), 10, 'AND'), 10, 'OR')\n",
      "ATTEMPTING PULL 48b70c67cfadca01a2a6f52eb90a807c9ab7b250b7209a530d8ea1d5\n",
      "(((('VO', 25, 7, None, 1), 'XBI', 10, 7, 0.7, 0.2, 10), (('VIG', 32, None, 12, 4), 'XBI', 22, 10, 1.5, 0.05, 10), 10, 'OR'), ((('ILF', 37, None, None, 2), 'XBI', 10, 5, 0.5, 0.05, 10), (('IVE', 35, None, None, 5), 'XBI', 44, 10, 1.5, 0.1, 10), 10, 'AND'), 10, 'OR')\n",
      "ATTEMPTING PULL c9412ea2782905e74be260b27453363fb0fe21fd24abc80a0ff0db3b\n",
      "(((('FEZ', 14, 9, 18, 4), 'KBE', 5, 15, 0.7, 0.01, 10), (('EWU', 16, 6, None, 1), 'KBE', 22, 2, 2.0, 0.01, 10), 15, 'AND'), ((('EWC', 6, 10, 20, 4), 'KBE', 22, 15, 0.7, 0.05, 10), ((('IYR', 38, 15, None, 1), 'KBE', 5, 3, 0.3, 0.05, 10), (('VBR', 17, None, None, 5), 'KBE', 22, 10, 0.7, 0.01, 10), 10, 'OR'), 15, 'OR'), 15, 'OR')\n",
      "ATTEMPTING PULL 93f9ae45b7d54869392c1e3c652c2baeb1a13539e63160bdbc367511\n",
      "((((('FEZ', 14, 9, 18, 4), 'KBE', 5, 15, 0.7, 0.01, 10), (('EWU', 16, 6, None, 1), 'KBE', 22, 2, 2.0, 0.01, 10), 15, 'AND'), ((('EWC', 6, 10, 20, 4), 'KBE', 22, 15, 0.7, 0.05, 10), ((('IYR', 38, 15, None, 1), 'KBE', 5, 3, 0.3, 0.05, 10), (('VBR', 17, None, None, 5), 'KBE', 22, 10, 0.7, 0.01, 10), 10, 'OR'), 15, 'OR'), 15, 'OR'), ((('MDY', 28, None, 17, 4), 'KBE', 10, 5, 0.5, 0.1, 10), ((('XLB', 12, None, None, 4), 'KBE', 22, 15, 0.7, 0.01, 10), (('OEF', 12, 4, None, 2), 'KBE', 5, 10, 0.7, 0.01, 10), 15, 'AND'), 15, 'OR'), 15, 'OR')\n"
     ]
    }
   ],
   "source": [
    "uniqueModels, modelReturns, modelPredictions, modelSlippageReturns, modelReturnsWithFactor, joinedData = autoPortfolioTree.computeReturnsForUniqueModelsCache(allModels, factorToTrade)\n"
   ]
  },
  {
   "cell_type": "code",
   "execution_count": 8,
   "metadata": {
    "collapsed": true
   },
   "outputs": [],
   "source": [
    "cleanedReturns = modelReturns.dropna()\n",
    "cleanedReturns.columns = [item.getHash() for item in uniqueModels]\n",
    "\n",
    "cleanedPredictions = modelPredictions.dropna()\n",
    "cleanedPredictions.columns = [item.getHash() for item in uniqueModels]\n",
    "hashToModel = {}\n",
    "for item in uniqueModels:\n",
    "    hashToModel[item.getHash()] = item"
   ]
  },
  {
   "cell_type": "code",
   "execution_count": 9,
   "metadata": {
    "collapsed": false
   },
   "outputs": [],
   "source": [
    "def historicalWeightsToTickerAllocations(historicalWeights, algorithmPredictions, modelsInPortfolio):\n",
    "    aggregatePredictions = algorithmPredictions.dropna()\n",
    "    allocationsToStore = []\n",
    "    historicalAllocations = None\n",
    "    scaledHistoricalAllocations = None\n",
    "    ##ITERATE THROUGH DAYS TO CALCULATE NET POSITION\n",
    "    for i in range(len(historicalWeights)):\n",
    "        netPosition = {}\n",
    "        weights = historicalWeights.iloc[i]\n",
    "        for model in modelsInPortfolio:\n",
    "            if model.targetTicker not in netPosition:\n",
    "                netPosition[model.targetTicker] = 0.0\n",
    "            try:\n",
    "                aggregatePredictions.loc[historicalWeights.index[i]]\n",
    "            except:\n",
    "                continue\n",
    "            \n",
    "            netPosition[model.targetTicker] += weights[model.getHash()] * aggregatePredictions.loc[historicalWeights.index[i]][model.getHash()]\n",
    "        thisDf = pd.DataFrame([netPosition], index=[historicalWeights.index[i]])\n",
    "        if historicalAllocations is None:\n",
    "            historicalAllocations = thisDf\n",
    "        else:\n",
    "            historicalAllocations = pd.concat([historicalAllocations, thisDf])\n",
    "        \n",
    "        totalCapitalUsed = sum([abs(netPosition[ticker]) for ticker in netPosition])\n",
    "        scaledNetPosition = {}\n",
    "        for ticker in netPosition:\n",
    "            scaledNetPosition[ticker] = netPosition[ticker] * 1.0/totalCapitalUsed\n",
    "        \n",
    "        thisDf = pd.DataFrame([scaledNetPosition], index=[historicalWeights.index[i]])\n",
    "        if scaledHistoricalAllocations is None:\n",
    "            scaledHistoricalAllocations = thisDf\n",
    "        else:\n",
    "            scaledHistoricalAllocations = pd.concat([scaledHistoricalAllocations, thisDf])\n",
    "    \n",
    "    return historicalAllocations, scaledHistoricalAllocations\n",
    "            \n",
    "            "
   ]
  },
  {
   "cell_type": "code",
   "execution_count": 10,
   "metadata": {
    "collapsed": false
   },
   "outputs": [],
   "source": [
    "import empyrical\n",
    "def getLimitedDataForPortfolio(historicalWeights, historicalPredictions, modelsUsed, factorToTrade, joinedData):\n",
    "    \n",
    "    normalTickerAllocationsTable, scaledTickerAllocationsTable = historicalWeightsToTickerAllocations(historicalWeights, historicalPredictions, modelsUsed)\n",
    "    \n",
    "    tickerAllocationsTable = scaledTickerAllocationsTable\n",
    "    rawTickerPerformance = portfolioGeneration.calculatePerformanceForTable(tickerAllocationsTable, tickerAllocationsTable.columns, joinedData)\n",
    "\n",
    "    rawAlgoPerformance = pd.DataFrame(rawTickerPerformance.apply(lambda x:sum(x), axis=1), columns=[\"Algo Return Without Commissions\"])\n",
    "\n",
    "    tickerPerformance, algoPerformance, algoTransactionCost =  portfolioGeneration.calculatePerformanceForAllocations(tickerAllocationsTable, joinedData)\n",
    "\n",
    "    benchmark = factorToTrade\n",
    "    factorReturn = dataAck.getDailyFactorReturn(benchmark, joinedData)\n",
    "    factorReturn.columns = [\"Factor Return (\" + benchmark + \")\"]\n",
    "    algoPerformance.columns = [\"Algo Return\"]\n",
    "    \n",
    "    tickersUsed = []\n",
    "    for mod in modelsUsed:\n",
    "        tickersUsed.append(mod.targetTicker)\n",
    "    \n",
    "    for ticker in tickersUsed:\n",
    "        thisFactorReturn = dataAck.getDailyFactorReturn(ticker, joinedData)\n",
    "        thisFactorReturn.columns = [\"Factor Return (\" + ticker + \")\"]\n",
    "        alpha, beta = empyrical.alpha_beta(algoPerformance, thisFactorReturn)\n",
    "        print(ticker, beta)\n",
    "\n",
    "    alpha, beta = empyrical.alpha_beta(algoPerformance, factorReturn)\n",
    "    sharpe_difference = empyrical.sharpe_ratio(algoPerformance) - empyrical.sharpe_ratio(factorReturn)\n",
    "    annualizedReturn = empyrical.annual_return(algoPerformance)[0]\n",
    "    annualizedVolatility = empyrical.annual_volatility(algoPerformance)\n",
    "    \n",
    "    ##AUTOMATICALLY TAKES SLIPPAGE INTO ACCOUNT\n",
    "    return {\n",
    "        \"benchmark\":factorToTrade,\n",
    "        \"alpha\":alpha,\n",
    "        \"beta\":beta,\n",
    "        \"sharpe difference\":sharpe_difference,\n",
    "        \"annualizedReturn\":annualizedReturn,\n",
    "        \"annualizedVolatility\":annualizedVolatility,\n",
    "        \"sharpe\":empyrical.sharpe_ratio(algoPerformance),\n",
    "        \"free return\":annualizedReturn - annualizedVolatility\n",
    "    }\n",
    "    \n"
   ]
  },
  {
   "cell_type": "code",
   "execution_count": 21,
   "metadata": {
    "collapsed": true
   },
   "outputs": [],
   "source": [
    "def returnSelectAlgos(algoColumns):\n",
    "    return np.random.choice(algoColumns, size=random.randint(5, 15), replace= False)\n"
   ]
  },
  {
   "cell_type": "code",
   "execution_count": 12,
   "metadata": {
    "collapsed": true
   },
   "outputs": [],
   "source": [
    "import hrpPortfolioOpt as hrp\n",
    "def produceHRPPredictions(aggregateReturns, windowSize, startIndex, maxWindowSize = False):\n",
    "    hrpReturns = pd.DataFrame([])\n",
    "    historicalWeights = pd.DataFrame([])\n",
    "    i = windowSize\n",
    "    if startIndex is not None:\n",
    "        i = startIndex\n",
    "    while i < len(aggregateReturns):\n",
    "        corr = None\n",
    "        cov = None\n",
    "        if maxWindowSize == False:\n",
    "            corr = (aggregateReturns[:i]).corr()\n",
    "            cov = (aggregateReturns[:i]).cov()\n",
    "        else:\n",
    "            corr = (aggregateReturns[i-windowSize:i]).corr()\n",
    "            \n",
    "            cov = (aggregateReturns[i-windowSize:i]).cov()\n",
    "        try:\n",
    "            weights = hrp.getHRP(cov, corr)\n",
    "        #     display(weights)\n",
    "        #     display(aggregateReturns[i+windowSize:i+windowSize+1])\n",
    "            todayReturn = aggregateReturns[i:i+1] * weights\n",
    "        #     display(todayReturn)\n",
    "            sumReturn = pd.DataFrame(todayReturn.apply(lambda x:sum(x), axis=1))\n",
    "            hrpReturns = pd.concat([hrpReturns, sumReturn])\n",
    "            thisWeights = pd.DataFrame([[weights[item] for item in weights.index]], index=sumReturn.index, columns=weights.index.tolist())\n",
    "            historicalWeights = pd.concat([historicalWeights, thisWeights])\n",
    "        except:\n",
    "            print(\"FAILED:\",i)\n",
    "        i += 1\n",
    "    return hrpReturns, historicalWeights"
   ]
  },
  {
   "cell_type": "code",
   "execution_count": 13,
   "metadata": {
    "collapsed": true
   },
   "outputs": [],
   "source": [
    "def storeDiscoveredPortfolio(models, portfolioType, benchmark, IS_DATA, OOS_DATA):\n",
    "    description = \"AUTO GENERATED\"\n",
    "    portfolioType = \"HRP FULL\"\n",
    "    seenTickers = []\n",
    "    \n",
    "    allHashes = []\n",
    "    for model in models:\n",
    "        allHashes.append(model.getHash())\n",
    "        if model.targetTicker not in seenTickers:\n",
    "            seenTickers.append(model.targetTicker)\n",
    "        \n",
    "    ##SORT SO ENSURE SAME PORTFOLIO NOT CREATED TWICE\n",
    "    allHashes = sorted(allHashes)\n",
    "    \n",
    "    portfolioString = str(allHashes) + benchmark + description + portfolioType\n",
    "    portfolioHash = hashlib.sha224(portfolioString.encode('utf-8')).hexdigest()\n",
    "    print(\"PORTFOLIO HASH:\", portfolioHash)\n",
    "    for hashing in allHashes:\n",
    "        print(hashing)\n",
    "        \n",
    "    \n",
    "        ##UPLOAD ORGANISM OBJECT\n",
    "        while True:\n",
    "            try:\n",
    "                toUpload = {\n",
    "                    \"portfolio\":portfolioHash,\n",
    "                    \"model\":hashing\n",
    "                }\n",
    "                datastoreClient = datastore.Client('money-maker-1236')\n",
    "                #HASH DIGEST\n",
    "                key = datastoreClient.key(params.discoveredPortfolioModels, hashlib.sha224(str(hashing + portfolioHash).encode('utf-8')).hexdigest()) #NEED TO HASH TO ENSURE UNDER COUNT\n",
    "                organismToStore = datastore.Entity(key=key)\n",
    "                organismToStore.update(toUpload)\n",
    "                datastoreClient.put(organismToStore)\n",
    "                break\n",
    "            except:\n",
    "                print(\"UPLOAD ERROR:\", str(sys.exc_info()))\n",
    "                time.sleep(10)\n",
    "    \n",
    "    ##STORE PORTFOLIO OBJECT\n",
    "    while True:\n",
    "        try:\n",
    "            toUpload = {\n",
    "                \"description\":description,\n",
    "                \"benchmark\":benchmark,\n",
    "                \"portfolioType\":portfolioType,\n",
    "                \"startedTrading\":curveTreeDB.getToday()\n",
    "            }\n",
    "            \n",
    "            for k in IS_DATA:\n",
    "                toUpload[\"IS_\"+ k] = IS_DATA[k]\n",
    "            \n",
    "            for k in OOS_DATA:\n",
    "                toUpload[\"OOS_\"+ k] = OOS_DATA[k]\n",
    "                \n",
    "            for ticker in seenTickers:\n",
    "                toUpload[ticker] = True\n",
    "            \n",
    "            toUpload[\"TICKERS TRADED\"] = len(seenTickers)\n",
    "            \n",
    "            datastoreClient = datastore.Client('money-maker-1236')\n",
    "            #HASH DIGEST\n",
    "            key = datastoreClient.key(params.discoveredPortfolios, portfolioHash) #NEED TO HASH TO ENSURE UNDER COUNT\n",
    "            organismToStore = datastore.Entity(key=key)\n",
    "            organismToStore.update(toUpload)\n",
    "            datastoreClient.put(organismToStore)\n",
    "            return portfolioHash\n",
    "            break\n",
    "        except:\n",
    "            print(\"UPLOAD ERROR:\", str(sys.exc_info()))\n",
    "            time.sleep(10)"
   ]
  },
  {
   "cell_type": "code",
   "execution_count": 14,
   "metadata": {
    "collapsed": true
   },
   "outputs": [],
   "source": [
    "def getWeightingForAlgos(allModels, columns):\n",
    "    countPerTicker = {}\n",
    "    hashes = {}\n",
    "    for mod in allModels:\n",
    "        hashes[mod.getHash()] = mod.targetTicker\n",
    "        if mod.targetTicker not in countPerTicker:\n",
    "            countPerTicker[mod.targetTicker] = 0.0\n",
    "        countPerTicker[mod.targetTicker] += 1.0\n",
    "    weightsToSend = []\n",
    "    for col in columns:\n",
    "        weightsToSend.append(1.0/countPerTicker[hashes[col]])\n",
    "        \n",
    "    return [item/sum(weightsToSend) for item in weightsToSend]"
   ]
  },
  {
   "cell_type": "code",
   "execution_count": 15,
   "metadata": {
    "collapsed": true
   },
   "outputs": [],
   "source": [
    "def binarizeReturns(returnArr):\n",
    "    newArr = []\n",
    "    for item in returnArr:\n",
    "        if item > 0.0:\n",
    "            newArr.append(1.0)\n",
    "        elif item < 0.0:\n",
    "            newArr.append(-1.0)\n",
    "        else:\n",
    "            newArr.append(0.0)\n",
    "    return newArr"
   ]
  },
  {
   "cell_type": "code",
   "execution_count": 16,
   "metadata": {
    "collapsed": true
   },
   "outputs": [],
   "source": [
    "def performPortfolioPerformanceEstimation(historicalPredictions, historicalReturns, factorToTrade, portfolioType, hashToModel, joinedData):\n",
    "    returnWindows = [(0, historicalReturns[:450]), (450, historicalReturns)]\n",
    "    historicalWeights = None\n",
    "    for selectedReturns in returnWindows:\n",
    "        startIndex = selectedReturns[0]\n",
    "        returnWindow = selectedReturns[1]\n",
    "        weightsSeen = None\n",
    "        if portfolioType == \"HRP FULL\":\n",
    "            hrpReturns, weightsSeen = produceHRPPredictions(returnWindow,\\\n",
    "                    126, startIndex=max(startIndex, 126), maxWindowSize=False)\n",
    "        elif portfolioType == \"HRP BINARY\":\n",
    "            hrpReturns, weightsSeen = produceHRPPredictions(pd.DataFrame(returnWindow.apply(lambda x:binarizeReturns(x), axis=1)),\\\n",
    "                    126, startIndex=max(startIndex, 126), maxWindowSize=False)\n",
    "        elif portfolioType == \"HRP WINDOW\":\n",
    "            hrpReturns, weightsSeen = produceHRPPredictions(returnWindow,\\\n",
    "                    126, startIndex=max(startIndex, 126), maxWindowSize=True)\n",
    "        elif portfolioType == \"EW\":\n",
    "            weightsSeen = pd.DataFrame(returnWindow[startIndex:].apply(lambda x: [1.0/len(x) for item in x], axis=1), columns=returnWindow.columns.values)\n",
    "        elif portfolioType == \"EW By Ticker\":\n",
    "            weightArray = getWeightingForAlgos(allModels, returnWindow.columns)\n",
    "            weightsSeen = pd.DataFrame(returnWindow[startIndex:].apply(lambda x: weightArray, axis=1), columns=returnWindow.columns.values)\n",
    "            \n",
    "        \n",
    "        \n",
    "        if historicalWeights is None:\n",
    "            historicalWeights = weightsSeen\n",
    "        else:\n",
    "            historicalWeights = pd.concat([historicalWeights, weightsSeen])\n",
    "        \n",
    "        modelsUsed = []\n",
    "\n",
    "        tickersSeen = {}\n",
    "\n",
    "        for modelHash in historicalPredictions.columns:\n",
    "            thisModel = hashToModel[modelHash]\n",
    "            modelsUsed.append(thisModel)\n",
    "        if startIndex == 0:\n",
    "            scaledStats = getLimitedDataForPortfolio(historicalWeights,\\\n",
    "                                    historicalPredictions, modelsUsed, factorToTrade, joinedData)\n",
    "            print(scaledStats)\n",
    "            if scaledStats[\"sharpe difference\"] < 0.0 or scaledStats[\"annualizedReturn\"] < scaledStats[\"annualizedVolatility\"]:\n",
    "                return None, None\n",
    "    trainStats = getLimitedDataForPortfolio(historicalWeights[:-252], \\\n",
    "                                              historicalPredictions, modelsUsed, factorToTrade, joinedData)\n",
    "    testStats = getLimitedDataForPortfolio(historicalWeights[-252:], \\\n",
    "                                              historicalPredictions, modelsUsed, factorToTrade, joinedData)\n",
    "    \n",
    "    if trainStats[\"sharpe difference\"] > 0.0 and trainStats[\"annualizedReturn\"] > trainStats[\"annualizedVolatility\"]:\n",
    "        print(trainStats, testStats)\n",
    "        storeDiscoveredPortfolio(modelsUsed, portfolioType, factorToTrade, trainStats, testStats)\n",
    "    else:\n",
    "        print(\"FAILED\", trainStats)\n",
    "    "
   ]
  },
  {
   "cell_type": "code",
   "execution_count": 19,
   "metadata": {
    "collapsed": true
   },
   "outputs": [],
   "source": [
    "## MP RUN  \n",
    "types = [\"HRP BINARY\"]#[\"EW\", \"HRP WINDOW\", \"HRP FULL\", \"EW By Ticker\"]\n",
    "def createPossiblePortfoliosMP(cleanedPredictions, cleanedReturns, hashToModel, joinedData, threadsToUse):\n",
    "    mpEngine = mp.get_context('fork')\n",
    "        \n",
    "    runningP = []\n",
    "    while True:\n",
    "        selectedAlgorithms = returnSelectAlgos(cleanedReturns.columns)\n",
    "        factorToTrade = \"VTI\"#hashToModel[selectedAlgorithms[random.randint(0, len(selectedAlgorithms) - 1)]].targetTicker\n",
    "        \n",
    "        while len(runningP) > threadsToUse:\n",
    "            runningP = dataAck.cycleP(runningP)\n",
    "            \n",
    "        portfolioType = types[random.randint(0, len(types) - 1)]\n",
    "        print(factorToTrade, len(selectedAlgorithms), portfolioType)\n",
    "        \n",
    "        p = mpEngine.Process(target=performPortfolioPerformanceEstimation, args=(cleanedPredictions[selectedAlgorithms],\\\n",
    "                    cleanedReturns[selectedAlgorithms], factorToTrade, portfolioType, hashToModel, joinedData))\n",
    "        p.start()\n",
    "        runningP.append(p)\n",
    "\n",
    "# In[ ]:\n"
   ]
  },
  {
   "cell_type": "code",
   "execution_count": 22,
   "metadata": {
    "collapsed": false
   },
   "outputs": [
    {
     "name": "stdout",
     "output_type": "stream",
     "text": [
      "STARTING GENERATION\n",
      "IYF 14 HRP BINARY\n",
      "XBI 0.272927527544\n",
      "XBI 0.272927527544\n",
      "XBI 0.272927527544\n",
      "IYF 0.236790658377\n",
      "SOXX 0.265006720507\n",
      "IYR 0.217962521017\n",
      "IYR 0.217962521017\n",
      "IYR 0.217962521017\n",
      "KBE 0.196292548755\n",
      "SOXX 0.265006720507\n",
      "KRE 0.199429504483\n",
      "QQQ 0.319337266841\n",
      "XBI 0.272927527544\n",
      "IBB 0.31019458523\n",
      "{'benchmark': 'IYF', 'alpha': 0.21856617577021195, 'beta': 0.23679065837719213, 'sharpe difference': 0.8927604191022015, 'annualizedReturn': 0.18453567276296812, 'annualizedVolatility': 0.15953085244966778, 'sharpe': 1.1414945775750776, 'free return': 0.025004820313300341}\n",
      "FAILED: 1213\n"
     ]
    },
    {
     "ename": "KeyboardInterrupt",
     "evalue": "",
     "output_type": "error",
     "traceback": [
      "\u001b[0;31m---------------------------------------------------------------------------\u001b[0m",
      "\u001b[0;31mKeyboardInterrupt\u001b[0m                         Traceback (most recent call last)",
      "\u001b[0;32m<ipython-input-22-e23ee5a60b61>\u001b[0m in \u001b[0;36m<module>\u001b[0;34m()\u001b[0m\n\u001b[1;32m      2\u001b[0m \u001b[0;34m\u001b[0m\u001b[0m\n\u001b[1;32m      3\u001b[0m \u001b[0;31m##REMOVE BREAK TO DO FULL AUTO\u001b[0m\u001b[0;34m\u001b[0m\u001b[0;34m\u001b[0m\u001b[0m\n\u001b[0;32m----> 4\u001b[0;31m \u001b[0mcreatePossiblePortfoliosMP\u001b[0m\u001b[0;34m(\u001b[0m\u001b[0mcleanedPredictions\u001b[0m\u001b[0;34m,\u001b[0m \u001b[0mcleanedReturns\u001b[0m\u001b[0;34m,\u001b[0m \u001b[0mhashToModel\u001b[0m\u001b[0;34m,\u001b[0m \u001b[0mjoinedData\u001b[0m\u001b[0;34m,\u001b[0m \u001b[0mthreadsToUse\u001b[0m\u001b[0;34m=\u001b[0m\u001b[0;36m0\u001b[0m\u001b[0;34m)\u001b[0m\u001b[0;34m\u001b[0m\u001b[0m\n\u001b[0m",
      "\u001b[0;32m<ipython-input-19-9006ee4516c4>\u001b[0m in \u001b[0;36mcreatePossiblePortfoliosMP\u001b[0;34m(cleanedPredictions, cleanedReturns, hashToModel, joinedData, threadsToUse)\u001b[0m\n\u001b[1;32m     10\u001b[0m \u001b[0;34m\u001b[0m\u001b[0m\n\u001b[1;32m     11\u001b[0m         \u001b[0;32mwhile\u001b[0m \u001b[0mlen\u001b[0m\u001b[0;34m(\u001b[0m\u001b[0mrunningP\u001b[0m\u001b[0;34m)\u001b[0m \u001b[0;34m>\u001b[0m \u001b[0mthreadsToUse\u001b[0m\u001b[0;34m:\u001b[0m\u001b[0;34m\u001b[0m\u001b[0m\n\u001b[0;32m---> 12\u001b[0;31m             \u001b[0mrunningP\u001b[0m \u001b[0;34m=\u001b[0m \u001b[0mdataAck\u001b[0m\u001b[0;34m.\u001b[0m\u001b[0mcycleP\u001b[0m\u001b[0;34m(\u001b[0m\u001b[0mrunningP\u001b[0m\u001b[0;34m)\u001b[0m\u001b[0;34m\u001b[0m\u001b[0m\n\u001b[0m\u001b[1;32m     13\u001b[0m \u001b[0;34m\u001b[0m\u001b[0m\n\u001b[1;32m     14\u001b[0m         \u001b[0mportfolioType\u001b[0m \u001b[0;34m=\u001b[0m \u001b[0mtypes\u001b[0m\u001b[0;34m[\u001b[0m\u001b[0mrandom\u001b[0m\u001b[0;34m.\u001b[0m\u001b[0mrandint\u001b[0m\u001b[0;34m(\u001b[0m\u001b[0;36m0\u001b[0m\u001b[0;34m,\u001b[0m \u001b[0mlen\u001b[0m\u001b[0;34m(\u001b[0m\u001b[0mtypes\u001b[0m\u001b[0;34m)\u001b[0m \u001b[0;34m-\u001b[0m \u001b[0;36m1\u001b[0m\u001b[0;34m)\u001b[0m\u001b[0;34m]\u001b[0m\u001b[0;34m\u001b[0m\u001b[0m\n",
      "\u001b[0;32m/Users/patrickogrady/Documents/CODE/walkforwardTrader/dataAck.py\u001b[0m in \u001b[0;36mcycleP\u001b[0;34m(runningProcesses)\u001b[0m\n\u001b[1;32m     32\u001b[0m     \u001b[0mnewP\u001b[0m \u001b[0;34m=\u001b[0m \u001b[0;34m[\u001b[0m\u001b[0;34m]\u001b[0m\u001b[0;34m\u001b[0m\u001b[0m\n\u001b[1;32m     33\u001b[0m     \u001b[0;32mfor\u001b[0m \u001b[0mp\u001b[0m \u001b[0;32min\u001b[0m \u001b[0mrunningProcesses\u001b[0m\u001b[0;34m:\u001b[0m\u001b[0;34m\u001b[0m\u001b[0m\n\u001b[0;32m---> 34\u001b[0;31m         \u001b[0;32mif\u001b[0m \u001b[0mp\u001b[0m\u001b[0;34m.\u001b[0m\u001b[0mis_alive\u001b[0m\u001b[0;34m(\u001b[0m\u001b[0;34m)\u001b[0m \u001b[0;34m==\u001b[0m \u001b[0;32mTrue\u001b[0m\u001b[0;34m:\u001b[0m\u001b[0;34m\u001b[0m\u001b[0m\n\u001b[0m\u001b[1;32m     35\u001b[0m             \u001b[0mnewP\u001b[0m\u001b[0;34m.\u001b[0m\u001b[0mappend\u001b[0m\u001b[0;34m(\u001b[0m\u001b[0mp\u001b[0m\u001b[0;34m)\u001b[0m\u001b[0;34m\u001b[0m\u001b[0m\n\u001b[1;32m     36\u001b[0m         \u001b[0;32melse\u001b[0m\u001b[0;34m:\u001b[0m\u001b[0;34m\u001b[0m\u001b[0m\n",
      "\u001b[0;32m/Users/patrickogrady/anaconda3/lib/python3.6/multiprocessing/process.py\u001b[0m in \u001b[0;36mis_alive\u001b[0;34m(self)\u001b[0m\n\u001b[1;32m    132\u001b[0m         \u001b[0;32mif\u001b[0m \u001b[0mself\u001b[0m\u001b[0;34m.\u001b[0m\u001b[0m_popen\u001b[0m \u001b[0;32mis\u001b[0m \u001b[0;32mNone\u001b[0m\u001b[0;34m:\u001b[0m\u001b[0;34m\u001b[0m\u001b[0m\n\u001b[1;32m    133\u001b[0m             \u001b[0;32mreturn\u001b[0m \u001b[0;32mFalse\u001b[0m\u001b[0;34m\u001b[0m\u001b[0m\n\u001b[0;32m--> 134\u001b[0;31m         \u001b[0mself\u001b[0m\u001b[0;34m.\u001b[0m\u001b[0m_popen\u001b[0m\u001b[0;34m.\u001b[0m\u001b[0mpoll\u001b[0m\u001b[0;34m(\u001b[0m\u001b[0;34m)\u001b[0m\u001b[0;34m\u001b[0m\u001b[0m\n\u001b[0m\u001b[1;32m    135\u001b[0m         \u001b[0;32mreturn\u001b[0m \u001b[0mself\u001b[0m\u001b[0;34m.\u001b[0m\u001b[0m_popen\u001b[0m\u001b[0;34m.\u001b[0m\u001b[0mreturncode\u001b[0m \u001b[0;32mis\u001b[0m \u001b[0;32mNone\u001b[0m\u001b[0;34m\u001b[0m\u001b[0m\n\u001b[1;32m    136\u001b[0m \u001b[0;34m\u001b[0m\u001b[0m\n",
      "\u001b[0;32m/Users/patrickogrady/anaconda3/lib/python3.6/multiprocessing/popen_fork.py\u001b[0m in \u001b[0;36mpoll\u001b[0;34m(self, flag)\u001b[0m\n\u001b[1;32m     23\u001b[0m         \u001b[0;32mreturn\u001b[0m \u001b[0mfd\u001b[0m\u001b[0;34m\u001b[0m\u001b[0m\n\u001b[1;32m     24\u001b[0m \u001b[0;34m\u001b[0m\u001b[0m\n\u001b[0;32m---> 25\u001b[0;31m     \u001b[0;32mdef\u001b[0m \u001b[0mpoll\u001b[0m\u001b[0;34m(\u001b[0m\u001b[0mself\u001b[0m\u001b[0;34m,\u001b[0m \u001b[0mflag\u001b[0m\u001b[0;34m=\u001b[0m\u001b[0mos\u001b[0m\u001b[0;34m.\u001b[0m\u001b[0mWNOHANG\u001b[0m\u001b[0;34m)\u001b[0m\u001b[0;34m:\u001b[0m\u001b[0;34m\u001b[0m\u001b[0m\n\u001b[0m\u001b[1;32m     26\u001b[0m         \u001b[0;32mif\u001b[0m \u001b[0mself\u001b[0m\u001b[0;34m.\u001b[0m\u001b[0mreturncode\u001b[0m \u001b[0;32mis\u001b[0m \u001b[0;32mNone\u001b[0m\u001b[0;34m:\u001b[0m\u001b[0;34m\u001b[0m\u001b[0m\n\u001b[1;32m     27\u001b[0m             \u001b[0;32mwhile\u001b[0m \u001b[0;32mTrue\u001b[0m\u001b[0;34m:\u001b[0m\u001b[0;34m\u001b[0m\u001b[0m\n",
      "\u001b[0;31mKeyboardInterrupt\u001b[0m: "
     ]
    }
   ],
   "source": [
    "print(\"STARTING GENERATION\")\n",
    "\n",
    "##REMOVE BREAK TO DO FULL AUTO\n",
    "createPossiblePortfoliosMP(cleanedPredictions, cleanedReturns, hashToModel, joinedData, threadsToUse=0)"
   ]
  },
  {
   "cell_type": "code",
   "execution_count": null,
   "metadata": {
    "collapsed": true
   },
   "outputs": [],
   "source": []
  }
 ],
 "metadata": {
  "kernelspec": {
   "display_name": "Python 3",
   "language": "python",
   "name": "python3"
  },
  "language_info": {
   "codemirror_mode": {
    "name": "ipython",
    "version": 3
   },
   "file_extension": ".py",
   "mimetype": "text/x-python",
   "name": "python",
   "nbconvert_exporter": "python",
   "pygments_lexer": "ipython3",
   "version": "3.6.0"
  }
 },
 "nbformat": 4,
 "nbformat_minor": 2
}
