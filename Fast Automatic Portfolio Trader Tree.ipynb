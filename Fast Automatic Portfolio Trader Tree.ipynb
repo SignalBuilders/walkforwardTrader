{
 "cells": [
  {
   "cell_type": "code",
   "execution_count": 1,
   "metadata": {
    "collapsed": true
   },
   "outputs": [],
   "source": [
    "import params\n",
    "from google.cloud import datastore, storage, logging\n",
    "import time\n",
    "import pickle\n",
    "import hashlib\n",
    "import sys\n",
    "import numpy as np\n",
    "import portfolioGeneration\n",
    "import portfolio\n",
    "import dataAck\n",
    "import warnings\n",
    "import numpy as np\n",
    "import pandas as pd\n",
    "warnings.filterwarnings(\"ignore\")\n",
    "import multiprocessing as mp \n",
    "import autoPortfolioTree\n",
    "import curveTreeDB\n",
    "import portfolio"
   ]
  },
  {
   "cell_type": "code",
   "execution_count": 141,
   "metadata": {
    "collapsed": false,
    "scrolled": false
   },
   "outputs": [
    {
     "name": "stdout",
     "output_type": "stream",
     "text": [
      "SMH a1a918b5b238537e1ef42455652f04a2d9586f8bfa0a28e852be4d23 0.7624352491212067 0.028445511456217876 0.436142582900723\n",
      "KBE 9016b9e865e0585a8d6f29fad6700010897307e7ae38acd069b7427b 0.7417734388757505 0.12921447773009354 0.21715084053760447\n",
      "KBE e0f24d9c117d94a504a26f2cc8de6e34099b78d75e9b8a79f0596748 0.7093481206397568 0.14355824495522684 0.11842070566901326\n",
      "EWY 009e190789f632aa9df114a7e4d6e6dadfe8e69cd50f13a7bc2f7672 0.8647789208041518 0.15949649045643088 0.4399641766475613\n",
      "SLV 15bceada618bfb11879bdc724eef33dcd350617ff8930e6c8b9da2e2 0.8452414124117282 0.3578646368260958 0.1983039566450171\n",
      "XOP 1bf1ff0268474e21f2fa9873df1606bf6dbe390bbb149ba1c621c3ef 0.8067939660315397 0.5288099446247327 0.13683719124212754\n",
      "XOP 05ffc8a72f0be314fcdfb3bc95c137d9aae2adc4c779c91fe97ccd6d 0.7055614964184781 0.5611473776681195 0.12946302053546338\n",
      "SLV 3ae9aa36b51d0a528b582363e2a5eb4093f081bcf0039483eb999978 1.0704517504223032 0.6576323869746924 0.17282565453178658\n",
      "OIH d6437661b905b27d128be345c4aacd7ee87b215c9e5add357227c7cc 0.8115870016432039 0.6588587928283158 0.09162167880382942\n",
      "XME e55503fe844693273f03ab274f8d1f7ba9c6ec210029cb24c6975805 0.7537691088867627 0.713909462106028 0.08600481388588582\n",
      "SLV e2dff2019a9096078ca6b86a7378eec6b6897a14aca6a1e6e820c5bb 1.327475495367598 0.8307339791893338 0.16644804547137\n"
     ]
    }
   ],
   "source": [
    "dataObjs = curveTreeDB.getValidModels(params.treeModels, returnEntireObject=True)\n",
    "allModels = []\n",
    "tickersSeen = []\n",
    "for item in dataObjs:\n",
    "    if item[\"IS_SHARPE SLIPPAGE\"] > 0.7:\n",
    "        model = item[\"model\"]\n",
    "        if model.numberOfPredictors() > 6:\n",
    "            print(model.targetTicker, model.getHash(), item[\"IS_SHARPE SLIPPAGE\"], item[\"IS_SHARPE DIFFERENCE SLIPPAGE\"], item[\"IS_BETA\"])\n",
    "            allModels.append(model)\n",
    "            if model.targetTicker not in tickersSeen:\n",
    "                tickersSeen.append(model.targetTicker)\n",
    "        "
   ]
  },
  {
   "cell_type": "code",
   "execution_count": 142,
   "metadata": {
    "collapsed": false
   },
   "outputs": [
    {
     "data": {
      "text/plain": [
       "11"
      ]
     },
     "execution_count": 142,
     "metadata": {},
     "output_type": "execute_result"
    }
   ],
   "source": [
    "len(allModels)"
   ]
  },
  {
   "cell_type": "code",
   "execution_count": 143,
   "metadata": {
    "collapsed": false
   },
   "outputs": [
    {
     "data": {
      "text/plain": [
       "['SMH', 'KBE', 'EWY', 'SLV', 'XOP', 'OIH', 'XME']"
      ]
     },
     "execution_count": 143,
     "metadata": {},
     "output_type": "execute_result"
    }
   ],
   "source": [
    "tickersSeen"
   ]
  },
  {
   "cell_type": "code",
   "execution_count": 113,
   "metadata": {
    "collapsed": false
   },
   "outputs": [
    {
     "data": {
      "text/plain": [
       "'XME'"
      ]
     },
     "execution_count": 113,
     "metadata": {},
     "output_type": "execute_result"
    }
   ],
   "source": [
    "import random\n",
    "factorToTrade = tickersSeen[random.randint(0, len(tickersSeen) - 1)]\n",
    "factorToTrade"
   ]
  },
  {
   "cell_type": "code",
   "execution_count": 114,
   "metadata": {
    "collapsed": false,
    "scrolled": true
   },
   "outputs": [
    {
     "name": "stdout",
     "output_type": "stream",
     "text": [
      "['KBE', 'EWY', 'SLV', 'XOP', 'OIH', 'XME']\n",
      "KBE\n",
      "SLV\n",
      "XME\n",
      "XOP\n",
      "OIH\n",
      "EWY\n",
      "ATTEMPTING PULL 9016b9e865e0585a8d6f29fad6700010897307e7ae38acd069b7427b\n",
      "((((('VO', 10, None, None, 2), 'KBE', 22, 5, 1.5, 0.1, 10), (('SSO', 30, None, None, 2), 'KBE', 10, 5, 0.5, 0.1, 10), 5, 'OR'), ((('VWO', 40, None, None, 4), 'KBE', 10, 5, 0.3, 0.01, 10), (('VUG', 8, None, None, 3), 'KBE', 10, 5, 0.7, 0.01, 10), 5, 'AND'), 5, 'OR'), ((('ILF', 7, 5, None, 4), 'KBE', 44, 5, 2.0, 0.1, 10), ((('DIA', 6, 18, None, 2), 'KBE', 10, 5, 0.7, 0.2, 10), (('IJH', 7, 17, 5, 4), 'KBE', 22, 5, 1.5, 0.01, 10), 5, 'OR'), 5, 'AND'), 5, 'OR')\n",
      "ATTEMPTING PULL e0f24d9c117d94a504a26f2cc8de6e34099b78d75e9b8a79f0596748\n",
      "((((('EWG', 23, 3, None, 4), 'KBE', 5, 5, 0.5, 0.01, 10), (('IAU', 27, 19, None, 4), 'KBE', 22, 5, 1.0, 0.05, 10), 5, 'AND'), ((('VO', 10, None, None, 2), 'KBE', 22, 5, 1.5, 0.1, 10), (('SSO', 30, None, None, 2), 'KBE', 10, 5, 0.5, 0.1, 10), 5, 'OR'), 5, 'OR'), (((('SSO', 30, None, None, 2), 'KBE', 10, 5, 0.7, 0.01, 10), (('XLP', 30, 14, 12, 5), 'KBE', 22, 5, 1.5, 0.01, 10), 5, 'OR'), ((('SOXX', 18, None, 21, 5), 'KBE', 22, 5, 2.0, 0.05, 10), (('IWR', 26, None, None, 4), 'KBE', 10, 5, 0.3, 0.01, 10), 5, 'AND'), 5, 'OR'), 5, 'AND')\n",
      "ATTEMPTING PULL 009e190789f632aa9df114a7e4d6e6dadfe8e69cd50f13a7bc2f7672\n",
      "((((('KBE', 37, 16, 19, 1), 'EWY', 22, 3, 0.7, 0.05, 10), (('EWH', 22, None, None, 4), 'EWY', 10, 3, 1.0, 0.05, 10), 3, 'OR'), ((('IAU', 2, 13, 7, 3), 'EWY', 5, 3, 0.3, 0.1, 10), (('IJH', 13, None, 5, 3), 'EWY', 44, 3, 2.0, 0.05, 10), 3, 'OR'), 3, 'OR'), (((('XLF', 19, 7, None, 2), 'EWY', 10, 3, 0.7, 0.05, 10), (('SDY', 39, None, None, 5), 'EWY', 10, 3, 0.3, 0.05, 10), 3, 'OR'), ((('EWY', 29, 6, None, 5), 'EWY', 10, 3, 0.5, 0.1, 10), (('VWO', 42, 10, 12, 1), 'EWY', 22, 3, 1.5, 0.1, 10), 3, 'OR'), 3, 'AND'), 3, 'OR')\n",
      "ATTEMPTING PULL 15bceada618bfb11879bdc724eef33dcd350617ff8930e6c8b9da2e2\n",
      "((((('VFH', 8, None, None, 4), 'SLV', 10, 2, 1.0, 0.05, 10), ((('TIP', 14, None, None, 4), 'SLV', 5, 2, 0.5, 0.1, 10), (('XLE', 24, None, None, 5), 'SLV', 44, 2, 2.0, 0.1, 10), 2, 'OR'), 2, 'AND'), ((('XLY', 14, 7, None, 1), 'SLV', 10, 2, 0.7, 0.01, 10), (('XBI', 39, None, None, 3), 'SLV', 10, 2, 0.7, 0.01, 10), 2, 'OR'), 2, 'OR'), (((('IJR', 26, None, None, 1), 'SLV', 5, 2, 0.5, 0.01, 10), (('XLI', 3, None, 22, 5), 'SLV', 10, 2, 0.5, 0.1, 10), 2, 'AND'), ((('XLU', 6, 5, 18, 5), 'SLV', 10, 2, 0.5, 0.05, 10), (('VUG', 41, None, None, 5), 'SLV', 10, 2, 0.3, 0.01, 10), 2, 'AND'), 2, 'OR'), 2, 'AND')\n",
      "ATTEMPTING PULL 1bf1ff0268474e21f2fa9873df1606bf6dbe390bbb149ba1c621c3ef\n",
      "(((('TLT', 30, None, None, 1), 'XOP', 10, 5, 0.7, 0.01, 10), (('SLV', 28, 16, 18, 1), 'XOP', 10, 5, 0.7, 0.1, 10), 5, 'AND'), ((((('SDY', 20, None, 9, 2), 'XOP', 44, 5, 2.0, 0.1, 10), (('XLP', 31, None, None, 5), 'XOP', 10, 5, 0.3, 0.2, 10), 5, 'OR'), ((('XLY', 27, None, 11, 2), 'XOP', 22, 5, 2.0, 0.1, 10), (('KBE', 5, None, 20, 4), 'XOP', 10, 5, 1.0, 0.01, 10), 5, 'OR'), 5, 'AND'), ((('GDX', 31, None, None, 1), 'XOP', 5, 5, 1.0, 0.01, 10), (('XRT', 25, None, None, 5), 'XOP', 22, 5, 0.7, 0.1, 10), 5, 'OR'), 5, 'AND'), 5, 'OR')\n",
      "ATTEMPTING PULL 05ffc8a72f0be314fcdfb3bc95c137d9aae2adc4c779c91fe97ccd6d\n",
      "(((('SDY', 32, 21, 22, 5), 'XOP', 10, 2, 0.7, 0.05, 10), ((('SMH', 21, None, 21, 3), 'XOP', 5, 2, 0.5, 0.05, 10), (('XLV', 13, None, None, 3), 'XOP', 10, 2, 1.0, 0.01, 10), 2, 'OR'), 2, 'AND'), (((('XLU', 28, 5, None, 1), 'XOP', 44, 2, 2.0, 0.05, 10), (('SH', 11, None, None, 5), 'XOP', 10, 2, 0.3, 0.05, 10), 2, 'OR'), ((('FEZ', 18, 3, None, 5), 'XOP', 5, 2, 0.3, 0.01, 10), (('TLT', 30, None, None, 1), 'XOP', 22, 2, 2.0, 0.05, 10), 2, 'OR'), 2, 'OR'), 2, 'AND')\n",
      "ATTEMPTING PULL 3ae9aa36b51d0a528b582363e2a5eb4093f081bcf0039483eb999978\n",
      "((((('EWJ', 3, 16, None, 4), 'SLV', 44, 2, 2.0, 0.1, 10), (('KRE', 15, None, 16, 5), 'SLV', 22, 2, 1.5, 0.1, 10), 2, 'OR'), (((('IYT', 24, 13, 18, 1), 'SLV', 10, 2, 0.7, 0.1, 10), (('XME', 15, 13, None, 2), 'SLV', 22, 2, 2.0, 0.05, 10), 2, 'OR'), ((('EWU', 25, None, 11, 4), 'SLV', 10, 2, 0.3, 0.01, 10), (('EWW', 31, None, None, 3), 'SLV', 5, 2, 0.3, 0.05, 10), 2, 'OR'), 2, 'AND'), 2, 'OR'), (((('KRE', 10, 11, 9, 4), 'SLV', 22, 2, 0.7, 0.05, 10), (('IJH', 6, 9, 5, 3), 'SLV', 5, 2, 0.5, 0.05, 10), 2, 'AND'), ((('XLU', 6, 5, 18, 5), 'SLV', 10, 2, 0.5, 0.05, 10), (('VUG', 41, None, None, 5), 'SLV', 10, 2, 0.3, 0.01, 10), 2, 'AND'), 2, 'OR'), 2, 'AND')\n",
      "ATTEMPTING PULL d6437661b905b27d128be345c4aacd7ee87b215c9e5add357227c7cc\n",
      "((((('VB', 19, None, 8, 4), 'OIH', 10, 5, 0.3, 0.1, 10), (('SH', 32, None, 8, 4), 'OIH', 44, 5, 2.0, 0.01, 10), 5, 'OR'), ((('EWT', 26, None, 20, 5), 'OIH', 5, 5, 0.3, 0.1, 10), (('XLF', 1, 16, 20, 5), 'OIH', 22, 5, 0.7, 0.01, 10), 5, 'OR'), 5, 'OR'), (((('IYR', 40, None, None, 2), 'OIH', 5, 5, 0.3, 0.05, 10), (('SDS', 23, None, None, 5), 'OIH', 22, 5, 1.5, 0.05, 10), 5, 'AND'), ((('GDX', 4, 7, 17, 3), 'OIH', 44, 5, 2.0, 0.1, 10), (('IWR', 38, None, 5, 5), 'OIH', 10, 5, 0.3, 0.01, 10), 5, 'AND'), 5, 'OR'), 5, 'AND')\n",
      "ATTEMPTING PULL e55503fe844693273f03ab274f8d1f7ba9c6ec210029cb24c6975805\n",
      "((((('XLK', 27, None, 9, 4), 'XME', 5, 5, 1.0, 0.01, 10), (('VGT', 10, 6, None, 4), 'XME', 10, 5, 2.0, 0.05, 10), 5, 'OR'), ((('AGG', 13, 10, None, 1), 'XME', 10, 5, 0.7, 0.01, 10), (('VGK', 43, None, None, 3), 'XME', 10, 5, 1.5, 0.1, 10), 5, 'OR'), 5, 'AND'), (((('VGK', 43, None, None, 3), 'XME', 44, 5, 2.0, 0.05, 10), (('EWU', 38, None, None, 1), 'XME', 10, 5, 1.0, 0.1, 10), 5, 'OR'), ((('IEF', 4, 6, 18, 4), 'XME', 22, 5, 1.0, 0.01, 10), (('XLV', 3, 20, None, 2), 'XME', 44, 5, 1.5, 0.01, 10), 5, 'OR'), 5, 'OR'), 5, 'AND')\n",
      "ATTEMPTING PULL e2dff2019a9096078ca6b86a7378eec6b6897a14aca6a1e6e820c5bb\n",
      "((((('IJR', 26, None, None, 1), 'SLV', 5, 2, 0.5, 0.01, 10), (('XLI', 3, None, 22, 5), 'SLV', 10, 2, 0.5, 0.1, 10), 2, 'AND'), ((('XLU', 6, 5, 18, 5), 'SLV', 10, 2, 0.5, 0.05, 10), (('VUG', 41, None, None, 5), 'SLV', 10, 2, 0.3, 0.01, 10), 2, 'AND'), 2, 'OR'), (((('EWJ', 3, 16, None, 4), 'SLV', 44, 2, 2.0, 0.1, 10), (('KRE', 15, None, 16, 5), 'SLV', 22, 2, 1.5, 0.1, 10), 2, 'OR'), (((('IYT', 24, 13, 18, 1), 'SLV', 10, 2, 0.7, 0.1, 10), (('XME', 15, 13, None, 2), 'SLV', 22, 2, 2.0, 0.05, 10), 2, 'OR'), ((('EWU', 25, None, 11, 4), 'SLV', 10, 2, 0.3, 0.01, 10), (('EWW', 31, None, None, 3), 'SLV', 5, 2, 0.3, 0.05, 10), 2, 'OR'), 2, 'AND'), 2, 'OR'), 2, 'AND')\n"
     ]
    }
   ],
   "source": [
    "uniqueModels, modelReturns, modelPredictions, modelSlippageReturns, modelReturnsWithFactor, joinedData = autoPortfolioTree.computeReturnsForUniqueModelsCache(allModels, factorToTrade)\n"
   ]
  },
  {
   "cell_type": "code",
   "execution_count": 115,
   "metadata": {
    "collapsed": true
   },
   "outputs": [],
   "source": [
    "cleanedReturns = modelReturns.dropna()\n",
    "cleanedReturns.columns = [item.getHash() for item in uniqueModels]\n",
    "\n",
    "cleanedPredictions = modelPredictions.dropna()\n",
    "cleanedPredictions.columns = [item.getHash() for item in uniqueModels]\n",
    "hashToModel = {}\n",
    "for item in uniqueModels:\n",
    "    hashToModel[item.getHash()] = item"
   ]
  },
  {
   "cell_type": "code",
   "execution_count": 116,
   "metadata": {
    "collapsed": false
   },
   "outputs": [],
   "source": [
    "def historicalWeightsToTickerAllocations(historicalWeights, algorithmPredictions, modelsInPortfolio):\n",
    "    aggregatePredictions = algorithmPredictions.dropna()\n",
    "    allocationsToStore = []\n",
    "    historicalAllocations = None\n",
    "    scaledHistoricalAllocations = None\n",
    "    ##ITERATE THROUGH DAYS TO CALCULATE NET POSITION\n",
    "    for i in range(len(historicalWeights)):\n",
    "        netPosition = {}\n",
    "        weights = historicalWeights.iloc[i]\n",
    "        for model in modelsInPortfolio:\n",
    "            if model.targetTicker not in netPosition:\n",
    "                netPosition[model.targetTicker] = 0.0\n",
    "            try:\n",
    "                aggregatePredictions.loc[historicalWeights.index[i]]\n",
    "            except:\n",
    "                continue\n",
    "            \n",
    "            netPosition[model.targetTicker] += weights[model.getHash()] * aggregatePredictions.loc[historicalWeights.index[i]][model.getHash()]\n",
    "        thisDf = pd.DataFrame([netPosition], index=[historicalWeights.index[i]])\n",
    "        if historicalAllocations is None:\n",
    "            historicalAllocations = thisDf\n",
    "        else:\n",
    "            historicalAllocations = pd.concat([historicalAllocations, thisDf])\n",
    "        \n",
    "        totalCapitalUsed = sum([abs(netPosition[ticker]) for ticker in netPosition])\n",
    "        scaledNetPosition = {}\n",
    "        for ticker in netPosition:\n",
    "            scaledNetPosition[ticker] = netPosition[ticker] * 1.0/totalCapitalUsed\n",
    "        \n",
    "        thisDf = pd.DataFrame([scaledNetPosition], index=[historicalWeights.index[i]])\n",
    "        if scaledHistoricalAllocations is None:\n",
    "            scaledHistoricalAllocations = thisDf\n",
    "        else:\n",
    "            scaledHistoricalAllocations = pd.concat([scaledHistoricalAllocations, thisDf])\n",
    "    \n",
    "    return historicalAllocations, scaledHistoricalAllocations\n",
    "            \n",
    "            "
   ]
  },
  {
   "cell_type": "code",
   "execution_count": 133,
   "metadata": {
    "collapsed": false
   },
   "outputs": [],
   "source": [
    "import empyrical\n",
    "def getLimitedDataForPortfolio(historicalWeights, historicalPredictions, modelsUsed, factorToTrade, joinedData):\n",
    "    \n",
    "    normalTickerAllocationsTable, scaledTickerAllocationsTable = historicalWeightsToTickerAllocations(historicalWeights, historicalPredictions, modelsUsed)\n",
    "    \n",
    "    tickerAllocationsTable = scaledTickerAllocationsTable\n",
    "    rawTickerPerformance = portfolioGeneration.calculatePerformanceForTable(tickerAllocationsTable, tickerAllocationsTable.columns, joinedData)\n",
    "\n",
    "    rawAlgoPerformance = pd.DataFrame(rawTickerPerformance.apply(lambda x:sum(x), axis=1), columns=[\"Algo Return Without Commissions\"])\n",
    "\n",
    "    tickerPerformance, algoPerformance, algoTransactionCost =  portfolioGeneration.calculatePerformanceForAllocations(tickerAllocationsTable, joinedData)\n",
    "\n",
    "    benchmark = factorToTrade\n",
    "    factorReturn = dataAck.getDailyFactorReturn(benchmark, joinedData)\n",
    "    factorReturn.columns = [\"Factor Return (\" + benchmark + \")\"]\n",
    "    algoPerformance.columns = [\"Algo Return\"]\n",
    "    \n",
    "    tickersUsed = []\n",
    "    for mod in modelsUsed:\n",
    "        tickersUsed.append(mod.targetTicker)\n",
    "    \n",
    "    for ticker in tickersUsed:\n",
    "        thisFactorReturn = dataAck.getDailyFactorReturn(ticker, joinedData)\n",
    "        thisFactorReturn.columns = [\"Factor Return (\" + ticker + \")\"]\n",
    "        alpha, beta = empyrical.alpha_beta(algoPerformance, thisFactorReturn)\n",
    "        print(ticker, beta)\n",
    "\n",
    "    alpha, beta = empyrical.alpha_beta(algoPerformance, factorReturn)\n",
    "    sharpe_difference = empyrical.sharpe_ratio(algoPerformance) - empyrical.sharpe_ratio(factorReturn)\n",
    "    annualizedReturn = empyrical.annual_return(algoPerformance)[0]\n",
    "    annualizedVolatility = empyrical.annual_volatility(algoPerformance)\n",
    "    \n",
    "    ##AUTOMATICALLY TAKES SLIPPAGE INTO ACCOUNT\n",
    "    return {\n",
    "        \"benchmark\":factorToTrade,\n",
    "        \"alpha\":alpha,\n",
    "        \"beta\":beta,\n",
    "        \"sharpe difference\":sharpe_difference,\n",
    "        \"annualizedReturn\":annualizedReturn,\n",
    "        \"annualizedVolatility\":annualizedVolatility,\n",
    "        \"sharpe\":empyrical.sharpe_ratio(algoPerformance),\n",
    "        \"free return\":annualizedReturn - annualizedVolatility\n",
    "    }\n",
    "    \n"
   ]
  },
  {
   "cell_type": "code",
   "execution_count": 134,
   "metadata": {
    "collapsed": true
   },
   "outputs": [],
   "source": [
    "def returnSelectAlgos(algoColumns):\n",
    "    return np.random.choice(algoColumns, size=random.randint(10, len(algoColumns)), replace= False)\n"
   ]
  },
  {
   "cell_type": "code",
   "execution_count": 135,
   "metadata": {
    "collapsed": true
   },
   "outputs": [],
   "source": [
    "import hrpPortfolioOpt as hrp\n",
    "def produceHRPPredictions(aggregateReturns, windowSize, startIndex, maxWindowSize = False):\n",
    "    hrpReturns = pd.DataFrame([])\n",
    "    historicalWeights = pd.DataFrame([])\n",
    "    i = windowSize\n",
    "    if startIndex is not None:\n",
    "        i = startIndex\n",
    "    while i < len(aggregateReturns):\n",
    "        corr = None\n",
    "        cov = None\n",
    "        if maxWindowSize == False:\n",
    "            corr = (aggregateReturns[:i]).corr()\n",
    "            cov = (aggregateReturns[:i]).cov()\n",
    "        else:\n",
    "            corr = (aggregateReturns[i-windowSize:i]).corr()\n",
    "            \n",
    "            cov = (aggregateReturns[i-windowSize:i]).cov()\n",
    "        try:\n",
    "            weights = hrp.getHRP(cov, corr)\n",
    "        #     display(weights)\n",
    "        #     display(aggregateReturns[i+windowSize:i+windowSize+1])\n",
    "            todayReturn = aggregateReturns[i:i+1] * weights\n",
    "        #     display(todayReturn)\n",
    "            sumReturn = pd.DataFrame(todayReturn.apply(lambda x:sum(x), axis=1))\n",
    "            hrpReturns = pd.concat([hrpReturns, sumReturn])\n",
    "            thisWeights = pd.DataFrame([[weights[item] for item in weights.index]], index=sumReturn.index, columns=weights.index.tolist())\n",
    "            historicalWeights = pd.concat([historicalWeights, thisWeights])\n",
    "        except:\n",
    "            print(\"FAILED:\",i)\n",
    "        i += 1\n",
    "    return hrpReturns, historicalWeights"
   ]
  },
  {
   "cell_type": "code",
   "execution_count": 136,
   "metadata": {
    "collapsed": true
   },
   "outputs": [],
   "source": [
    "def storeDiscoveredPortfolio(models, portfolioType, benchmark, IS_DATA, OOS_DATA):\n",
    "    description = \"AUTO GENERATED\"\n",
    "    portfolioType = \"HRP FULL\"\n",
    "    seenTickers = []\n",
    "    \n",
    "    allHashes = []\n",
    "    for model in models:\n",
    "        allHashes.append(model.getHash())\n",
    "        if model.targetTicker not in seenTickers:\n",
    "            seenTickers.append(model.targetTicker)\n",
    "        \n",
    "    ##SORT SO ENSURE SAME PORTFOLIO NOT CREATED TWICE\n",
    "    allHashes = sorted(allHashes)\n",
    "    \n",
    "    portfolioString = str(allHashes) + benchmark + description + portfolioType\n",
    "    portfolioHash = hashlib.sha224(portfolioString.encode('utf-8')).hexdigest()\n",
    "    print(\"PORTFOLIO HASH:\", portfolioHash)\n",
    "    for hashing in allHashes:\n",
    "        print(hashing)\n",
    "        \n",
    "    \n",
    "        ##UPLOAD ORGANISM OBJECT\n",
    "        while True:\n",
    "            try:\n",
    "                toUpload = {\n",
    "                    \"portfolio\":portfolioHash,\n",
    "                    \"model\":hashing\n",
    "                }\n",
    "                datastoreClient = datastore.Client('money-maker-1236')\n",
    "                #HASH DIGEST\n",
    "                key = datastoreClient.key(params.discoveredPortfolioModels, hashlib.sha224(str(hashing + portfolioHash).encode('utf-8')).hexdigest()) #NEED TO HASH TO ENSURE UNDER COUNT\n",
    "                organismToStore = datastore.Entity(key=key)\n",
    "                organismToStore.update(toUpload)\n",
    "                datastoreClient.put(organismToStore)\n",
    "                break\n",
    "            except:\n",
    "                print(\"UPLOAD ERROR:\", str(sys.exc_info()))\n",
    "                time.sleep(10)\n",
    "    \n",
    "    ##STORE PORTFOLIO OBJECT\n",
    "    while True:\n",
    "        try:\n",
    "            toUpload = {\n",
    "                \"description\":description,\n",
    "                \"benchmark\":benchmark,\n",
    "                \"portfolioType\":portfolioType,\n",
    "                \"startedTrading\":curveTreeDB.getToday()\n",
    "            }\n",
    "            \n",
    "            for k in IS_DATA:\n",
    "                toUpload[\"IS_\"+ k] = IS_DATA[k]\n",
    "            \n",
    "            for k in OOS_DATA:\n",
    "                toUpload[\"OOS_\"+ k] = OOS_DATA[k]\n",
    "                \n",
    "            for ticker in seenTickers:\n",
    "                toUpload[ticker] = True\n",
    "            \n",
    "            toUpload[\"TICKERS TRADED\"] = len(seenTickers)\n",
    "            \n",
    "            datastoreClient = datastore.Client('money-maker-1236')\n",
    "            #HASH DIGEST\n",
    "            key = datastoreClient.key(params.discoveredPortfolios, portfolioHash) #NEED TO HASH TO ENSURE UNDER COUNT\n",
    "            organismToStore = datastore.Entity(key=key)\n",
    "            organismToStore.update(toUpload)\n",
    "            datastoreClient.put(organismToStore)\n",
    "            return portfolioHash\n",
    "            break\n",
    "        except:\n",
    "            print(\"UPLOAD ERROR:\", str(sys.exc_info()))\n",
    "            time.sleep(10)"
   ]
  },
  {
   "cell_type": "code",
   "execution_count": 137,
   "metadata": {
    "collapsed": true
   },
   "outputs": [],
   "source": [
    "def getWeightingForAlgos(allModels, columns):\n",
    "    countPerTicker = {}\n",
    "    hashes = {}\n",
    "    for mod in allModels:\n",
    "        hashes[mod.getHash()] = mod.targetTicker\n",
    "        if mod.targetTicker not in countPerTicker:\n",
    "            countPerTicker[mod.targetTicker] = 0.0\n",
    "        countPerTicker[mod.targetTicker] += 1.0\n",
    "    weightsToSend = []\n",
    "    for col in columns:\n",
    "        weightsToSend.append(1.0/countPerTicker[hashes[col]])\n",
    "        \n",
    "    return [item/sum(weightsToSend) for item in weightsToSend]"
   ]
  },
  {
   "cell_type": "code",
   "execution_count": 138,
   "metadata": {
    "collapsed": true
   },
   "outputs": [],
   "source": [
    "def performPortfolioPerformanceEstimation(historicalPredictions, historicalReturns, factorToTrade, portfolioType, hashToModel, joinedData):\n",
    "    returnWindows = [(0, historicalReturns[:450]), (450, historicalReturns)]\n",
    "    historicalWeights = None\n",
    "    for selectedReturns in returnWindows:\n",
    "        startIndex = selectedReturns[0]\n",
    "        returnWindow = selectedReturns[1]\n",
    "        weightsSeen = None\n",
    "        if portfolioType == \"HRP FULL\":\n",
    "            hrpReturns, weightsSeen = produceHRPPredictions(returnWindow,\\\n",
    "                    126, startIndex=max(startIndex, 126), maxWindowSize=False)\n",
    "        elif portfolioType == \"HRP WINDOW\":\n",
    "            hrpReturns, weightsSeen = produceHRPPredictions(returnWindow,\\\n",
    "                    126, startIndex=max(startIndex, 126), maxWindowSize=True)\n",
    "        elif portfolioType == \"EW\":\n",
    "            weightsSeen = pd.DataFrame(returnWindow[startIndex:].apply(lambda x: [1.0/len(x) for item in x], axis=1), columns=returnWindow.columns.values)\n",
    "        elif portfolioType == \"EW By Ticker\":\n",
    "            weightArray = getWeightingForAlgos(allModels, returnWindow.columns)\n",
    "            weightsSeen = pd.DataFrame(returnWindow[startIndex:].apply(lambda x: weightArray, axis=1), columns=returnWindow.columns.values)\n",
    "            \n",
    "        \n",
    "        \n",
    "        if historicalWeights is None:\n",
    "            historicalWeights = weightsSeen\n",
    "        else:\n",
    "            historicalWeights = pd.concat([historicalWeights, weightsSeen])\n",
    "        \n",
    "        modelsUsed = []\n",
    "\n",
    "        tickersSeen = {}\n",
    "\n",
    "        for modelHash in historicalPredictions.columns:\n",
    "            thisModel = hashToModel[modelHash]\n",
    "            modelsUsed.append(thisModel)\n",
    "        if startIndex == 0:\n",
    "            scaledStats = getLimitedDataForPortfolio(historicalWeights,\\\n",
    "                                    historicalPredictions, modelsUsed, factorToTrade, joinedData)\n",
    "            print(scaledStats)\n",
    "            if scaledStats[\"sharpe difference\"] < 0.0 or scaledStats[\"annualizedReturn\"] < scaledStats[\"annualizedVolatility\"]:\n",
    "                return None, None\n",
    "    trainStats = getLimitedDataForPortfolio(historicalWeights[:-252], \\\n",
    "                                              historicalPredictions, modelsUsed, factorToTrade, joinedData)\n",
    "    testStats = getLimitedDataForPortfolio(historicalWeights[-252:], \\\n",
    "                                              historicalPredictions, modelsUsed, factorToTrade, joinedData)\n",
    "    \n",
    "    if trainStats[\"sharpe difference\"] > 0.0 and trainStats[\"annualizedReturn\"] > trainStats[\"annualizedVolatility\"]:\n",
    "        print(trainStats, testStats)\n",
    "        storeDiscoveredPortfolio(modelsUsed, portfolioType, factorToTrade, trainStats, testStats)\n",
    "    else:\n",
    "        print(\"FAILED\", trainStats)\n",
    "    "
   ]
  },
  {
   "cell_type": "code",
   "execution_count": 139,
   "metadata": {
    "collapsed": true
   },
   "outputs": [],
   "source": [
    "## MP RUN  \n",
    "types = [\"EW\", \"HRP WINDOW\", \"HRP FULL\", \"EW By Ticker\"]\n",
    "def createPossiblePortfoliosMP(cleanedPredictions, cleanedReturns, hashToModel, joinedData, threadsToUse):\n",
    "    mpEngine = mp.get_context('fork')\n",
    "        \n",
    "    runningP = []\n",
    "    while True:\n",
    "        selectedAlgorithms = returnSelectAlgos(cleanedReturns.columns)\n",
    "        factorToTrade = hashToModel[selectedAlgorithms[random.randint(0, len(selectedAlgorithms) - 1)]].targetTicker\n",
    "        \n",
    "        while len(runningP) > threadsToUse:\n",
    "            runningP = dataAck.cycleP(runningP)\n",
    "            \n",
    "        portfolioType = types[random.randint(0, len(types) - 1)]\n",
    "        print(factorToTrade, len(selectedAlgorithms), portfolioType)\n",
    "        \n",
    "        p = mpEngine.Process(target=performPortfolioPerformanceEstimation, args=(cleanedPredictions[selectedAlgorithms],\\\n",
    "                    cleanedReturns[selectedAlgorithms], factorToTrade, portfolioType, hashToModel, joinedData))\n",
    "        p.start()\n",
    "        runningP.append(p)\n",
    "\n",
    "# In[ ]:\n"
   ]
  },
  {
   "cell_type": "code",
   "execution_count": 140,
   "metadata": {
    "collapsed": false
   },
   "outputs": [
    {
     "name": "stdout",
     "output_type": "stream",
     "text": [
      "STARTING GENERATION\n",
      "SLV 10 HRP WINDOW\n",
      "XOP 0.393368811819\n",
      "KBE 0.377807894237\n",
      "XOP 0.393368811819\n",
      "SLV 0.32529589118\n",
      "SLV 0.32529589118\n",
      "OIH 0.433162437408\n",
      "XME 0.42453189041\n",
      "SLV 0.32529589118\n",
      "KBE 0.377807894237\n",
      "EWY 0.444444838264\n",
      "{'benchmark': 'SLV', 'alpha': 0.283928255787227, 'beta': 0.32529589118003166, 'sharpe difference': 1.3300614746836528, 'annualizedReturn': 0.43389136503348547, 'annualizedVolatility': 0.2552478387167792, 'sharpe': 1.5399350008521258, 'free return': 0.17864352631670627}\n",
      "XOP 0.3976701324\n",
      "KBE 0.38241628711\n",
      "XOP 0.3976701324\n",
      "SLV 0.316871668514\n",
      "SLV 0.316871668514\n",
      "OIH 0.436103447937\n",
      "XME 0.424220346366\n",
      "SLV 0.316871668514\n",
      "KBE 0.38241628711\n",
      "EWY 0.430568920279\n",
      "XOP 0.385267254856\n",
      "KBE 0.476317216361\n",
      "XOP 0.385267254856\n",
      "SLV 0.270555016094\n",
      "SLV 0.270555016094\n",
      "OIH 0.425040928992\n",
      "XME 0.387968131616\n",
      "SLV 0.270555016094\n",
      "KBE 0.476317216361\n",
      "EWY 0.675242555866\n",
      "{'benchmark': 'SLV', 'alpha': 0.2821223880014777, 'beta': 0.31687166851446885, 'sharpe difference': 1.230325539366393, 'annualizedReturn': 0.38658584030064636, 'annualizedVolatility': 0.24841187996077316, 'sharpe': 1.440199065534866, 'free return': 0.1381739603398732} {'benchmark': 'SLV', 'alpha': -0.26021462531456596, 'beta': 0.27055501609427679, 'sharpe difference': -1.4299699831266908, 'annualizedReturn': -0.23500409809415834, 'annualizedVolatility': 0.20261609804315925, 'sharpe': -1.2200964569582178, 'free return': -0.43762019613731762}\n",
      "PORTFOLIO HASH: 2737f2970ba3b871f435ca556b981b3dc4da926c312f8f428d93675b\n",
      "009e190789f632aa9df114a7e4d6e6dadfe8e69cd50f13a7bc2f7672\n",
      "05ffc8a72f0be314fcdfb3bc95c137d9aae2adc4c779c91fe97ccd6d\n",
      "15bceada618bfb11879bdc724eef33dcd350617ff8930e6c8b9da2e2\n",
      "1bf1ff0268474e21f2fa9873df1606bf6dbe390bbb149ba1c621c3ef\n",
      "3ae9aa36b51d0a528b582363e2a5eb4093f081bcf0039483eb999978\n",
      "9016b9e865e0585a8d6f29fad6700010897307e7ae38acd069b7427b\n",
      "d6437661b905b27d128be345c4aacd7ee87b215c9e5add357227c7cc\n",
      "e0f24d9c117d94a504a26f2cc8de6e34099b78d75e9b8a79f0596748\n",
      "e2dff2019a9096078ca6b86a7378eec6b6897a14aca6a1e6e820c5bb\n",
      "e55503fe844693273f03ab274f8d1f7ba9c6ec210029cb24c6975805\n",
      "KBE 10 HRP FULL\n"
     ]
    },
    {
     "ename": "KeyboardInterrupt",
     "evalue": "",
     "output_type": "error",
     "traceback": [
      "\u001b[0;31m---------------------------------------------------------------------------\u001b[0m",
      "\u001b[0;31mKeyboardInterrupt\u001b[0m                         Traceback (most recent call last)",
      "\u001b[0;32m<ipython-input-140-e23ee5a60b61>\u001b[0m in \u001b[0;36m<module>\u001b[0;34m()\u001b[0m\n\u001b[1;32m      2\u001b[0m \u001b[0;34m\u001b[0m\u001b[0m\n\u001b[1;32m      3\u001b[0m \u001b[0;31m##REMOVE BREAK TO DO FULL AUTO\u001b[0m\u001b[0;34m\u001b[0m\u001b[0;34m\u001b[0m\u001b[0m\n\u001b[0;32m----> 4\u001b[0;31m \u001b[0mcreatePossiblePortfoliosMP\u001b[0m\u001b[0;34m(\u001b[0m\u001b[0mcleanedPredictions\u001b[0m\u001b[0;34m,\u001b[0m \u001b[0mcleanedReturns\u001b[0m\u001b[0;34m,\u001b[0m \u001b[0mhashToModel\u001b[0m\u001b[0;34m,\u001b[0m \u001b[0mjoinedData\u001b[0m\u001b[0;34m,\u001b[0m \u001b[0mthreadsToUse\u001b[0m\u001b[0;34m=\u001b[0m\u001b[0;36m0\u001b[0m\u001b[0;34m)\u001b[0m\u001b[0;34m\u001b[0m\u001b[0m\n\u001b[0m",
      "\u001b[0;32m<ipython-input-139-a1a7746af630>\u001b[0m in \u001b[0;36mcreatePossiblePortfoliosMP\u001b[0;34m(cleanedPredictions, cleanedReturns, hashToModel, joinedData, threadsToUse)\u001b[0m\n\u001b[1;32m     10\u001b[0m \u001b[0;34m\u001b[0m\u001b[0m\n\u001b[1;32m     11\u001b[0m         \u001b[0;32mwhile\u001b[0m \u001b[0mlen\u001b[0m\u001b[0;34m(\u001b[0m\u001b[0mrunningP\u001b[0m\u001b[0;34m)\u001b[0m \u001b[0;34m>\u001b[0m \u001b[0mthreadsToUse\u001b[0m\u001b[0;34m:\u001b[0m\u001b[0;34m\u001b[0m\u001b[0m\n\u001b[0;32m---> 12\u001b[0;31m             \u001b[0mrunningP\u001b[0m \u001b[0;34m=\u001b[0m \u001b[0mdataAck\u001b[0m\u001b[0;34m.\u001b[0m\u001b[0mcycleP\u001b[0m\u001b[0;34m(\u001b[0m\u001b[0mrunningP\u001b[0m\u001b[0;34m)\u001b[0m\u001b[0;34m\u001b[0m\u001b[0m\n\u001b[0m\u001b[1;32m     13\u001b[0m \u001b[0;34m\u001b[0m\u001b[0m\n\u001b[1;32m     14\u001b[0m         \u001b[0mportfolioType\u001b[0m \u001b[0;34m=\u001b[0m \u001b[0mtypes\u001b[0m\u001b[0;34m[\u001b[0m\u001b[0mrandom\u001b[0m\u001b[0;34m.\u001b[0m\u001b[0mrandint\u001b[0m\u001b[0;34m(\u001b[0m\u001b[0;36m0\u001b[0m\u001b[0;34m,\u001b[0m \u001b[0mlen\u001b[0m\u001b[0;34m(\u001b[0m\u001b[0mtypes\u001b[0m\u001b[0;34m)\u001b[0m \u001b[0;34m-\u001b[0m \u001b[0;36m1\u001b[0m\u001b[0;34m)\u001b[0m\u001b[0;34m]\u001b[0m\u001b[0;34m\u001b[0m\u001b[0m\n",
      "\u001b[0;32m/Users/patrickogrady/Documents/CODE/walkforwardTrader/dataAck.py\u001b[0m in \u001b[0;36mcycleP\u001b[0;34m(runningProcesses)\u001b[0m\n\u001b[1;32m     32\u001b[0m     \u001b[0mnewP\u001b[0m \u001b[0;34m=\u001b[0m \u001b[0;34m[\u001b[0m\u001b[0;34m]\u001b[0m\u001b[0;34m\u001b[0m\u001b[0m\n\u001b[1;32m     33\u001b[0m     \u001b[0;32mfor\u001b[0m \u001b[0mp\u001b[0m \u001b[0;32min\u001b[0m \u001b[0mrunningProcesses\u001b[0m\u001b[0;34m:\u001b[0m\u001b[0;34m\u001b[0m\u001b[0m\n\u001b[0;32m---> 34\u001b[0;31m         \u001b[0;32mif\u001b[0m \u001b[0mp\u001b[0m\u001b[0;34m.\u001b[0m\u001b[0mis_alive\u001b[0m\u001b[0;34m(\u001b[0m\u001b[0;34m)\u001b[0m \u001b[0;34m==\u001b[0m \u001b[0;32mTrue\u001b[0m\u001b[0;34m:\u001b[0m\u001b[0;34m\u001b[0m\u001b[0m\n\u001b[0m\u001b[1;32m     35\u001b[0m             \u001b[0mnewP\u001b[0m\u001b[0;34m.\u001b[0m\u001b[0mappend\u001b[0m\u001b[0;34m(\u001b[0m\u001b[0mp\u001b[0m\u001b[0;34m)\u001b[0m\u001b[0;34m\u001b[0m\u001b[0m\n\u001b[1;32m     36\u001b[0m         \u001b[0;32melse\u001b[0m\u001b[0;34m:\u001b[0m\u001b[0;34m\u001b[0m\u001b[0m\n",
      "\u001b[0;32m/Users/patrickogrady/anaconda3/lib/python3.6/multiprocessing/process.py\u001b[0m in \u001b[0;36mis_alive\u001b[0;34m(self)\u001b[0m\n\u001b[1;32m    129\u001b[0m         \u001b[0;32mif\u001b[0m \u001b[0mself\u001b[0m \u001b[0;32mis\u001b[0m \u001b[0m_current_process\u001b[0m\u001b[0;34m:\u001b[0m\u001b[0;34m\u001b[0m\u001b[0m\n\u001b[1;32m    130\u001b[0m             \u001b[0;32mreturn\u001b[0m \u001b[0;32mTrue\u001b[0m\u001b[0;34m\u001b[0m\u001b[0m\n\u001b[0;32m--> 131\u001b[0;31m         \u001b[0;32massert\u001b[0m \u001b[0mself\u001b[0m\u001b[0;34m.\u001b[0m\u001b[0m_parent_pid\u001b[0m \u001b[0;34m==\u001b[0m \u001b[0mos\u001b[0m\u001b[0;34m.\u001b[0m\u001b[0mgetpid\u001b[0m\u001b[0;34m(\u001b[0m\u001b[0;34m)\u001b[0m\u001b[0;34m,\u001b[0m \u001b[0;34m'can only test a child process'\u001b[0m\u001b[0;34m\u001b[0m\u001b[0m\n\u001b[0m\u001b[1;32m    132\u001b[0m         \u001b[0;32mif\u001b[0m \u001b[0mself\u001b[0m\u001b[0;34m.\u001b[0m\u001b[0m_popen\u001b[0m \u001b[0;32mis\u001b[0m \u001b[0;32mNone\u001b[0m\u001b[0;34m:\u001b[0m\u001b[0;34m\u001b[0m\u001b[0m\n\u001b[1;32m    133\u001b[0m             \u001b[0;32mreturn\u001b[0m \u001b[0;32mFalse\u001b[0m\u001b[0;34m\u001b[0m\u001b[0m\n",
      "\u001b[0;31mKeyboardInterrupt\u001b[0m: "
     ]
    }
   ],
   "source": [
    "print(\"STARTING GENERATION\")\n",
    "\n",
    "##REMOVE BREAK TO DO FULL AUTO\n",
    "createPossiblePortfoliosMP(cleanedPredictions, cleanedReturns, hashToModel, joinedData, threadsToUse=0)"
   ]
  },
  {
   "cell_type": "code",
   "execution_count": null,
   "metadata": {
    "collapsed": true
   },
   "outputs": [],
   "source": []
  }
 ],
 "metadata": {
  "kernelspec": {
   "display_name": "Python 3",
   "language": "python",
   "name": "python3"
  },
  "language_info": {
   "codemirror_mode": {
    "name": "ipython",
    "version": 3
   },
   "file_extension": ".py",
   "mimetype": "text/x-python",
   "name": "python",
   "nbconvert_exporter": "python",
   "pygments_lexer": "ipython3",
   "version": "3.6.0"
  }
 },
 "nbformat": 4,
 "nbformat_minor": 2
}
