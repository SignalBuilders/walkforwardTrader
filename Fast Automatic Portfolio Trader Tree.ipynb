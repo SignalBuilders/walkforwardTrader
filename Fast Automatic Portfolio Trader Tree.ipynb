{
 "cells": [
  {
   "cell_type": "code",
   "execution_count": 143,
   "metadata": {
    "collapsed": true
   },
   "outputs": [],
   "source": [
    "import params\n",
    "from google.cloud import datastore, storage, logging\n",
    "import time\n",
    "import pickle\n",
    "import hashlib\n",
    "import sys\n",
    "import numpy as np\n",
    "import portfolioGeneration\n",
    "import portfolio\n",
    "import dataAck\n",
    "import warnings\n",
    "import numpy as np\n",
    "import pandas as pd\n",
    "warnings.filterwarnings(\"ignore\")\n",
    "import multiprocessing as mp \n",
    "import autoPortfolioTree\n",
    "import curveTreeDB\n",
    "import portfolio"
   ]
  },
  {
   "cell_type": "code",
   "execution_count": 144,
   "metadata": {
    "collapsed": false,
    "scrolled": true
   },
   "outputs": [
    {
     "name": "stdout",
     "output_type": "stream",
     "text": [
      "EWJ d9c92dc0c1806652b36892901a9c606d38ecf87fcf0c55d207d0ef7e 5\n",
      "USO a59c5f0cddc6a96c637a876c690b6b355883219c39a31d40d8ac9ded 5\n",
      "DXJ a108a2ab55a80d8da2dd2b8d6de7bb6a472141282fe913cade1a60b0 6\n",
      "XHB e58e88dc223e92a3c2fd0bffae405bcd61880f2efc6d774c825c8a09 5\n",
      "ITB 7bf216084e1827363b8eb8987211719c40dfb929738fa8ac5220989f 5\n",
      "USO 28b303f2cf4958bed1c4e4b5268bb0e52ccb7dc7d30ce1151aabd567 5\n",
      "SLV 61447af990efe38facca483d84a141cd9f4508b2f8e922abe40c48b0 5\n",
      "ITB 7962430c90a8864c374f73b381af75fec0f5b5a954cec3bcf6e2078f 5\n",
      "USO 3af24709486c14cd9f02a217f7e289eb52a718df584b7ec47b813598 6\n",
      "DXJ 6007373d9f2522f3b4c909f4e9b064514d1cce1b311d530826f5f9f2 5\n",
      "XHB d5c7a8898641f5b6258a9a279d87d28915185c0e3a5c5a96980fb5da 6\n",
      "USO 6ffced1563506524b477403efcb8232d65ae4590499e9afe321caf00 5\n",
      "VFH f29905ddb84c82fe6d230afa0bde51110bbf8760e6891b65f7151c85 6\n",
      "USO f72cc18346ae29af6240adf1ff99231d55f41abd614341fb003f29c3 5\n",
      "GDX 291ae9de9091e72e76076033684f92ad5d0b9ce4dcefffb0b783eec4 5\n",
      "USO 1f1fdaa78af0037a9f1312dff9f4772b95d3d17dad46f22450d17320 6\n",
      "XHB 158a6f069e4da05ae8216bd6ceab883d1d97d8670901c5e2d1a639b8 5\n",
      "OIH b5f198635c57cd548c4969a6f9e2df681059f65aea3f4eb1f4464b96 6\n",
      "XHB 2cd67e4519bb9b304fe1a0c7aab0efa9e7d24f8ed296ec428036b6e2 5\n",
      "ITB 23cf2660418d5991c492d4e2c4a0d63337f151f48bc1fa05620229d0 5\n",
      "XBI b6a7c502438ea249df00ff9321e00a4dee2a1ae9e10184053997de0d 7\n",
      "XBI 636e8a56ab753101f444931dd09e6859ea62d22f0759075bad54db5b 5\n",
      "USO df73e1b3b22513ec0f105696c1048a3f6aa1fd6f5c2d78f6712a0bdb 5\n",
      "GDX 6115652d269e998d83a8a1310338a6bf2ff5128bb7a1fd9ab0299ce5 5\n",
      "USO 7faba7141910c95c9df8d97dda727d8cc74d4fbe55b07ec6ec1d356f 5\n",
      "USO f26c533eb991030d1ef88808a62048b5687c6b64bd7e5f1b02531374 5\n",
      "USO f9fddcefed60dddc0feef30c6bb5deefa841dfa5323958dd678d24ba 5\n",
      "USO 32171014a8697e5346e91ef66dd826478e6de5e234f6aa1cc5e11000 5\n",
      "USO a7643e9470a0647776f5e87982a2139e92164e66a0fdbef0f232ff87 6\n",
      "USO e0b5032ef1be81e2e0912f6fcd7ba27497510e9b401ab4119591d1eb 6\n",
      "USO 653cb2313b2c127b5bf128f43f88cac68e81da837b837d6d1401531b 5\n"
     ]
    }
   ],
   "source": [
    "possibleModels = [item[\"model\"] for item in curveTreeDB.getValidModels(params.treeModels, returnEntireObject=True)]\n",
    "allModels = []\n",
    "tickersSeen = []\n",
    "for i in range(len(possibleModels)):\n",
    "    model = possibleModels[i]\n",
    "    if model.numberOfPredictors() > 4:\n",
    "        print(model.targetTicker, model.getHash(), model.numberOfPredictors())\n",
    "        allModels.append(model)\n",
    "        if model.targetTicker not in tickersSeen:\n",
    "            tickersSeen.append(model.targetTicker)"
   ]
  },
  {
   "cell_type": "code",
   "execution_count": 145,
   "metadata": {
    "collapsed": false
   },
   "outputs": [
    {
     "data": {
      "text/plain": [
       "31"
      ]
     },
     "execution_count": 145,
     "metadata": {},
     "output_type": "execute_result"
    }
   ],
   "source": [
    "len(allModels)"
   ]
  },
  {
   "cell_type": "code",
   "execution_count": 147,
   "metadata": {
    "collapsed": false
   },
   "outputs": [
    {
     "data": {
      "text/plain": [
       "['EWJ', 'USO', 'DXJ', 'XHB', 'ITB', 'SLV', 'VFH', 'GDX', 'OIH', 'XBI']"
      ]
     },
     "execution_count": 147,
     "metadata": {},
     "output_type": "execute_result"
    }
   ],
   "source": [
    "tickersSeen"
   ]
  },
  {
   "cell_type": "code",
   "execution_count": 148,
   "metadata": {
    "collapsed": false
   },
   "outputs": [
    {
     "data": {
      "text/plain": [
       "'XHB'"
      ]
     },
     "execution_count": 148,
     "metadata": {},
     "output_type": "execute_result"
    }
   ],
   "source": [
    "import random\n",
    "factorToTrade = tickersSeen[random.randint(0, len(tickersSeen) - 1)]\n",
    "factorToTrade"
   ]
  },
  {
   "cell_type": "code",
   "execution_count": 150,
   "metadata": {
    "collapsed": false,
    "scrolled": true
   },
   "outputs": [
    {
     "name": "stdout",
     "output_type": "stream",
     "text": [
      "['EWJ', 'USO', 'DXJ', 'XHB', 'ITB', 'SLV', 'VFH', 'GDX', 'OIH', 'XBI']\n",
      "ITB\n",
      "USO\n",
      "SLV\n",
      "GDX\n",
      "DXJ\n",
      "XHB\n",
      "VFH\n",
      "OIH\n",
      "EWJ\n",
      "XBI\n",
      "ATTEMPTING PULL d9c92dc0c1806652b36892901a9c606d38ecf87fcf0c55d207d0ef7e\n",
      "((('DVY', 36, 18, None, 1), 'EWJ', 10, 5, 0.7, 0.2, 10), (((('SOXX', 44, 10, 9, 2), 'EWJ', 10, 5, 0.5, 0.01, 10), (('IAU', 29, None, None, 5), 'EWJ', 5, 5, 0.5, 0.05, 10), 5, 'AND'), ((('IAU', 29, None, None, 5), 'EWJ', 5, 5, 1.0, 0.01, 10), (('IAU', 30, None, 18, 2), 'EWJ', 5, 5, 0.3, 0.1, 10), 5, 'AND'), 5, 'OR'), 5, 'OR')\n",
      "ATTEMPTING PULL a59c5f0cddc6a96c637a876c690b6b355883219c39a31d40d8ac9ded\n",
      "((('AGG', 35, 6, None, 1), 'USO', 44, 3, 2.0, 0.01, 10), (((('VBR', 37, None, None, 4), 'USO', 5, 3, 0.5, 0.05, 10), (('XLF', 15, 5, None, 1), 'USO', 10, 3, 0.7, 0.1, 10), 3, 'OR'), ((('VTV', 42, 8, None, 4), 'USO', 44, 3, 2.0, 0.01, 10), (('IWO', 21, None, None, 4), 'USO', 22, 3, 2.0, 0.05, 10), 3, 'OR'), 3, 'OR'), 3, 'OR')\n",
      "ATTEMPTING PULL a108a2ab55a80d8da2dd2b8d6de7bb6a472141282fe913cade1a60b0\n",
      "((((('XLB', 24, None, None, 1), 'DXJ', 44, 2, 1.5, 0.01, 10), (('TLT', 19, 2, None, 2), 'DXJ', 5, 2, 0.7, 0.01, 10), 2, 'OR'), ((('GDX', 27, None, 17, 5), 'DXJ', 22, 2, 1.0, 0.1, 10), (('XLE', 1, 13, 18, 1), 'DXJ', 44, 2, 2.0, 0.01, 10), 2, 'OR'), 2, 'AND'), ((('IYR', 29, None, None, 2), 'DXJ', 22, 2, 2.0, 0.05, 10), (('VTI', 6, 17, None, 2), 'DXJ', 22, 2, 1.5, 0.01, 10), 2, 'OR'), 2, 'AND')\n",
      "ATTEMPTING PULL e58e88dc223e92a3c2fd0bffae405bcd61880f2efc6d774c825c8a09\n",
      "(((('XLI', 43, None, None, 5), 'XHB', 44, 5, 2.0, 0.1, 10), (('XLV', 17, None, None, 3), 'XHB', 5, 5, 0.5, 0.1, 10), 5, 'OR'), ((('EWC', 14, 8, 11, 1), 'XHB', 22, 5, 1.5, 0.1, 10), ((('MDY', 42, 12, 15, 4), 'XHB', 5, 5, 1.0, 0.01, 10), (('IWF', 13, 14, None, 4), 'XHB', 10, 5, 1.0, 0.01, 10), 5, 'OR'), 5, 'OR'), 5, 'AND')\n",
      "ATTEMPTING PULL 7bf216084e1827363b8eb8987211719c40dfb929738fa8ac5220989f\n",
      "((('IWR', 23, 7, None, 1), 'ITB', 22, 5, 1.5, 0.05, 10), (((('VO', 6, None, None, 3), 'ITB', 44, 5, 2.0, 0.1, 10), (('QQQ', 19, 14, 14, 3), 'ITB', 44, 5, 1.5, 0.1, 10), 5, 'OR'), ((('USO', 42, None, 9, 3), 'ITB', 10, 5, 0.3, 0.05, 10), (('IVV', 13, None, None, 3), 'ITB', 22, 5, 1.5, 0.01, 10), 5, 'OR'), 5, 'OR'), 5, 'OR')\n",
      "ATTEMPTING PULL 28b303f2cf4958bed1c4e4b5268bb0e52ccb7dc7d30ce1151aabd567\n",
      "(((('AGG', 35, 6, None, 1), 'USO', 44, 3, 2.0, 0.01, 10), ((('XOP', 34, 13, None, 4), 'USO', 10, 3, 0.5, 0.05, 10), (('VBR', 37, None, None, 4), 'USO', 5, 3, 0.5, 0.05, 10), 3, 'OR'), 3, 'OR'), ((('VTV', 42, 8, None, 4), 'USO', 44, 3, 2.0, 0.01, 10), (('IWO', 21, None, None, 4), 'USO', 22, 3, 2.0, 0.05, 10), 3, 'OR'), 3, 'AND')\n",
      "ATTEMPTING PULL 61447af990efe38facca483d84a141cd9f4508b2f8e922abe40c48b0\n",
      "(((('SOXX', 32, 14, 9, 1), 'SLV', 10, 2, 1.0, 0.1, 10), ((('XME', 15, 13, None, 2), 'SLV', 22, 2, 2.0, 0.05, 10), (('XLU', 6, 5, 18, 5), 'SLV', 10, 2, 0.5, 0.05, 10), 2, 'AND'), 2, 'OR'), ((('XOP', 42, 6, None, 2), 'SLV', 10, 2, 1.0, 0.1, 10), (('EWY', 26, 19, None, 1), 'SLV', 10, 2, 0.7, 0.1, 10), 2, 'OR'), 2, 'AND')\n",
      "ATTEMPTING PULL 7962430c90a8864c374f73b381af75fec0f5b5a954cec3bcf6e2078f\n",
      "(((('EWY', 26, 2, None, 3), 'ITB', 22, 5, 2.0, 0.01, 10), ((('IWF', 28, None, 13, 4), 'ITB', 10, 5, 0.5, 0.01, 10), (('IVV', 13, None, None, 3), 'ITB', 22, 5, 1.5, 0.01, 10), 5, 'AND'), 5, 'OR'), ((('VO', 6, None, None, 3), 'ITB', 44, 5, 2.0, 0.1, 10), (('QQQ', 19, 14, 14, 3), 'ITB', 44, 5, 1.5, 0.1, 10), 5, 'OR'), 5, 'AND')\n",
      "ATTEMPTING PULL 3af24709486c14cd9f02a217f7e289eb52a718df584b7ec47b813598\n",
      "(((('RSP', 2, 10, 11, 1), 'USO', 10, 5, 1.0, 0.05, 10), ((('XLY', 17, None, 18, 5), 'USO', 10, 5, 2.0, 0.01, 10), (('GDX', 2, None, 22, 5), 'USO', 44, 5, 1.5, 0.01, 10), 5, 'OR'), 5, 'OR'), ((('IWO', 39, 2, None, 4), 'USO', 44, 5, 2.0, 0.01, 10), ((('GDX', 9, 10, 19, 3), 'USO', 44, 5, 2.0, 0.01, 10), (('SPY', 11, 22, 12, 4), 'USO', 10, 5, 2.0, 0.05, 10), 5, 'AND'), 5, 'OR'), 5, 'AND')\n",
      "ATTEMPTING PULL 6007373d9f2522f3b4c909f4e9b064514d1cce1b311d530826f5f9f2\n",
      "(((('IWR', 27, 12, 10, 5), 'DXJ', 44, 5, 2.0, 0.1, 10), ((('EFA', 16, None, 10, 2), 'DXJ', 5, 5, 0.3, 0.1, 10), (('ITB', 16, None, None, 5), 'DXJ', 44, 5, 1.5, 0.01, 10), 5, 'OR'), 5, 'OR'), ((('EWG', 8, None, None, 3), 'DXJ', 22, 5, 1.0, 0.01, 10), (('TIP', 39, 18, None, 3), 'DXJ', 5, 5, 0.3, 0.1, 10), 5, 'OR'), 5, 'AND')\n",
      "ATTEMPTING PULL d5c7a8898641f5b6258a9a279d87d28915185c0e3a5c5a96980fb5da\n",
      "(((('AGG', 11, None, 9, 2), 'XHB', 22, 5, 1.0, 0.05, 10), (('XLI', 43, None, None, 5), 'XHB', 44, 5, 2.0, 0.1, 10), 5, 'OR'), ((('EFA', 21, None, None, 1), 'XHB', 44, 5, 1.5, 0.01, 10), ((('IWF', 13, 14, None, 4), 'XHB', 10, 5, 1.0, 0.01, 10), ((('MDY', 42, 12, 15, 4), 'XHB', 5, 5, 1.0, 0.01, 10), (('EWJ', 36, 22, 12, 5), 'XHB', 10, 5, 0.3, 0.01, 10), 5, 'AND'), 5, 'AND'), 5, 'OR'), 5, 'AND')\n",
      "ATTEMPTING PULL 6ffced1563506524b477403efcb8232d65ae4590499e9afe321caf00\n",
      "(((('XME', 9, None, 20, 1), 'USO', 10, 3, 1.5, 0.05, 10), ((('VTV', 42, 8, None, 4), 'USO', 44, 3, 2.0, 0.01, 10), (('IWO', 21, None, None, 4), 'USO', 22, 3, 2.0, 0.05, 10), 3, 'OR'), 3, 'OR'), ((('FEZ', 27, 1, 16, 3), 'USO', 10, 3, 0.5, 0.05, 10), (('GDX', 33, 13, 16, 4), 'USO', 5, 3, 0.3, 0.05, 10), 3, 'OR'), 3, 'AND')\n",
      "ATTEMPTING PULL f29905ddb84c82fe6d230afa0bde51110bbf8760e6891b65f7151c85\n",
      "(((('VWO', 27, None, None, 4), 'VFH', 44, 3, 2.0, 0.1, 10), (('XLP', 28, 2, 8, 3), 'VFH', 10, 3, 0.7, 0.05, 10), 3, 'OR'), (((('LQD', 25, 6, None, 3), 'VFH', 10, 3, 1.0, 0.01, 10), (('EWJ', 27, 16, 12, 1), 'VFH', 5, 3, 1.0, 0.05, 10), 3, 'OR'), ((('VTI', 7, 15, None, 2), 'VFH', 10, 3, 0.7, 0.01, 10), (('SDY', 34, None, 20, 1), 'VFH', 10, 3, 0.7, 0.01, 10), 3, 'OR'), 3, 'OR'), 3, 'AND')\n",
      "ATTEMPTING PULL f72cc18346ae29af6240adf1ff99231d55f41abd614341fb003f29c3\n",
      "(((('EFA', 30, 20, 18, 4), 'USO', 22, 2, 0.7, 0.05, 10), (('EFA', 30, 20, 18, 4), 'USO', 5, 2, 1.5, 0.01, 10), 2, 'OR'), ((('IJR', 43, 2, None, 5), 'USO', 44, 2, 2.0, 0.05, 10), ((('IYT', 41, None, None, 3), 'USO', 5, 2, 2.0, 0.05, 10), (('IBB', 40, 12, None, 1), 'USO', 5, 2, 1.0, 0.01, 10), 2, 'OR'), 2, 'OR'), 2, 'OR')\n",
      "ATTEMPTING PULL 291ae9de9091e72e76076033684f92ad5d0b9ce4dcefffb0b783eec4\n",
      "(((('VBR', 12, 14, None, 5), 'GDX', 10, 5, 1.0, 0.1, 10), ((('XLE', 24, 14, 8, 2), 'GDX', 22, 5, 1.5, 0.1, 10), (('IWM', 19, None, None, 5), 'GDX', 22, 5, 1.0, 0.01, 10), 5, 'AND'), 5, 'OR'), ((('AGG', 30, None, 20, 1), 'GDX', 44, 5, 2.0, 0.05, 10), (('IEF', 29, None, None, 3), 'GDX', 10, 5, 1.5, 0.05, 10), 5, 'OR'), 5, 'OR')\n",
      "ATTEMPTING PULL 1f1fdaa78af0037a9f1312dff9f4772b95d3d17dad46f22450d17320\n",
      "((((('VBR', 37, None, None, 4), 'USO', 5, 3, 0.5, 0.05, 10), (('XLF', 15, 5, None, 1), 'USO', 10, 3, 0.7, 0.1, 10), 3, 'OR'), ((('VTV', 42, 8, None, 4), 'USO', 44, 3, 2.0, 0.01, 10), (('IWO', 21, None, None, 4), 'USO', 22, 3, 2.0, 0.05, 10), 3, 'OR'), 3, 'OR'), ((('IWB', 11, None, None, 1), 'USO', 10, 3, 0.7, 0.1, 10), (('AGG', 35, 6, None, 1), 'USO', 44, 3, 2.0, 0.01, 10), 3, 'OR'), 3, 'AND')\n",
      "ATTEMPTING PULL 158a6f069e4da05ae8216bd6ceab883d1d97d8670901c5e2d1a639b8\n",
      "(((('AGG', 34, None, None, 1), 'XHB', 10, 5, 0.7, 0.05, 10), ((('MDY', 42, 12, 15, 4), 'XHB', 5, 5, 1.0, 0.01, 10), (('IWF', 13, 14, None, 4), 'XHB', 10, 5, 1.0, 0.01, 10), 5, 'OR'), 5, 'AND'), ((('VO', 20, 15, 11, 2), 'XHB', 10, 5, 0.5, 0.05, 10), (('KBE', 26, None, 12, 5), 'XHB', 22, 5, 1.5, 0.01, 10), 5, 'OR'), 5, 'AND')\n",
      "ATTEMPTING PULL b5f198635c57cd548c4969a6f9e2df681059f65aea3f4eb1f4464b96\n",
      "(((('EEM', 3, 4, None, 5), 'OIH', 5, 3, 0.5, 0.1, 10), (('IYT', 28, 17, None, 3), 'OIH', 22, 3, 2.0, 0.01, 10), 3, 'OR'), (((('VTV', 24, 9, None, 4), 'OIH', 5, 3, 0.3, 0.1, 10), (('XLF', 1, 16, 20, 5), 'OIH', 10, 3, 0.3, 0.1, 10), 3, 'OR'), ((('EWU', 5, None, 16, 1), 'OIH', 22, 3, 1.0, 0.05, 10), (('EWU', 5, None, 16, 1), 'OIH', 22, 3, 1.0, 0.1, 10), 3, 'AND'), 3, 'OR'), 3, 'AND')\n",
      "ATTEMPTING PULL 2cd67e4519bb9b304fe1a0c7aab0efa9e7d24f8ed296ec428036b6e2\n",
      "(((('SDY', 30, 12, None, 1), 'XHB', 44, 3, 1.5, 0.1, 10), (('DIA', 36, 8, 20, 1), 'XHB', 22, 3, 1.5, 0.1, 10), 3, 'OR'), ((('IEF', 43, 13, None, 5), 'XHB', 5, 3, 0.5, 0.01, 10), ((('IJH', 41, 7, None, 2), 'XHB', 44, 3, 1.5, 0.01, 10), (('XRT', 1, 21, 19, 1), 'XHB', 10, 3, 0.3, 0.05, 10), 3, 'OR'), 3, 'OR'), 3, 'OR')\n",
      "ATTEMPTING PULL 23cf2660418d5991c492d4e2c4a0d63337f151f48bc1fa05620229d0\n",
      "(((('USO', 42, None, 9, 3), 'ITB', 10, 5, 0.3, 0.05, 10), (('IVV', 13, None, None, 3), 'ITB', 22, 5, 1.5, 0.01, 10), 5, 'OR'), ((('QQQ', 19, 14, 14, 3), 'ITB', 44, 5, 1.5, 0.1, 10), ((('IWF', 28, None, 13, 4), 'ITB', 10, 5, 0.5, 0.01, 10), (('KBE', 23, None, None, 4), 'ITB', 44, 5, 1.5, 0.05, 10), 5, 'AND'), 5, 'OR'), 5, 'AND')\n",
      "ATTEMPTING PULL b6a7c502438ea249df00ff9321e00a4dee2a1ae9e10184053997de0d\n",
      "(((('OIH', 17, None, None, 4), 'XBI', 22, 3, 2.0, 0.05, 10), ((('IAU', 27, None, None, 5), 'XBI', 22, 3, 1.5, 0.1, 10), (('SDY', 14, 4, 6, 2), 'XBI', 22, 3, 0.7, 0.05, 10), 3, 'OR'), 3, 'OR'), (((('ILF', 41, None, 18, 4), 'XBI', 10, 3, 0.3, 0.01, 10), (('XHB', 42, 15, None, 1), 'XBI', 5, 3, 0.5, 0.1, 10), 3, 'AND'), ((('SLV', 26, 16, None, 4), 'XBI', 5, 3, 0.3, 0.01, 10), (('ILF', 39, 6, 14, 2), 'XBI', 44, 3, 2.0, 0.1, 10), 3, 'AND'), 3, 'OR'), 3, 'AND')\n",
      "ATTEMPTING PULL 636e8a56ab753101f444931dd09e6859ea62d22f0759075bad54db5b\n",
      "(((('EWU', 12, 3, None, 5), 'XBI', 10, 3, 1.0, 0.1, 10), ((('KRE', 6, 19, 22, 4), 'XBI', 44, 3, 2.0, 0.1, 10), (('QQQ', 34, None, 11, 2), 'XBI', 22, 3, 1.0, 0.05, 10), 3, 'AND'), 3, 'OR'), ((('SH', 32, None, 9, 3), 'XBI', 10, 3, 0.5, 0.01, 10), (('IJH', 11, 11, None, 3), 'XBI', 5, 3, 0.3, 0.01, 10), 3, 'AND'), 3, 'AND')\n",
      "ATTEMPTING PULL df73e1b3b22513ec0f105696c1048a3f6aa1fd6f5c2d78f6712a0bdb\n",
      "(((('IWO', 39, 2, None, 4), 'USO', 44, 5, 2.0, 0.01, 10), ((('GDX', 9, 10, 19, 3), 'USO', 44, 5, 2.0, 0.01, 10), (('SPY', 11, 22, 12, 4), 'USO', 10, 5, 2.0, 0.05, 10), 5, 'AND'), 5, 'OR'), ((('VO', 1, 8, None, 4), 'USO', 10, 5, 1.0, 0.05, 10), (('RSP', 2, 10, 11, 1), 'USO', 10, 5, 1.0, 0.05, 10), 5, 'AND'), 5, 'OR')\n",
      "ATTEMPTING PULL 6115652d269e998d83a8a1310338a6bf2ff5128bb7a1fd9ab0299ce5\n",
      "(((('AGG', 37, None, 9, 5), 'GDX', 10, 15, 1.0, 0.1, 10), (('XBI', 39, None, None, 3), 'GDX', 22, 15, 1.5, 0.1, 10), 15, 'OR'), ((('IBB', 6, 9, 15, 2), 'GDX', 5, 15, 0.3, 0.1, 10), ((('IWN', 15, 14, 11, 5), 'GDX', 10, 15, 0.3, 0.1, 10), (('VO', 27, None, None, 4), 'GDX', 22, 15, 1.5, 0.01, 10), 15, 'OR'), 15, 'OR'), 15, 'AND')\n",
      "ATTEMPTING PULL 7faba7141910c95c9df8d97dda727d8cc74d4fbe55b07ec6ec1d356f\n",
      "((('USO', 22, None, None, 5), 'USO', 10, 5, 0.3, 0.01, 10), (((('VO', 1, 8, None, 4), 'USO', 10, 5, 1.0, 0.05, 10), (('RSP', 2, 10, 11, 1), 'USO', 10, 5, 1.0, 0.05, 10), 5, 'AND'), ((('GDX', 9, 10, 19, 3), 'USO', 44, 5, 2.0, 0.01, 10), (('SPY', 11, 22, 12, 4), 'USO', 10, 5, 2.0, 0.05, 10), 5, 'AND'), 5, 'OR'), 5, 'AND')\n",
      "ATTEMPTING PULL f26c533eb991030d1ef88808a62048b5687c6b64bd7e5f1b02531374\n",
      "(((('XME', 9, None, 20, 1), 'USO', 10, 3, 1.5, 0.05, 10), ((('VTV', 42, 8, None, 4), 'USO', 44, 3, 2.0, 0.01, 10), (('IWO', 21, None, None, 4), 'USO', 22, 3, 2.0, 0.05, 10), 3, 'OR'), 3, 'OR'), ((('VBR', 37, None, None, 4), 'USO', 5, 3, 0.5, 0.05, 10), (('XLF', 15, 5, None, 1), 'USO', 10, 3, 0.7, 0.1, 10), 3, 'OR'), 3, 'AND')\n",
      "ATTEMPTING PULL f9fddcefed60dddc0feef30c6bb5deefa841dfa5323958dd678d24ba\n",
      "(((('EWZ', 35, None, 15, 3), 'USO', 10, 5, 1.0, 0.01, 10), (('GDX', 9, 10, 19, 3), 'USO', 22, 5, 1.5, 0.05, 10), 5, 'OR'), ((('IWO', 39, 2, None, 4), 'USO', 44, 5, 2.0, 0.01, 10), ((('GDX', 9, 10, 19, 3), 'USO', 44, 5, 2.0, 0.01, 10), (('SPY', 11, 22, 12, 4), 'USO', 10, 5, 2.0, 0.05, 10), 5, 'AND'), 5, 'OR'), 5, 'AND')\n",
      "ATTEMPTING PULL 32171014a8697e5346e91ef66dd826478e6de5e234f6aa1cc5e11000\n",
      "(((('AGG', 35, 6, None, 1), 'USO', 44, 3, 2.0, 0.01, 10), ((('XOP', 34, 13, None, 4), 'USO', 10, 3, 0.5, 0.05, 10), (('VBR', 37, None, None, 4), 'USO', 5, 3, 0.5, 0.05, 10), 3, 'OR'), 3, 'OR'), ((('XLF', 15, 5, None, 1), 'USO', 10, 3, 0.7, 0.1, 10), (('QQQ', 7, None, None, 1), 'USO', 10, 3, 0.7, 0.05, 10), 3, 'OR'), 3, 'AND')\n",
      "ATTEMPTING PULL a7643e9470a0647776f5e87982a2139e92164e66a0fdbef0f232ff87\n",
      "((((('GDX', 9, 10, 19, 3), 'USO', 44, 5, 2.0, 0.01, 10), (('SPY', 11, 22, 12, 4), 'USO', 10, 5, 2.0, 0.05, 10), 5, 'AND'), ((('VO', 1, 8, None, 4), 'USO', 10, 5, 1.0, 0.05, 10), (('RSP', 2, 10, 11, 1), 'USO', 10, 5, 1.0, 0.05, 10), 5, 'AND'), 5, 'OR'), ((('USO', 22, None, None, 5), 'USO', 10, 5, 0.5, 0.05, 10), (('LQD', 5, 6, 9, 2), 'USO', 44, 5, 0.3, 0.05, 10), 5, 'OR'), 5, 'OR')\n",
      "ATTEMPTING PULL e0b5032ef1be81e2e0912f6fcd7ba27497510e9b401ab4119591d1eb\n",
      "((((('VO', 1, 8, None, 4), 'USO', 10, 5, 1.0, 0.05, 10), (('RSP', 2, 10, 11, 1), 'USO', 10, 5, 1.0, 0.05, 10), 5, 'AND'), ((('GDX', 9, 10, 19, 3), 'USO', 44, 5, 2.0, 0.01, 10), (('SPY', 11, 22, 12, 4), 'USO', 10, 5, 2.0, 0.05, 10), 5, 'AND'), 5, 'OR'), ((('USO', 22, None, None, 5), 'USO', 10, 5, 0.5, 0.05, 10), (('LQD', 5, 6, 9, 2), 'USO', 44, 5, 0.3, 0.05, 10), 5, 'OR'), 5, 'OR')\n",
      "ATTEMPTING PULL 653cb2313b2c127b5bf128f43f88cac68e81da837b837d6d1401531b\n",
      "(((('EWZ', 35, None, 15, 3), 'USO', 10, 5, 1.5, 0.01, 10), (('SPY', 11, 22, 12, 4), 'USO', 10, 5, 2.0, 0.05, 10), 5, 'OR'), ((('EWZ', 35, None, 15, 3), 'USO', 10, 5, 1.0, 0.01, 10), ((('VO', 1, 8, None, 4), 'USO', 10, 5, 1.0, 0.05, 10), (('RSP', 2, 10, 11, 1), 'USO', 10, 5, 1.0, 0.05, 10), 5, 'AND'), 5, 'OR'), 5, 'AND')\n"
     ]
    }
   ],
   "source": [
    "uniqueModels, modelReturns, modelPredictions, modelSlippageReturns, modelReturnsWithFactor, joinedData = autoPortfolioTree.computeReturnsForUniqueModelsCache(allModels, factorToTrade)\n"
   ]
  },
  {
   "cell_type": "code",
   "execution_count": 156,
   "metadata": {
    "collapsed": true
   },
   "outputs": [],
   "source": [
    "cleanedReturns = modelReturns.dropna()\n",
    "cleanedReturns.columns = [item.getHash() for item in uniqueModels]\n",
    "\n",
    "cleanedPredictions = modelPredictions.dropna()\n",
    "cleanedPredictions.columns = [item.getHash() for item in uniqueModels]\n",
    "hashToModel = {}\n",
    "for item in uniqueModels:\n",
    "    hashToModel[item.getHash()] = item"
   ]
  },
  {
   "cell_type": "code",
   "execution_count": 157,
   "metadata": {
    "collapsed": false
   },
   "outputs": [],
   "source": [
    "def historicalWeightsToTickerAllocations(historicalWeights, algorithmPredictions, modelsInPortfolio):\n",
    "    aggregatePredictions = algorithmPredictions.dropna()\n",
    "    allocationsToStore = []\n",
    "    historicalAllocations = None\n",
    "    scaledHistoricalAllocations = None\n",
    "    ##ITERATE THROUGH DAYS TO CALCULATE NET POSITION\n",
    "    for i in range(len(historicalWeights)):\n",
    "        netPosition = {}\n",
    "        weights = historicalWeights.iloc[i]\n",
    "        for model in modelsInPortfolio:\n",
    "            if model.targetTicker not in netPosition:\n",
    "                netPosition[model.targetTicker] = 0.0\n",
    "            try:\n",
    "                aggregatePredictions.loc[historicalWeights.index[i]]\n",
    "            except:\n",
    "                continue\n",
    "            \n",
    "            netPosition[model.targetTicker] += weights[model.getHash()] * aggregatePredictions.loc[historicalWeights.index[i]][model.getHash()]\n",
    "        thisDf = pd.DataFrame([netPosition], index=[historicalWeights.index[i]])\n",
    "        if historicalAllocations is None:\n",
    "            historicalAllocations = thisDf\n",
    "        else:\n",
    "            historicalAllocations = pd.concat([historicalAllocations, thisDf])\n",
    "        \n",
    "        totalCapitalUsed = sum([abs(netPosition[ticker]) for ticker in netPosition])\n",
    "        scaledNetPosition = {}\n",
    "        for ticker in netPosition:\n",
    "            scaledNetPosition[ticker] = netPosition[ticker] * 1.0/totalCapitalUsed\n",
    "        \n",
    "        thisDf = pd.DataFrame([scaledNetPosition], index=[historicalWeights.index[i]])\n",
    "        if scaledHistoricalAllocations is None:\n",
    "            scaledHistoricalAllocations = thisDf\n",
    "        else:\n",
    "            scaledHistoricalAllocations = pd.concat([scaledHistoricalAllocations, thisDf])\n",
    "    \n",
    "    return historicalAllocations, scaledHistoricalAllocations\n",
    "            \n",
    "            "
   ]
  },
  {
   "cell_type": "code",
   "execution_count": 158,
   "metadata": {
    "collapsed": false
   },
   "outputs": [],
   "source": [
    "import empyrical\n",
    "def getLimitedDataForPortfolio(historicalWeights, historicalPredictions, modelsUsed, factorToTrade, joinedData):\n",
    "    \n",
    "    normalTickerAllocationsTable, scaledTickerAllocationsTable = historicalWeightsToTickerAllocations(historicalWeights, historicalPredictions, modelsUsed)\n",
    "    \n",
    "    tickerAllocationsTable = scaledTickerAllocationsTable\n",
    "    rawTickerPerformance = portfolioGeneration.calculatePerformanceForTable(tickerAllocationsTable, tickerAllocationsTable.columns, joinedData)\n",
    "\n",
    "    rawAlgoPerformance = pd.DataFrame(rawTickerPerformance.apply(lambda x:sum(x), axis=1), columns=[\"Algo Return Without Commissions\"])\n",
    "\n",
    "    tickerPerformance, algoPerformance, algoTransactionCost =  portfolioGeneration.calculatePerformanceForAllocations(tickerAllocationsTable, joinedData)\n",
    "\n",
    "    benchmark = factorToTrade\n",
    "    factorReturn = dataAck.getDailyFactorReturn(benchmark, joinedData)\n",
    "    factorReturn.columns = [\"Factor Return (\" + benchmark + \")\"]\n",
    "    algoPerformance.columns = [\"Algo Return\"]\n",
    "\n",
    "    alpha, beta = empyrical.alpha_beta(algoPerformance, factorReturn)\n",
    "    sharpe_difference = empyrical.sharpe_ratio(algoPerformance) - empyrical.sharpe_ratio(factorReturn)\n",
    "    annualizedReturn = empyrical.annual_return(algoPerformance)[0]\n",
    "    annualizedVolatility = empyrical.annual_volatility(algoPerformance)\n",
    "    \n",
    "    ##AUTOMATICALLY TAKES SLIPPAGE INTO ACCOUNT\n",
    "    return {\n",
    "        \"benchmark\":factorToTrade,\n",
    "        \"alpha\":alpha,\n",
    "        \"beta\":beta,\n",
    "        \"sharpe difference\":sharpe_difference,\n",
    "        \"annualizedReturn\":annualizedReturn,\n",
    "        \"annualizedVolatility\":annualizedVolatility,\n",
    "        \"sharpe\":empyrical.sharpe_ratio(algoPerformance),\n",
    "        \"free return\":annualizedReturn - annualizedVolatility\n",
    "    }\n",
    "    \n"
   ]
  },
  {
   "cell_type": "code",
   "execution_count": 159,
   "metadata": {
    "collapsed": true
   },
   "outputs": [],
   "source": [
    "def returnSelectAlgos(algoColumns):\n",
    "    return np.random.choice(algoColumns, size=random.randint(10, len(algoColumns)), replace= False)\n"
   ]
  },
  {
   "cell_type": "code",
   "execution_count": 160,
   "metadata": {
    "collapsed": true
   },
   "outputs": [],
   "source": [
    "import hrpPortfolioOpt as hrp\n",
    "def produceHRPPredictions(aggregateReturns, windowSize, startIndex, maxWindowSize = False):\n",
    "    hrpReturns = pd.DataFrame([])\n",
    "    historicalWeights = pd.DataFrame([])\n",
    "    i = windowSize\n",
    "    if startIndex is not None:\n",
    "        i = startIndex\n",
    "    while i < len(aggregateReturns):\n",
    "        corr = None\n",
    "        cov = None\n",
    "        if maxWindowSize == False:\n",
    "            corr = (aggregateReturns[:i]).corr()\n",
    "            cov = (aggregateReturns[:i]).cov()\n",
    "        else:\n",
    "            corr = (aggregateReturns[i-windowSize:i]).corr()\n",
    "            cov = (aggregateReturns[i-windowSize:i]).cov()\n",
    "        weights = hrp.getHRP(cov, corr)\n",
    "    #     display(weights)\n",
    "    #     display(aggregateReturns[i+windowSize:i+windowSize+1])\n",
    "        todayReturn = aggregateReturns[i:i+1] * weights\n",
    "    #     display(todayReturn)\n",
    "        sumReturn = pd.DataFrame(todayReturn.apply(lambda x:sum(x), axis=1))\n",
    "        hrpReturns = pd.concat([hrpReturns, sumReturn])\n",
    "        thisWeights = pd.DataFrame([[weights[item] for item in weights.index]], index=sumReturn.index, columns=weights.index.tolist())\n",
    "        historicalWeights = pd.concat([historicalWeights, thisWeights])\n",
    "        i += 1\n",
    "    return hrpReturns, historicalWeights"
   ]
  },
  {
   "cell_type": "code",
   "execution_count": null,
   "metadata": {
    "collapsed": true
   },
   "outputs": [],
   "source": [
    "def storeDiscoveredPortfolio(models, benchmark, IS_DATA, OOS_DATA):\n",
    "    description = \"AUTO GENERATED\"\n",
    "    portfolioType = \"HRP FULL\"\n",
    "    allHashes = []\n",
    "    for model in models:\n",
    "        allHashes.append(model.getHash())\n",
    "        \n",
    "    ##SORT SO ENSURE SAME PORTFOLIO NOT CREATED TWICE\n",
    "    allHashes = sorted(allHashes)\n",
    "    \n",
    "    portfolioString = str(allHashes) + benchmark + description + portfolioType\n",
    "    portfolioHash = hashlib.sha224(portfolioString.encode('utf-8')).hexdigest()\n",
    "    print(\"PORTFOLIO HASH:\", portfolioHash)\n",
    "    for hashing in allHashes:\n",
    "        print(hashing)\n",
    "        \n",
    "    \n",
    "        ##UPLOAD ORGANISM OBJECT\n",
    "        while True:\n",
    "            try:\n",
    "                toUpload = {\n",
    "                    \"portfolio\":portfolioHash,\n",
    "                    \"model\":hashing\n",
    "                }\n",
    "                datastoreClient = datastore.Client('money-maker-1236')\n",
    "                #HASH DIGEST\n",
    "                key = datastoreClient.key(params.discoveredPortfolioModels, hashlib.sha224(str(hashing + portfolioHash).encode('utf-8')).hexdigest()) #NEED TO HASH TO ENSURE UNDER COUNT\n",
    "                organismToStore = datastore.Entity(key=key)\n",
    "                organismToStore.update(toUpload)\n",
    "                datastoreClient.put(organismToStore)\n",
    "                break\n",
    "            except:\n",
    "                print(\"UPLOAD ERROR:\", str(sys.exc_info()))\n",
    "                time.sleep(10)\n",
    "    \n",
    "    ##STORE PORTFOLIO OBJECT\n",
    "    while True:\n",
    "        try:\n",
    "            toUpload = {\n",
    "                \"description\":description,\n",
    "                \"benchmark\":benchmark,\n",
    "                \"portfolioType\":portfolioType,\n",
    "                \"startedTrading\":curveTreeDB.getToday()\n",
    "            }\n",
    "            \n",
    "            for k in IS_DATA:\n",
    "                toUpload[\"IS_\"+ k] = IS_DATA[k]\n",
    "            \n",
    "            for k in OOS_DATA:\n",
    "                toUpload[\"OOS_\"+ k] = OOS_DATA[k]\n",
    "            \n",
    "            datastoreClient = datastore.Client('money-maker-1236')\n",
    "            #HASH DIGEST\n",
    "            key = datastoreClient.key(params.discoveredPortfolios, portfolioHash) #NEED TO HASH TO ENSURE UNDER COUNT\n",
    "            organismToStore = datastore.Entity(key=key)\n",
    "            organismToStore.update(toUpload)\n",
    "            datastoreClient.put(organismToStore)\n",
    "            return portfolioHash\n",
    "            break\n",
    "        except:\n",
    "            print(\"UPLOAD ERROR:\", str(sys.exc_info()))\n",
    "            time.sleep(10)"
   ]
  },
  {
   "cell_type": "code",
   "execution_count": 161,
   "metadata": {
    "collapsed": true
   },
   "outputs": [],
   "source": [
    "def performPortfolioPerformanceEstimation(historicalPredictions, historicalReturns, factorToTrade, hashToModel, joinedData):\n",
    "    returnWindows = [(None, historicalReturns[:400]), (400, historicalReturns)]\n",
    "    historicalWeights = None\n",
    "    for selectedReturns in returnWindows:\n",
    "        startIndex = selectedReturns[0]\n",
    "        returnWindow = selectedReturns[1]\n",
    "        hrpReturns, weightsSeen = produceHRPPredictions(returnWindow,\\\n",
    "                126, startIndex=startIndex, maxWindowSize=False)\n",
    "        print(\"COMPUTED HISTORICAL WEIGHTS\")\n",
    "        if historicalWeights is None:\n",
    "            historicalWeights = weightsSeen\n",
    "        else:\n",
    "            historicalWeights = pd.concat([historicalWeights, weightsSeen])\n",
    "        \n",
    "        modelsUsed = []\n",
    "\n",
    "        tickersSeen = {}\n",
    "\n",
    "        for modelHash in historicalPredictions.columns:\n",
    "            thisModel = hashToModel[modelHash]\n",
    "            modelsUsed.append(thisModel)\n",
    "        if startIndex is None:\n",
    "            scaledStats = getLimitedDataForPortfolio(historicalWeights,\\\n",
    "                                    historicalPredictions, modelsUsed, factorToTrade, joinedData)\n",
    "            print(scaledStats)\n",
    "            if scaledStats[\"sharpe difference\"] < 0.0 or scaledStats[\"annualizedReturn\"] < scaledStats[\"annualizedVolatility\"]:\n",
    "                return None, None\n",
    "    trainStats = getLimitedDataForPortfolio(historicalWeights[:-252], \\\n",
    "                                              historicalPredictions, modelsUsed, factorToTrade, joinedData)\n",
    "    testStats = getLimitedDataForPortfolio(historicalWeights[-252:], \\\n",
    "                                              historicalPredictions, modelsUsed, factorToTrade, joinedData)\n",
    "    \n",
    "    if trainStats[\"sharpe difference\"] > 0.0 and trainStats[\"annualizedReturn\"] > trainStats[\"annualizedVolatility\"]:\n",
    "        print(trainStats, testStats)\n",
    "        storeDiscoveredPortfolio(modelsUsed, trainStats, testStats)\n",
    "    "
   ]
  },
  {
   "cell_type": "code",
   "execution_count": 163,
   "metadata": {
    "collapsed": true
   },
   "outputs": [],
   "source": [
    "## MP RUN            \n",
    "def createPossiblePortfoliosMP(cleanedPredictions, cleanedReturns, hashToModel, joinedData, threadsToUse):\n",
    "    mpEngine = mp.get_context('fork')\n",
    "        \n",
    "    runningP = []\n",
    "    while True:\n",
    "        selectedAlgorithms = returnSelectAlgos(cleanedReturns.columns)\n",
    "        print(len(selectedAlgorithms))\n",
    "        factorToTrade = hashToModel[selectedAlgorithms[random.randint(0, len(selectedAlgorithms) - 1)]].targetTicker\n",
    "        print(factorToTrade)\n",
    "        while len(runningP) > threadsToUse:\n",
    "            runningP = dataAck.cycleP(runningP)\n",
    "        \n",
    "        p = mpEngine.Process(target=performPortfolioPerformanceEstimation, args=(cleanedPredictions[selectedAlgorithms],\\\n",
    "                    cleanedReturns[selectedAlgorithms], factorToTrade, hashToModel, joinedData))\n",
    "        p.start()\n",
    "        runningP.append(p)\n",
    "\n",
    "# In[ ]:\n"
   ]
  },
  {
   "cell_type": "code",
   "execution_count": 164,
   "metadata": {
    "collapsed": false
   },
   "outputs": [
    {
     "name": "stdout",
     "output_type": "stream",
     "text": [
      "STARTING GENERATION\n",
      "21\n",
      "XHB\n",
      "24\n",
      "ITB\n",
      "COMPUTED HISTORICAL WEIGHTS\n",
      "{'benchmark': 'XHB', 'alpha': 0.0648249539358521, 'beta': 0.018388947856885399, 'sharpe difference': 2.5263597049864885, 'annualizedReturn': 0.067285208111367734, 'annualizedVolatility': 0.02438993405029084, 'sharpe': 2.6823617736370462} {'benchmark': 'XHB', 'alpha': 0.4463321282277181, 'beta': 0.087266889674225051, 'sharpe difference': 2.1676995768951164, 'annualizedReturn': 0.53774648279405679, 'annualizedVolatility': 0.19329867710974166, 'sharpe': 2.323701645545674}\n",
      "COMPUTED HISTORICAL WEIGHTS\n",
      "train ({'benchmark': 'XHB', 'alpha': 0.06513660139910891, 'beta': 0.016070976544025208, 'sharpe difference': 2.4665639303882205, 'annualizedReturn': 0.06769437300722414, 'annualizedVolatility': 0.025098765730737244, 'sharpe': 2.6225659990387782}, {'benchmark': 'XHB', 'alpha': 0.4366631000089456, 'beta': 0.062340481134984096, 'sharpe difference': 2.0303442154046687, 'annualizedReturn': 0.52049811301836613, 'annualizedVolatility': 0.2009408807031664, 'sharpe': 2.1863462840552264})\n",
      "test ({'benchmark': 'XHB', 'alpha': 0.03178643176203094, 'beta': 0.049335079279641085, 'sharpe difference': 1.2088173127271153, 'annualizedReturn': 0.03043525892456489, 'annualizedVolatility': 0.022147239825661035, 'sharpe': 1.364819381377673}, {'benchmark': 'XHB', 'alpha': 0.163617131713272, 'beta': 0.31919289570852605, 'sharpe difference': 0.84239573755975772, 'annualizedReturn': 0.15225773120579578, 'annualizedVolatility': 0.15377402874143584, 'sharpe': 0.99839780621031537})\n",
      "23\n",
      "USO\n",
      "COMPUTED HISTORICAL WEIGHTS\n",
      "{'benchmark': 'ITB', 'alpha': 0.05568130634858973, 'beta': 0.019002643853429649, 'sharpe difference': 2.2820057116761054, 'annualizedReturn': 0.056337803159553168, 'annualizedVolatility': 0.022909504126707673, 'sharpe': 2.4040326259055846} {'benchmark': 'ITB', 'alpha': 0.32797839673987655, 'beta': 0.13014699263882454, 'sharpe difference': 1.6088801334972556, 'annualizedReturn': 0.35832548634098504, 'annualizedVolatility': 0.1870852686717891, 'sharpe': 1.7309070477267348}\n",
      "COMPUTED HISTORICAL WEIGHTS\n",
      "train ({'benchmark': 'ITB', 'alpha': 0.05244652602412378, 'beta': 0.018472216417603802, 'sharpe difference': 2.162103431797668, 'annualizedReturn': 0.053808542818418958, 'annualizedVolatility': 0.02306380726101573, 'sharpe': 2.2841303460271472}, {'benchmark': 'ITB', 'alpha': 0.2983219093218389, 'beta': 0.12848604207370348, 'sharpe difference': 1.4006282815945372, 'annualizedReturn': 0.32383102069338121, 'annualizedVolatility': 0.19699209118135905, 'sharpe': 1.5226551958240164})\n",
      "test ({'benchmark': 'ITB', 'alpha': 0.032179552666905344, 'beta': 0.045973512081158435, 'sharpe difference': 1.2304026562060428, 'annualizedReturn': 0.032515180951138589, 'annualizedVolatility': 0.023870470805046885, 'sharpe': 1.352429570435522}, {'benchmark': 'ITB', 'alpha': 0.09999367468290331, 'beta': 0.270836005410236, 'sharpe difference': 0.59520420382933092, 'annualizedReturn': 0.09505387808376442, 'annualizedVolatility': 0.14026701190034457, 'sharpe': 0.71723111805881001})\n",
      "15\n",
      "XHB\n"
     ]
    },
    {
     "name": "stderr",
     "output_type": "stream",
     "text": [
      "Process ForkProcess-377:\n",
      "  File \"/Users/patrickogrady/anaconda3/lib/python3.6/site-packages/pandas/core/indexing.py\", line 1325, in __getitem__\n",
      "    return self._getitem_tuple(key)\n",
      "Traceback (most recent call last):\n",
      "  File \"/Users/patrickogrady/anaconda3/lib/python3.6/multiprocessing/process.py\", line 249, in _bootstrap\n",
      "    self.run()\n",
      "  File \"/Users/patrickogrady/anaconda3/lib/python3.6/multiprocessing/process.py\", line 93, in run\n",
      "    self._target(*self._args, **self._kwargs)\n",
      "  File \"<ipython-input-161-44b81b9db6d6>\", line 7, in performPortfolioPerformanceEstimation\n",
      "    hrpReturns, weightsSeen = produceHRPPredictions(returnWindow,                126, startIndex=startIndex, maxWindowSize=False)\n",
      "  File \"<ipython-input-160-bdd8563466f0>\", line 17, in produceHRPPredictions\n",
      "    weights = hrp.getHRP(cov, corr)\n",
      "  File \"/Users/patrickogrady/Documents/CODE/walkforwardTrader/hrpPortfolioOpt.py\", line 98, in getHRP\n",
      "    hrp = getRecBipart(cov, sortIx)\n",
      "  File \"/Users/patrickogrady/Documents/CODE/walkforwardTrader/hrpPortfolioOpt.py\", line 74, in getRecBipart\n",
      "    cVar1 = getClusterVar(cov, cItems1)\n",
      "  File \"/Users/patrickogrady/Documents/CODE/walkforwardTrader/hrpPortfolioOpt.py\", line 39, in getClusterVar\n",
      "    cov_=cov.loc[cItems,cItems] # matrix slice\n",
      "  File \"/Users/patrickogrady/anaconda3/lib/python3.6/site-packages/pandas/core/indexing.py\", line 841, in _getitem_tuple\n",
      "    self._has_valid_tuple(tup)\n",
      "  File \"/Users/patrickogrady/anaconda3/lib/python3.6/site-packages/pandas/core/indexing.py\", line 189, in _has_valid_tuple\n",
      "    if not self._has_valid_type(k, i):\n",
      "  File \"/Users/patrickogrady/anaconda3/lib/python3.6/site-packages/pandas/core/indexing.py\", line 1415, in _has_valid_type\n",
      "    np.all(ax.get_indexer_for(key) < 0)):\n",
      "  File \"/Users/patrickogrady/anaconda3/lib/python3.6/site-packages/numpy/core/fromnumeric.py\", line 2050, in all\n",
      "    return arr.all(axis=axis, out=out, **kwargs)\n",
      "  File \"/Users/patrickogrady/anaconda3/lib/python3.6/site-packages/numpy/core/_methods.py\", line 41, in _all\n",
      "    return umr_all(a, axis, dtype, out, keepdims)\n",
      "KeyboardInterrupt\n"
     ]
    },
    {
     "ename": "KeyboardInterrupt",
     "evalue": "",
     "output_type": "error",
     "traceback": [
      "\u001b[0;31m---------------------------------------------------------------------------\u001b[0m",
      "\u001b[0;31mKeyboardInterrupt\u001b[0m                         Traceback (most recent call last)",
      "\u001b[0;32m<ipython-input-164-e23ee5a60b61>\u001b[0m in \u001b[0;36m<module>\u001b[0;34m()\u001b[0m\n\u001b[1;32m      2\u001b[0m \u001b[0;34m\u001b[0m\u001b[0m\n\u001b[1;32m      3\u001b[0m \u001b[0;31m##REMOVE BREAK TO DO FULL AUTO\u001b[0m\u001b[0;34m\u001b[0m\u001b[0;34m\u001b[0m\u001b[0m\n\u001b[0;32m----> 4\u001b[0;31m \u001b[0mcreatePossiblePortfoliosMP\u001b[0m\u001b[0;34m(\u001b[0m\u001b[0mcleanedPredictions\u001b[0m\u001b[0;34m,\u001b[0m \u001b[0mcleanedReturns\u001b[0m\u001b[0;34m,\u001b[0m \u001b[0mhashToModel\u001b[0m\u001b[0;34m,\u001b[0m \u001b[0mjoinedData\u001b[0m\u001b[0;34m,\u001b[0m \u001b[0mthreadsToUse\u001b[0m\u001b[0;34m=\u001b[0m\u001b[0;36m0\u001b[0m\u001b[0;34m)\u001b[0m\u001b[0;34m\u001b[0m\u001b[0m\n\u001b[0m",
      "\u001b[0;32m<ipython-input-163-0c15cff38756>\u001b[0m in \u001b[0;36mcreatePossiblePortfoliosMP\u001b[0;34m(cleanedPredictions, cleanedReturns, hashToModel, joinedData, threadsToUse)\u001b[0m\n\u001b[1;32m     10\u001b[0m         \u001b[0mprint\u001b[0m\u001b[0;34m(\u001b[0m\u001b[0mfactorToTrade\u001b[0m\u001b[0;34m)\u001b[0m\u001b[0;34m\u001b[0m\u001b[0m\n\u001b[1;32m     11\u001b[0m         \u001b[0;32mwhile\u001b[0m \u001b[0mlen\u001b[0m\u001b[0;34m(\u001b[0m\u001b[0mrunningP\u001b[0m\u001b[0;34m)\u001b[0m \u001b[0;34m>\u001b[0m \u001b[0mthreadsToUse\u001b[0m\u001b[0;34m:\u001b[0m\u001b[0;34m\u001b[0m\u001b[0m\n\u001b[0;32m---> 12\u001b[0;31m             \u001b[0mrunningP\u001b[0m \u001b[0;34m=\u001b[0m \u001b[0mdataAck\u001b[0m\u001b[0;34m.\u001b[0m\u001b[0mcycleP\u001b[0m\u001b[0;34m(\u001b[0m\u001b[0mrunningP\u001b[0m\u001b[0;34m)\u001b[0m\u001b[0;34m\u001b[0m\u001b[0m\n\u001b[0m\u001b[1;32m     13\u001b[0m \u001b[0;34m\u001b[0m\u001b[0m\n\u001b[1;32m     14\u001b[0m         \u001b[0mp\u001b[0m \u001b[0;34m=\u001b[0m \u001b[0mmpEngine\u001b[0m\u001b[0;34m.\u001b[0m\u001b[0mProcess\u001b[0m\u001b[0;34m(\u001b[0m\u001b[0mtarget\u001b[0m\u001b[0;34m=\u001b[0m\u001b[0mperformPortfolioPerformanceEstimation\u001b[0m\u001b[0;34m,\u001b[0m \u001b[0margs\u001b[0m\u001b[0;34m=\u001b[0m\u001b[0;34m(\u001b[0m\u001b[0mcleanedPredictions\u001b[0m\u001b[0;34m[\u001b[0m\u001b[0mselectedAlgorithms\u001b[0m\u001b[0;34m]\u001b[0m\u001b[0;34m,\u001b[0m                    \u001b[0mcleanedReturns\u001b[0m\u001b[0;34m[\u001b[0m\u001b[0mselectedAlgorithms\u001b[0m\u001b[0;34m]\u001b[0m\u001b[0;34m,\u001b[0m \u001b[0mfactorToTrade\u001b[0m\u001b[0;34m,\u001b[0m \u001b[0mhashToModel\u001b[0m\u001b[0;34m,\u001b[0m \u001b[0mjoinedData\u001b[0m\u001b[0;34m)\u001b[0m\u001b[0;34m)\u001b[0m\u001b[0;34m\u001b[0m\u001b[0m\n",
      "\u001b[0;32m/Users/patrickogrady/Documents/CODE/walkforwardTrader/dataAck.py\u001b[0m in \u001b[0;36mcycleP\u001b[0;34m(runningProcesses)\u001b[0m\n\u001b[1;32m     32\u001b[0m     \u001b[0mnewP\u001b[0m \u001b[0;34m=\u001b[0m \u001b[0;34m[\u001b[0m\u001b[0;34m]\u001b[0m\u001b[0;34m\u001b[0m\u001b[0m\n\u001b[1;32m     33\u001b[0m     \u001b[0;32mfor\u001b[0m \u001b[0mp\u001b[0m \u001b[0;32min\u001b[0m \u001b[0mrunningProcesses\u001b[0m\u001b[0;34m:\u001b[0m\u001b[0;34m\u001b[0m\u001b[0m\n\u001b[0;32m---> 34\u001b[0;31m         \u001b[0;32mif\u001b[0m \u001b[0mp\u001b[0m\u001b[0;34m.\u001b[0m\u001b[0mis_alive\u001b[0m\u001b[0;34m(\u001b[0m\u001b[0;34m)\u001b[0m \u001b[0;34m==\u001b[0m \u001b[0;32mTrue\u001b[0m\u001b[0;34m:\u001b[0m\u001b[0;34m\u001b[0m\u001b[0m\n\u001b[0m\u001b[1;32m     35\u001b[0m             \u001b[0mnewP\u001b[0m\u001b[0;34m.\u001b[0m\u001b[0mappend\u001b[0m\u001b[0;34m(\u001b[0m\u001b[0mp\u001b[0m\u001b[0;34m)\u001b[0m\u001b[0;34m\u001b[0m\u001b[0m\n\u001b[1;32m     36\u001b[0m         \u001b[0;32melse\u001b[0m\u001b[0;34m:\u001b[0m\u001b[0;34m\u001b[0m\u001b[0m\n",
      "\u001b[0;32m/Users/patrickogrady/anaconda3/lib/python3.6/multiprocessing/process.py\u001b[0m in \u001b[0;36mis_alive\u001b[0;34m(self)\u001b[0m\n\u001b[1;32m    132\u001b[0m         \u001b[0;32mif\u001b[0m \u001b[0mself\u001b[0m\u001b[0;34m.\u001b[0m\u001b[0m_popen\u001b[0m \u001b[0;32mis\u001b[0m \u001b[0;32mNone\u001b[0m\u001b[0;34m:\u001b[0m\u001b[0;34m\u001b[0m\u001b[0m\n\u001b[1;32m    133\u001b[0m             \u001b[0;32mreturn\u001b[0m \u001b[0;32mFalse\u001b[0m\u001b[0;34m\u001b[0m\u001b[0m\n\u001b[0;32m--> 134\u001b[0;31m         \u001b[0mself\u001b[0m\u001b[0;34m.\u001b[0m\u001b[0m_popen\u001b[0m\u001b[0;34m.\u001b[0m\u001b[0mpoll\u001b[0m\u001b[0;34m(\u001b[0m\u001b[0;34m)\u001b[0m\u001b[0;34m\u001b[0m\u001b[0m\n\u001b[0m\u001b[1;32m    135\u001b[0m         \u001b[0;32mreturn\u001b[0m \u001b[0mself\u001b[0m\u001b[0;34m.\u001b[0m\u001b[0m_popen\u001b[0m\u001b[0;34m.\u001b[0m\u001b[0mreturncode\u001b[0m \u001b[0;32mis\u001b[0m \u001b[0;32mNone\u001b[0m\u001b[0;34m\u001b[0m\u001b[0m\n\u001b[1;32m    136\u001b[0m \u001b[0;34m\u001b[0m\u001b[0m\n",
      "\u001b[0;32m/Users/patrickogrady/anaconda3/lib/python3.6/multiprocessing/popen_fork.py\u001b[0m in \u001b[0;36mpoll\u001b[0;34m(self, flag)\u001b[0m\n\u001b[1;32m     27\u001b[0m             \u001b[0;32mwhile\u001b[0m \u001b[0;32mTrue\u001b[0m\u001b[0;34m:\u001b[0m\u001b[0;34m\u001b[0m\u001b[0m\n\u001b[1;32m     28\u001b[0m                 \u001b[0;32mtry\u001b[0m\u001b[0;34m:\u001b[0m\u001b[0;34m\u001b[0m\u001b[0m\n\u001b[0;32m---> 29\u001b[0;31m                     \u001b[0mpid\u001b[0m\u001b[0;34m,\u001b[0m \u001b[0msts\u001b[0m \u001b[0;34m=\u001b[0m \u001b[0mos\u001b[0m\u001b[0;34m.\u001b[0m\u001b[0mwaitpid\u001b[0m\u001b[0;34m(\u001b[0m\u001b[0mself\u001b[0m\u001b[0;34m.\u001b[0m\u001b[0mpid\u001b[0m\u001b[0;34m,\u001b[0m \u001b[0mflag\u001b[0m\u001b[0;34m)\u001b[0m\u001b[0;34m\u001b[0m\u001b[0m\n\u001b[0m\u001b[1;32m     30\u001b[0m                 \u001b[0;32mexcept\u001b[0m \u001b[0mOSError\u001b[0m \u001b[0;32mas\u001b[0m \u001b[0me\u001b[0m\u001b[0;34m:\u001b[0m\u001b[0;34m\u001b[0m\u001b[0m\n\u001b[1;32m     31\u001b[0m                     \u001b[0;31m# Child process not yet created. See #1731717\u001b[0m\u001b[0;34m\u001b[0m\u001b[0;34m\u001b[0m\u001b[0m\n",
      "\u001b[0;31mKeyboardInterrupt\u001b[0m: "
     ]
    }
   ],
   "source": [
    "print(\"STARTING GENERATION\")\n",
    "\n",
    "##REMOVE BREAK TO DO FULL AUTO\n",
    "createPossiblePortfoliosMP(cleanedPredictions, cleanedReturns, hashToModel, joinedData, threadsToUse=0)"
   ]
  },
  {
   "cell_type": "code",
   "execution_count": null,
   "metadata": {
    "collapsed": true
   },
   "outputs": [],
   "source": []
  }
 ],
 "metadata": {
  "kernelspec": {
   "display_name": "Python 3",
   "language": "python",
   "name": "python3"
  },
  "language_info": {
   "codemirror_mode": {
    "name": "ipython",
    "version": 3
   },
   "file_extension": ".py",
   "mimetype": "text/x-python",
   "name": "python",
   "nbconvert_exporter": "python",
   "pygments_lexer": "ipython3",
   "version": "3.6.0"
  }
 },
 "nbformat": 4,
 "nbformat_minor": 2
}
