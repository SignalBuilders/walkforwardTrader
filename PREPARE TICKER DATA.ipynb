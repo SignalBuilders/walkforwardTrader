{
 "cells": [
  {
   "cell_type": "code",
   "execution_count": 8,
   "metadata": {
    "collapsed": true
   },
   "outputs": [],
   "source": [
    "import params\n",
    "from google.cloud import datastore, storage, logging\n",
    "import time\n",
    "import pickle\n",
    "import hashlib\n",
    "import sys\n",
    "import numpy as np\n",
    "import dataAck"
   ]
  },
  {
   "cell_type": "code",
   "execution_count": 9,
   "metadata": {
    "collapsed": false
   },
   "outputs": [],
   "source": [
    "def getAllDataSources():\n",
    "    \"\"\"\n",
    "    gets all tickers to use as sources for a given ticker\n",
    "\n",
    "    :param ticker: ticker to use in query\n",
    "\n",
    "    :returns: all applicable tickers\n",
    "\n",
    "    .. note:: this is based on looking at tradeable tickers that have low beta to the given ticker\n",
    "\n",
    "    \"\"\"\n",
    "    while True:\n",
    "        try:\n",
    "            datastore_client = datastore.Client('money-maker-1236')\n",
    "            query = datastore_client.query(kind=params.dataSourcesDatastoreName, projection=[\"applicable_ticker\"], distinct_on=[\"applicable_ticker\"])\n",
    "            retrievedDatasources = list(query.fetch())\n",
    "            toReturn = []\n",
    "            for source in retrievedDatasources:\n",
    "                toReturn.append(source[\"applicable_ticker\"])\n",
    "\n",
    "            return toReturn\n",
    "        except:\n",
    "            time.sleep(10)\n",
    "            print(\"DATA SOURCE RETRIEVAL ERROR:\", str(sys.exc_info()))"
   ]
  },
  {
   "cell_type": "code",
   "execution_count": 13,
   "metadata": {
    "collapsed": false
   },
   "outputs": [],
   "source": [
    "# len(getAllDataSources())\n",
    "dataSources = getAllDataSources()"
   ]
  },
  {
   "cell_type": "code",
   "execution_count": 15,
   "metadata": {
    "collapsed": false
   },
   "outputs": [
    {
     "data": {
      "text/plain": [
       "87"
      ]
     },
     "execution_count": 15,
     "metadata": {},
     "output_type": "execute_result"
    }
   ],
   "source": [
    "len(dataSources)"
   ]
  },
  {
   "cell_type": "code",
   "execution_count": 17,
   "metadata": {
    "collapsed": false,
    "scrolled": true
   },
   "outputs": [
    {
     "name": "stdout",
     "output_type": "stream",
     "text": [
      "['AGG', 'DIA', 'DVY', 'DXJ', 'EEM', 'EFA', 'EWC', 'EWG', 'EWH', 'EWJ', 'EWT', 'EWU', 'EWW', 'EWY', 'EWZ', 'FEZ', 'FXE', 'FXI', 'GDX', 'GLD', 'IAU', 'IBB', 'IEF', 'IJH', 'IJR', 'ILF', 'ITB', 'IVE', 'IVV', 'IVW', 'IWB', 'IWD', 'IWF', 'IWM', 'IWN', 'IWO', 'IWR', 'IYF', 'IYR', 'IYT', 'KBE', 'KRE', 'LQD', 'MDY', 'OEF', 'OIH', 'QLD', 'QQQ', 'RSP', 'SDS', 'SDY', 'SH', 'SHY', 'SLV', 'SMH', 'SOXX', 'SPY', 'SSO', 'TIP', 'TLT', 'USO', 'VB', 'VBR', 'VFH', 'VGK', 'VGT', 'VIG', 'VNQ', 'VO', 'VTI', 'VTV', 'VUG', 'VWO', 'XBI', 'XHB', 'XLB', 'XLE', 'XLF', 'XLI', 'XLK', 'XLP', 'XLU', 'XLV', 'XLY', 'XME', 'XOP', 'XRT']\n",
      "DXJ\n",
      "DVY\n",
      "AGG\n",
      "EEM\n",
      "EFA\n",
      "DIA\n",
      "EWG\n",
      "EWH\n",
      "EWC\n",
      "FXE\n",
      "EWT\n",
      "FXI\n",
      "EWZ\n",
      "EWY\n",
      "EWJ\n",
      "EWU\n",
      "FEZ\n",
      "EWW\n",
      "GDX\n",
      "GLD\n",
      "ITB\n",
      "IAU\n",
      "IEF\n",
      "ILF\n",
      "IBB\n",
      "IJH\n",
      "IJR\n",
      "IVE\n",
      "IVV\n",
      "IVW\n",
      "IWB\n",
      "IWD\n",
      "IWF\n",
      "IWM\n",
      "IWN\n",
      "IWO\n",
      "IWR\n",
      "IYF\n",
      "KBE\n",
      "IYT\n",
      "KRE\n",
      "IYR\n",
      "LQD\n",
      "OEF\n",
      "QLD\n",
      "MDY\n",
      "SDS\n",
      "OIH\n",
      "SDY\n",
      "RSP\n",
      "SH\n",
      "QQQ\n",
      "SLV\n",
      "SHY\n",
      "SSO\n",
      "TIP\n",
      "SOXX\n",
      "USO\n",
      "SMH\n",
      "TLT\n",
      "VB\n",
      "SPY\n",
      "VBR\n",
      "VGK\n",
      "VFH\n",
      "VIG\n",
      "VGT\n",
      "VNQ\n",
      "VO\n",
      "VTV\n",
      "XBI\n",
      "VUG\n",
      "VWO\n",
      "XHB\n",
      "VTI\n",
      "XLB\n",
      "XLE\n",
      "XLF\n",
      "XLI\n",
      "XLP\n",
      "XLK\n",
      "XLU\n",
      "XLV\n",
      "XLY\n",
      "XME\n",
      "XOP\n",
      "XRT\n"
     ]
    }
   ],
   "source": [
    "import params\n",
    "tickersToPull = dataSources\n",
    "print(tickersToPull)\n",
    "\n",
    "pulledData, validTickers = dataAck.downloadTickerData(tickersToPull)\n",
    "\n",
    "joinedData = dataAck.joinDatasets([pulledData[ticker] for ticker in pulledData])\n",
    "\n"
   ]
  },
  {
   "cell_type": "code",
   "execution_count": 19,
   "metadata": {
    "collapsed": false
   },
   "outputs": [
    {
     "name": "stdout",
     "output_type": "stream",
     "text": [
      "STORING ALL_TICKERS\n"
     ]
    }
   ],
   "source": [
    "import importlib\n",
    "importlib.reload(params)\n",
    "dataAck.storeTrainingData(params.tickerDataLookup, (joinedData, validTickers))"
   ]
  },
  {
   "cell_type": "code",
   "execution_count": null,
   "metadata": {
    "collapsed": true
   },
   "outputs": [],
   "source": []
  }
 ],
 "metadata": {
  "kernelspec": {
   "display_name": "Python 3",
   "language": "python",
   "name": "python3"
  },
  "language_info": {
   "codemirror_mode": {
    "name": "ipython",
    "version": 3
   },
   "file_extension": ".py",
   "mimetype": "text/x-python",
   "name": "python",
   "nbconvert_exporter": "python",
   "pygments_lexer": "ipython3",
   "version": "3.6.0"
  }
 },
 "nbformat": 4,
 "nbformat_minor": 2
}
