{
 "cells": [
  {
   "cell_type": "code",
   "execution_count": 1,
   "metadata": {
    "collapsed": true
   },
   "outputs": [],
   "source": [
    "import dataAck\n",
    "import portfolio\n",
    "allTickers = dataAck.getAllTickersPlain()\n"
   ]
  },
  {
   "cell_type": "code",
   "execution_count": null,
   "metadata": {
    "collapsed": true
   },
   "outputs": [],
   "source": [
    "while True:\n",
    "    import random\n",
    "    tickerToTrade = allTickers[random.randint(0, len(allTickers)) - 1]\n",
    "    print(tickerToTrade)\n",
    "\n",
    "    tickersToPull = dataAck.getDataSourcesForTicker(tickerToTrade)\n",
    "    print(tickersToPull)\n",
    "\n",
    "    pulledData, validTickers = dataAck.downloadTickerData(tickersToPull)\n",
    "\n",
    "    joinedData = dataAck.joinDatasets([pulledData[ticker] for ticker in pulledData])\n",
    "\n",
    "    sManager = dataAck.seriesManager(validTickers)\n",
    "    print(sManager.describe())\n",
    "\n",
    "    import time\n",
    "    import warnings\n",
    "    import numpy as np\n",
    "    warnings.filterwarnings(\"ignore\")\n",
    "    ##GET ALGOS INITIALLY GOOD\n",
    "    runsSeen = 0\n",
    "    while True:\n",
    "        s = sManager.createSeries()\n",
    "        while s.checkValidity(s.transformJoinedData(joinedData[:\"2016-01-01\"])) == False:\n",
    "            s = sManager.createSeries()\n",
    "\n",
    "        try:\n",
    "            for defaultWindowSize in [10, 22, 44]:\n",
    "                for trees in [25, 50, 100, 150]:\n",
    "                    for predictionLength in [2, 3, 5]:\n",
    "                        b = dataAck.algoBlob(s, defaultWindowSize, trees, predictionLength, tickerToTrade)\n",
    "                        algoReturn, factorReturn, predictions =  b.makePredictions(portfolio.prepareDataForModel(b, joinedData), daysToCheck = None, earlyStop = True)\n",
    "                        if algoReturn is None:\n",
    "                            dataAck.logModel(\"Skipped Model\", {\n",
    "                                \"message\":\"stopped model evaluation early\",\n",
    "                                \"seriesDescription\":str(b.describe())\n",
    "                            })\n",
    "                            continue\n",
    "                        metrics = dataAck.vizResults(algoReturn[:-252], factorReturn[:-252], False)\n",
    "                        print(\"TRAIN:\", metrics)\n",
    "                        if np.isnan(metrics[\"SHARPE\"]) == True:\n",
    "                            raise ValueError('SHARPE IS NAN SO FAULTY SERIES')\n",
    "                        if metrics[\"SHARPE\"] > 1.0 and metrics[\"ACTIVITY\"] > 0.7 and metrics[\"BETA\"] < 0.3:\n",
    "                            ##STORE\n",
    "                            testMetrics = dataAck.vizResults(algoReturn[-252:], factorReturn[-252:], False)\n",
    "                            print(\"TEST:\", testMetrics)\n",
    "                            print(\"TODAY:\", b.makeTodayPrediction(portfolio.prepareDataForModel(b, joinedData)))\n",
    "\n",
    "                            dataAck.storeModel(b, metrics, testMetrics)\n",
    "        except:\n",
    "            print(\"FAILED\", s.describe())\n",
    "            dataAck.logModel(\"Search Update\", {\n",
    "                \"message\":\"series failed\",\n",
    "                \"seriesDescription\":str(s.describe())\n",
    "            })\n",
    "            time.sleep(10)\n",
    "\n",
    "        runsSeen += 1\n",
    "\n",
    "        if runsSeen > 10:\n",
    "            ##START NEW TICKER\n",
    "            dataAck.logModel(\"Search Update\", {\n",
    "                \"message\":\"restarting search with different ticker\",\n",
    "                \"currentTicker\":tickerToTrade\n",
    "            })\n",
    "            break\n",
    "\n",
    "        "
   ]
  }
 ],
 "metadata": {
  "kernelspec": {
   "display_name": "Python 3",
   "language": "python",
   "name": "python3"
  },
  "language_info": {
   "codemirror_mode": {
    "name": "ipython",
    "version": 3
   },
   "file_extension": ".py",
   "mimetype": "text/x-python",
   "name": "python",
   "nbconvert_exporter": "python",
   "pygments_lexer": "ipython3",
   "version": "3.6.0"
  }
 },
 "nbformat": 4,
 "nbformat_minor": 2
}
